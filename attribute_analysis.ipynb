{
 "cells": [
  {
   "cell_type": "code",
   "execution_count": 124,
   "id": "aware-police",
   "metadata": {},
   "outputs": [],
   "source": [
    "import matplotlib.pyplot as plt\n",
    "import pandas\n",
    "\n",
    "df = pd.read_csv('data.csv')"
   ]
  },
  {
   "cell_type": "code",
   "execution_count": 125,
   "id": "daily-tooth",
   "metadata": {},
   "outputs": [
    {
     "data": {
      "text/html": [
       "<div>\n",
       "<style scoped>\n",
       "    .dataframe tbody tr th:only-of-type {\n",
       "        vertical-align: middle;\n",
       "    }\n",
       "\n",
       "    .dataframe tbody tr th {\n",
       "        vertical-align: top;\n",
       "    }\n",
       "\n",
       "    .dataframe thead th {\n",
       "        text-align: right;\n",
       "    }\n",
       "</style>\n",
       "<table border=\"1\" class=\"dataframe\">\n",
       "  <thead>\n",
       "    <tr style=\"text-align: right;\">\n",
       "      <th></th>\n",
       "      <th>Unnamed: 0</th>\n",
       "      <th>Unnamed: 0.1</th>\n",
       "      <th>Average Battery Life (in hours)</th>\n",
       "      <th>Batteries</th>\n",
       "      <th>Brand</th>\n",
       "      <th>Card Description</th>\n",
       "      <th>Chipset Brand</th>\n",
       "      <th>Color</th>\n",
       "      <th>Computer Memory Type</th>\n",
       "      <th>Flash Memory Size</th>\n",
       "      <th>...</th>\n",
       "      <th>Product Dimensions</th>\n",
       "      <th>RAM</th>\n",
       "      <th>Series</th>\n",
       "      <th>Standing screen display size</th>\n",
       "      <th>Wireless Type</th>\n",
       "      <th>price</th>\n",
       "      <th>rating</th>\n",
       "      <th>Hardware Platform</th>\n",
       "      <th>Screen Resolution</th>\n",
       "      <th>Package Dimensions</th>\n",
       "    </tr>\n",
       "  </thead>\n",
       "  <tbody>\n",
       "    <tr>\n",
       "      <th>0</th>\n",
       "      <td>0</td>\n",
       "      <td>0</td>\n",
       "      <td>10 Hours</td>\n",
       "      <td>1 Lithium Polymer batteries required. (included)</td>\n",
       "      <td>Acer</td>\n",
       "      <td>Integrated</td>\n",
       "      <td>AMD</td>\n",
       "      <td>Silver</td>\n",
       "      <td>DDR4 SDRAM</td>\n",
       "      <td>128</td>\n",
       "      <td>...</td>\n",
       "      <td>14.31 x 9.86 x 0.71 inches</td>\n",
       "      <td>4 GB DDR4</td>\n",
       "      <td>A515-46-R14K</td>\n",
       "      <td>15.6 Inches</td>\n",
       "      <td>Bluetooth</td>\n",
       "      <td>$399.00</td>\n",
       "      <td>4.6</td>\n",
       "      <td>NaN</td>\n",
       "      <td>NaN</td>\n",
       "      <td>NaN</td>\n",
       "    </tr>\n",
       "    <tr>\n",
       "      <th>1</th>\n",
       "      <td>1</td>\n",
       "      <td>1</td>\n",
       "      <td>6 Hours</td>\n",
       "      <td>1 Lithium ion batteries required. (included)</td>\n",
       "      <td>Acer</td>\n",
       "      <td>RTX 3060</td>\n",
       "      <td>NVIDIA</td>\n",
       "      <td>Black</td>\n",
       "      <td>DDR4 SDRAM</td>\n",
       "      <td>512</td>\n",
       "      <td>...</td>\n",
       "      <td>14.31 x 10.04 x 0.9 inches</td>\n",
       "      <td>16 GB DDR4</td>\n",
       "      <td>PH315-54-760S</td>\n",
       "      <td>15.6 Inches</td>\n",
       "      <td>802.11ax</td>\n",
       "      <td>$1,228.95</td>\n",
       "      <td>4.7</td>\n",
       "      <td>NaN</td>\n",
       "      <td>NaN</td>\n",
       "      <td>NaN</td>\n",
       "    </tr>\n",
       "    <tr>\n",
       "      <th>2</th>\n",
       "      <td>2</td>\n",
       "      <td>2</td>\n",
       "      <td>8 Hours</td>\n",
       "      <td>1 Lithium ion batteries required. (included)</td>\n",
       "      <td>HP</td>\n",
       "      <td>Integrated</td>\n",
       "      <td>Intel</td>\n",
       "      <td>Natural Silver</td>\n",
       "      <td>DDR4 SDRAM</td>\n",
       "      <td>512</td>\n",
       "      <td>...</td>\n",
       "      <td>14.18 x 9.21 x 0.7 inches</td>\n",
       "      <td>16 GB DDR4</td>\n",
       "      <td>HP Pavilion 15 Laptop</td>\n",
       "      <td>15.6 Inches</td>\n",
       "      <td>Bluetooth, 802.11ax</td>\n",
       "      <td>$1,029.97</td>\n",
       "      <td>4.6</td>\n",
       "      <td>PC</td>\n",
       "      <td>1920 x 1080 pixels</td>\n",
       "      <td>NaN</td>\n",
       "    </tr>\n",
       "    <tr>\n",
       "      <th>3</th>\n",
       "      <td>3</td>\n",
       "      <td>3</td>\n",
       "      <td>8 Hours</td>\n",
       "      <td>1 Lithium Polymer batteries required. (included)</td>\n",
       "      <td>HP</td>\n",
       "      <td>Integrated</td>\n",
       "      <td>Intel</td>\n",
       "      <td>Natural Silver</td>\n",
       "      <td>DDR4 SDRAM</td>\n",
       "      <td>256</td>\n",
       "      <td>...</td>\n",
       "      <td>14.11 x 9.53 x 0.71 inches</td>\n",
       "      <td>8 GB DDR4</td>\n",
       "      <td>HP 15 Laptop</td>\n",
       "      <td>15.6 Inches</td>\n",
       "      <td>Bluetooth, 802.11ax</td>\n",
       "      <td>$555.00</td>\n",
       "      <td>4.5</td>\n",
       "      <td>PC</td>\n",
       "      <td>1920 x 1080 pixels</td>\n",
       "      <td>NaN</td>\n",
       "    </tr>\n",
       "    <tr>\n",
       "      <th>4</th>\n",
       "      <td>4</td>\n",
       "      <td>4</td>\n",
       "      <td>10 Hours</td>\n",
       "      <td>1 Lithium Polymer batteries required. (included)</td>\n",
       "      <td>Lenovo</td>\n",
       "      <td>Integrated</td>\n",
       "      <td>Intel</td>\n",
       "      <td>Graphite Grey</td>\n",
       "      <td>DDR4 SDRAM</td>\n",
       "      <td>64</td>\n",
       "      <td>...</td>\n",
       "      <td>12.2 x 8.43 x 0.67 inches</td>\n",
       "      <td>4 GB DDR4</td>\n",
       "      <td>ChromeBook Flex 5 13\"</td>\n",
       "      <td>13.3 Inches</td>\n",
       "      <td>802.11ax</td>\n",
       "      <td>$342.99</td>\n",
       "      <td>4.5</td>\n",
       "      <td>Chrome</td>\n",
       "      <td>NaN</td>\n",
       "      <td>NaN</td>\n",
       "    </tr>\n",
       "    <tr>\n",
       "      <th>...</th>\n",
       "      <td>...</td>\n",
       "      <td>...</td>\n",
       "      <td>...</td>\n",
       "      <td>...</td>\n",
       "      <td>...</td>\n",
       "      <td>...</td>\n",
       "      <td>...</td>\n",
       "      <td>...</td>\n",
       "      <td>...</td>\n",
       "      <td>...</td>\n",
       "      <td>...</td>\n",
       "      <td>...</td>\n",
       "      <td>...</td>\n",
       "      <td>...</td>\n",
       "      <td>...</td>\n",
       "      <td>...</td>\n",
       "      <td>...</td>\n",
       "      <td>...</td>\n",
       "      <td>...</td>\n",
       "      <td>...</td>\n",
       "      <td>...</td>\n",
       "    </tr>\n",
       "    <tr>\n",
       "      <th>2597</th>\n",
       "      <td>2597</td>\n",
       "      <td>2597</td>\n",
       "      <td>NaN</td>\n",
       "      <td>NaN</td>\n",
       "      <td>MISC</td>\n",
       "      <td>Integrated</td>\n",
       "      <td>Intel</td>\n",
       "      <td>NaN</td>\n",
       "      <td>NaN</td>\n",
       "      <td>8</td>\n",
       "      <td>...</td>\n",
       "      <td>9.7 x 14.8 x 0.89 inches</td>\n",
       "      <td>NaN</td>\n",
       "      <td>NaN</td>\n",
       "      <td>15.6 Inches</td>\n",
       "      <td>801.11ac</td>\n",
       "      <td>NaN</td>\n",
       "      <td>Pre</td>\n",
       "      <td>NaN</td>\n",
       "      <td>NaN</td>\n",
       "      <td>NaN</td>\n",
       "    </tr>\n",
       "    <tr>\n",
       "      <th>2598</th>\n",
       "      <td>2598</td>\n",
       "      <td>2598</td>\n",
       "      <td>NaN</td>\n",
       "      <td>NaN</td>\n",
       "      <td>HP</td>\n",
       "      <td>Integrated</td>\n",
       "      <td>Intel</td>\n",
       "      <td>NaN</td>\n",
       "      <td>NaN</td>\n",
       "      <td>NaN</td>\n",
       "      <td>...</td>\n",
       "      <td>NaN</td>\n",
       "      <td>NaN</td>\n",
       "      <td>HPI-2Y472UT#ABA</td>\n",
       "      <td>13.3 Inches</td>\n",
       "      <td>NaN</td>\n",
       "      <td>NaN</td>\n",
       "      <td>Pre</td>\n",
       "      <td>NaN</td>\n",
       "      <td>NaN</td>\n",
       "      <td>18 x 12 x 1 inches</td>\n",
       "    </tr>\n",
       "    <tr>\n",
       "      <th>2599</th>\n",
       "      <td>2599</td>\n",
       "      <td>2599</td>\n",
       "      <td>NaN</td>\n",
       "      <td>NaN</td>\n",
       "      <td>HP</td>\n",
       "      <td>Integrated</td>\n",
       "      <td>Intel</td>\n",
       "      <td>NaN</td>\n",
       "      <td>NaN</td>\n",
       "      <td>32</td>\n",
       "      <td>...</td>\n",
       "      <td>NaN</td>\n",
       "      <td>NaN</td>\n",
       "      <td>HP Chromebook</td>\n",
       "      <td>14 Inches</td>\n",
       "      <td>Bluetooth, 802.11a</td>\n",
       "      <td>$316.99</td>\n",
       "      <td>Pre</td>\n",
       "      <td>NaN</td>\n",
       "      <td>NaN</td>\n",
       "      <td>1 x 1 x 1 inches</td>\n",
       "    </tr>\n",
       "    <tr>\n",
       "      <th>2600</th>\n",
       "      <td>2600</td>\n",
       "      <td>2600</td>\n",
       "      <td>NaN</td>\n",
       "      <td>NaN</td>\n",
       "      <td>HP</td>\n",
       "      <td>NaN</td>\n",
       "      <td>NaN</td>\n",
       "      <td>NaN</td>\n",
       "      <td>NaN</td>\n",
       "      <td>NaN</td>\n",
       "      <td>...</td>\n",
       "      <td>20 x 4 x 10 inches</td>\n",
       "      <td>NaN</td>\n",
       "      <td>Hp Notebook</td>\n",
       "      <td>15.6 Inches</td>\n",
       "      <td>NaN</td>\n",
       "      <td>NaN</td>\n",
       "      <td>Pre</td>\n",
       "      <td>NaN</td>\n",
       "      <td>NaN</td>\n",
       "      <td>NaN</td>\n",
       "    </tr>\n",
       "    <tr>\n",
       "      <th>2601</th>\n",
       "      <td>2601</td>\n",
       "      <td>2601</td>\n",
       "      <td>NaN</td>\n",
       "      <td>NaN</td>\n",
       "      <td>HP</td>\n",
       "      <td>NaN</td>\n",
       "      <td>NaN</td>\n",
       "      <td>NaN</td>\n",
       "      <td>NaN</td>\n",
       "      <td>NaN</td>\n",
       "      <td>...</td>\n",
       "      <td>20 x 4 x 13 inches</td>\n",
       "      <td>NaN</td>\n",
       "      <td>Hp Notebook</td>\n",
       "      <td>15.6 Inches</td>\n",
       "      <td>NaN</td>\n",
       "      <td>NaN</td>\n",
       "      <td>Pre</td>\n",
       "      <td>NaN</td>\n",
       "      <td>NaN</td>\n",
       "      <td>NaN</td>\n",
       "    </tr>\n",
       "  </tbody>\n",
       "</table>\n",
       "<p>2602 rows × 36 columns</p>\n",
       "</div>"
      ],
      "text/plain": [
       "      Unnamed: 0  Unnamed: 0.1 Average Battery Life (in hours)  \\\n",
       "0              0             0                        10 Hours   \n",
       "1              1             1                         6 Hours   \n",
       "2              2             2                         8 Hours   \n",
       "3              3             3                         8 Hours   \n",
       "4              4             4                        10 Hours   \n",
       "...          ...           ...                             ...   \n",
       "2597        2597          2597                             NaN   \n",
       "2598        2598          2598                             NaN   \n",
       "2599        2599          2599                             NaN   \n",
       "2600        2600          2600                             NaN   \n",
       "2601        2601          2601                             NaN   \n",
       "\n",
       "                                             Batteries   Brand  \\\n",
       "0     1 Lithium Polymer batteries required. (included)    Acer   \n",
       "1         1 Lithium ion batteries required. (included)    Acer   \n",
       "2         1 Lithium ion batteries required. (included)      HP   \n",
       "3     1 Lithium Polymer batteries required. (included)      HP   \n",
       "4     1 Lithium Polymer batteries required. (included)  Lenovo   \n",
       "...                                                ...     ...   \n",
       "2597                                               NaN    MISC   \n",
       "2598                                               NaN      HP   \n",
       "2599                                               NaN      HP   \n",
       "2600                                               NaN      HP   \n",
       "2601                                               NaN      HP   \n",
       "\n",
       "     Card Description Chipset Brand           Color Computer Memory Type  \\\n",
       "0          Integrated           AMD          Silver           DDR4 SDRAM   \n",
       "1            RTX 3060        NVIDIA           Black           DDR4 SDRAM   \n",
       "2          Integrated         Intel  Natural Silver           DDR4 SDRAM   \n",
       "3          Integrated         Intel  Natural Silver           DDR4 SDRAM   \n",
       "4          Integrated         Intel   Graphite Grey           DDR4 SDRAM   \n",
       "...               ...           ...             ...                  ...   \n",
       "2597       Integrated         Intel             NaN                  NaN   \n",
       "2598       Integrated         Intel             NaN                  NaN   \n",
       "2599       Integrated         Intel             NaN                  NaN   \n",
       "2600              NaN           NaN             NaN                  NaN   \n",
       "2601              NaN           NaN             NaN                  NaN   \n",
       "\n",
       "     Flash Memory Size  ...          Product Dimensions         RAM  \\\n",
       "0                  128  ...  14.31 x 9.86 x 0.71 inches   4 GB DDR4   \n",
       "1                  512  ...  14.31 x 10.04 x 0.9 inches  16 GB DDR4   \n",
       "2                  512  ...   14.18 x 9.21 x 0.7 inches  16 GB DDR4   \n",
       "3                  256  ...  14.11 x 9.53 x 0.71 inches   8 GB DDR4   \n",
       "4                   64  ...   12.2 x 8.43 x 0.67 inches   4 GB DDR4   \n",
       "...                ...  ...                         ...         ...   \n",
       "2597                 8  ...    9.7 x 14.8 x 0.89 inches         NaN   \n",
       "2598               NaN  ...                         NaN         NaN   \n",
       "2599                32  ...                         NaN         NaN   \n",
       "2600               NaN  ...          20 x 4 x 10 inches         NaN   \n",
       "2601               NaN  ...          20 x 4 x 13 inches         NaN   \n",
       "\n",
       "                     Series Standing screen display size        Wireless Type  \\\n",
       "0              A515-46-R14K                  15.6 Inches            Bluetooth   \n",
       "1             PH315-54-760S                  15.6 Inches             802.11ax   \n",
       "2     HP Pavilion 15 Laptop                  15.6 Inches  Bluetooth, 802.11ax   \n",
       "3              HP 15 Laptop                  15.6 Inches  Bluetooth, 802.11ax   \n",
       "4     ChromeBook Flex 5 13\"                  13.3 Inches             802.11ax   \n",
       "...                     ...                          ...                  ...   \n",
       "2597                    NaN                  15.6 Inches             801.11ac   \n",
       "2598        HPI-2Y472UT#ABA                  13.3 Inches                  NaN   \n",
       "2599          HP Chromebook                    14 Inches   Bluetooth, 802.11a   \n",
       "2600            Hp Notebook                  15.6 Inches                  NaN   \n",
       "2601            Hp Notebook                  15.6 Inches                  NaN   \n",
       "\n",
       "           price rating Hardware Platform   Screen Resolution  \\\n",
       "0       $399.00     4.6               NaN                 NaN   \n",
       "1     $1,228.95     4.7               NaN                 NaN   \n",
       "2     $1,029.97     4.6                PC  1920 x 1080 pixels   \n",
       "3       $555.00     4.5                PC  1920 x 1080 pixels   \n",
       "4       $342.99     4.5            Chrome                 NaN   \n",
       "...          ...    ...               ...                 ...   \n",
       "2597         NaN    Pre               NaN                 NaN   \n",
       "2598         NaN    Pre               NaN                 NaN   \n",
       "2599    $316.99     Pre               NaN                 NaN   \n",
       "2600         NaN    Pre               NaN                 NaN   \n",
       "2601         NaN    Pre               NaN                 NaN   \n",
       "\n",
       "      Package Dimensions  \n",
       "0                    NaN  \n",
       "1                    NaN  \n",
       "2                    NaN  \n",
       "3                    NaN  \n",
       "4                    NaN  \n",
       "...                  ...  \n",
       "2597                 NaN  \n",
       "2598  18 x 12 x 1 inches  \n",
       "2599    1 x 1 x 1 inches  \n",
       "2600                 NaN  \n",
       "2601                 NaN  \n",
       "\n",
       "[2602 rows x 36 columns]"
      ]
     },
     "execution_count": 125,
     "metadata": {},
     "output_type": "execute_result"
    }
   ],
   "source": [
    "df"
   ]
  },
  {
   "cell_type": "code",
   "execution_count": 126,
   "id": "dense-opportunity",
   "metadata": {
    "scrolled": true
   },
   "outputs": [],
   "source": [
    "df = df.loc[df.count(1) > df.shape[1]/2, df.count(0) > df.shape[0]/2]"
   ]
  },
  {
   "cell_type": "code",
   "execution_count": 127,
   "id": "wooden-grave",
   "metadata": {},
   "outputs": [],
   "source": [
    "df = df.drop(['Unnamed: 0', 'Unnamed: 0.1'], axis=1)"
   ]
  },
  {
   "cell_type": "code",
   "execution_count": 128,
   "id": "first-reward",
   "metadata": {
    "scrolled": false
   },
   "outputs": [
    {
     "data": {
      "text/html": [
       "<div>\n",
       "<style scoped>\n",
       "    .dataframe tbody tr th:only-of-type {\n",
       "        vertical-align: middle;\n",
       "    }\n",
       "\n",
       "    .dataframe tbody tr th {\n",
       "        vertical-align: top;\n",
       "    }\n",
       "\n",
       "    .dataframe thead th {\n",
       "        text-align: right;\n",
       "    }\n",
       "</style>\n",
       "<table border=\"1\" class=\"dataframe\">\n",
       "  <thead>\n",
       "    <tr style=\"text-align: right;\">\n",
       "      <th></th>\n",
       "      <th>Batteries</th>\n",
       "      <th>Brand</th>\n",
       "      <th>Card Description</th>\n",
       "      <th>Chipset Brand</th>\n",
       "      <th>Color</th>\n",
       "      <th>Computer Memory Type</th>\n",
       "      <th>Flash Memory Size</th>\n",
       "      <th>Graphics Coprocessor</th>\n",
       "      <th>Hard Drive</th>\n",
       "      <th>Hard Drive Interface</th>\n",
       "      <th>...</th>\n",
       "      <th>Processor Brand</th>\n",
       "      <th>Processor Count</th>\n",
       "      <th>Product Dimensions</th>\n",
       "      <th>RAM</th>\n",
       "      <th>Series</th>\n",
       "      <th>Standing screen display size</th>\n",
       "      <th>Wireless Type</th>\n",
       "      <th>price</th>\n",
       "      <th>rating</th>\n",
       "      <th>Hardware Platform</th>\n",
       "    </tr>\n",
       "  </thead>\n",
       "  <tbody>\n",
       "    <tr>\n",
       "      <th>0</th>\n",
       "      <td>1 Lithium Polymer batteries required. (included)</td>\n",
       "      <td>Acer</td>\n",
       "      <td>Integrated</td>\n",
       "      <td>AMD</td>\n",
       "      <td>Silver</td>\n",
       "      <td>DDR4 SDRAM</td>\n",
       "      <td>128</td>\n",
       "      <td>AMD Radeon Vega 6 Mobile Graphics</td>\n",
       "      <td>128 GB SSD</td>\n",
       "      <td>Solid State</td>\n",
       "      <td>...</td>\n",
       "      <td>AMD</td>\n",
       "      <td>4.0</td>\n",
       "      <td>14.31 x 9.86 x 0.71 inches</td>\n",
       "      <td>4 GB DDR4</td>\n",
       "      <td>A515-46-R14K</td>\n",
       "      <td>15.6 Inches</td>\n",
       "      <td>Bluetooth</td>\n",
       "      <td>$399.00</td>\n",
       "      <td>4.6</td>\n",
       "      <td>NaN</td>\n",
       "    </tr>\n",
       "    <tr>\n",
       "      <th>1</th>\n",
       "      <td>1 Lithium ion batteries required. (included)</td>\n",
       "      <td>Acer</td>\n",
       "      <td>RTX 3060</td>\n",
       "      <td>NVIDIA</td>\n",
       "      <td>Black</td>\n",
       "      <td>DDR4 SDRAM</td>\n",
       "      <td>512</td>\n",
       "      <td>NaN</td>\n",
       "      <td>SSD</td>\n",
       "      <td>Solid State</td>\n",
       "      <td>...</td>\n",
       "      <td>Intel</td>\n",
       "      <td>8.0</td>\n",
       "      <td>14.31 x 10.04 x 0.9 inches</td>\n",
       "      <td>16 GB DDR4</td>\n",
       "      <td>PH315-54-760S</td>\n",
       "      <td>15.6 Inches</td>\n",
       "      <td>802.11ax</td>\n",
       "      <td>$1,228.95</td>\n",
       "      <td>4.7</td>\n",
       "      <td>NaN</td>\n",
       "    </tr>\n",
       "    <tr>\n",
       "      <th>2</th>\n",
       "      <td>1 Lithium ion batteries required. (included)</td>\n",
       "      <td>HP</td>\n",
       "      <td>Integrated</td>\n",
       "      <td>Intel</td>\n",
       "      <td>Natural Silver</td>\n",
       "      <td>DDR4 SDRAM</td>\n",
       "      <td>512</td>\n",
       "      <td>Intel Iris</td>\n",
       "      <td>512 GB SSD</td>\n",
       "      <td>NaN</td>\n",
       "      <td>...</td>\n",
       "      <td>Intel</td>\n",
       "      <td>4.0</td>\n",
       "      <td>14.18 x 9.21 x 0.7 inches</td>\n",
       "      <td>16 GB DDR4</td>\n",
       "      <td>HP Pavilion 15 Laptop</td>\n",
       "      <td>15.6 Inches</td>\n",
       "      <td>Bluetooth, 802.11ax</td>\n",
       "      <td>$1,029.97</td>\n",
       "      <td>4.6</td>\n",
       "      <td>PC</td>\n",
       "    </tr>\n",
       "    <tr>\n",
       "      <th>3</th>\n",
       "      <td>1 Lithium Polymer batteries required. (included)</td>\n",
       "      <td>HP</td>\n",
       "      <td>Integrated</td>\n",
       "      <td>Intel</td>\n",
       "      <td>Natural Silver</td>\n",
       "      <td>DDR4 SDRAM</td>\n",
       "      <td>256</td>\n",
       "      <td>Intel Iris</td>\n",
       "      <td>512 GB SSD</td>\n",
       "      <td>Solid State</td>\n",
       "      <td>...</td>\n",
       "      <td>Intel</td>\n",
       "      <td>4.0</td>\n",
       "      <td>14.11 x 9.53 x 0.71 inches</td>\n",
       "      <td>8 GB DDR4</td>\n",
       "      <td>HP 15 Laptop</td>\n",
       "      <td>15.6 Inches</td>\n",
       "      <td>Bluetooth, 802.11ax</td>\n",
       "      <td>$555.00</td>\n",
       "      <td>4.5</td>\n",
       "      <td>PC</td>\n",
       "    </tr>\n",
       "    <tr>\n",
       "      <th>4</th>\n",
       "      <td>1 Lithium Polymer batteries required. (included)</td>\n",
       "      <td>Lenovo</td>\n",
       "      <td>Integrated</td>\n",
       "      <td>Intel</td>\n",
       "      <td>Graphite Grey</td>\n",
       "      <td>DDR4 SDRAM</td>\n",
       "      <td>64</td>\n",
       "      <td>Intel Integrated Graphics</td>\n",
       "      <td>64 GB flash memory solid state</td>\n",
       "      <td>NaN</td>\n",
       "      <td>...</td>\n",
       "      <td>Intel</td>\n",
       "      <td>1.0</td>\n",
       "      <td>12.2 x 8.43 x 0.67 inches</td>\n",
       "      <td>4 GB DDR4</td>\n",
       "      <td>ChromeBook Flex 5 13\"</td>\n",
       "      <td>13.3 Inches</td>\n",
       "      <td>802.11ax</td>\n",
       "      <td>$342.99</td>\n",
       "      <td>4.5</td>\n",
       "      <td>Chrome</td>\n",
       "    </tr>\n",
       "    <tr>\n",
       "      <th>...</th>\n",
       "      <td>...</td>\n",
       "      <td>...</td>\n",
       "      <td>...</td>\n",
       "      <td>...</td>\n",
       "      <td>...</td>\n",
       "      <td>...</td>\n",
       "      <td>...</td>\n",
       "      <td>...</td>\n",
       "      <td>...</td>\n",
       "      <td>...</td>\n",
       "      <td>...</td>\n",
       "      <td>...</td>\n",
       "      <td>...</td>\n",
       "      <td>...</td>\n",
       "      <td>...</td>\n",
       "      <td>...</td>\n",
       "      <td>...</td>\n",
       "      <td>...</td>\n",
       "      <td>...</td>\n",
       "      <td>...</td>\n",
       "      <td>...</td>\n",
       "    </tr>\n",
       "    <tr>\n",
       "      <th>2593</th>\n",
       "      <td>NaN</td>\n",
       "      <td>Dell</td>\n",
       "      <td>UHD Graphics 620, Integrated</td>\n",
       "      <td>Intel</td>\n",
       "      <td>Carbon Fiber</td>\n",
       "      <td>DDR4 SDRAM</td>\n",
       "      <td>NaN</td>\n",
       "      <td>Intel UHD Graphics 620</td>\n",
       "      <td>128 GB Flash Memory Solid State</td>\n",
       "      <td>NaN</td>\n",
       "      <td>...</td>\n",
       "      <td>Intel</td>\n",
       "      <td>1.0</td>\n",
       "      <td>0.8 x 8.5 x 12.7 inches</td>\n",
       "      <td>NaN</td>\n",
       "      <td>Latitude 5000</td>\n",
       "      <td>14 Inches</td>\n",
       "      <td>Bluetooth, 802.11ac</td>\n",
       "      <td>NaN</td>\n",
       "      <td>Pre</td>\n",
       "      <td>Chrome OS</td>\n",
       "    </tr>\n",
       "    <tr>\n",
       "      <th>2594</th>\n",
       "      <td>NaN</td>\n",
       "      <td>HP</td>\n",
       "      <td>Integrated</td>\n",
       "      <td>Intel</td>\n",
       "      <td>NaN</td>\n",
       "      <td>NaN</td>\n",
       "      <td>NaN</td>\n",
       "      <td>NaN</td>\n",
       "      <td>SSD</td>\n",
       "      <td>NaN</td>\n",
       "      <td>...</td>\n",
       "      <td>Intel</td>\n",
       "      <td>1.0</td>\n",
       "      <td>8.5 x 12.7 x 0.75 inches</td>\n",
       "      <td>NaN</td>\n",
       "      <td>HPI-1D0F2UT#ABA</td>\n",
       "      <td>14 Inches</td>\n",
       "      <td>NaN</td>\n",
       "      <td>$2,321.27</td>\n",
       "      <td>Pre</td>\n",
       "      <td>NaN</td>\n",
       "    </tr>\n",
       "    <tr>\n",
       "      <th>2596</th>\n",
       "      <td>NaN</td>\n",
       "      <td>MISC</td>\n",
       "      <td>Integrated</td>\n",
       "      <td>Intel</td>\n",
       "      <td>NaN</td>\n",
       "      <td>DDR4 SDRAM</td>\n",
       "      <td>NaN</td>\n",
       "      <td>NaN</td>\n",
       "      <td>SSD</td>\n",
       "      <td>NaN</td>\n",
       "      <td>...</td>\n",
       "      <td>NaN</td>\n",
       "      <td>1.0</td>\n",
       "      <td>9.7 x 14.8 x 0.89 inches</td>\n",
       "      <td>NaN</td>\n",
       "      <td>HPI-153V9UT#ABA</td>\n",
       "      <td>15.6 Inches</td>\n",
       "      <td>NaN</td>\n",
       "      <td>NaN</td>\n",
       "      <td>Pre</td>\n",
       "      <td>PC</td>\n",
       "    </tr>\n",
       "    <tr>\n",
       "      <th>2597</th>\n",
       "      <td>NaN</td>\n",
       "      <td>MISC</td>\n",
       "      <td>Integrated</td>\n",
       "      <td>Intel</td>\n",
       "      <td>NaN</td>\n",
       "      <td>NaN</td>\n",
       "      <td>8</td>\n",
       "      <td>NaN</td>\n",
       "      <td>SSD</td>\n",
       "      <td>NaN</td>\n",
       "      <td>...</td>\n",
       "      <td>Intel</td>\n",
       "      <td>1.0</td>\n",
       "      <td>9.7 x 14.8 x 0.89 inches</td>\n",
       "      <td>NaN</td>\n",
       "      <td>NaN</td>\n",
       "      <td>15.6 Inches</td>\n",
       "      <td>801.11ac</td>\n",
       "      <td>NaN</td>\n",
       "      <td>Pre</td>\n",
       "      <td>NaN</td>\n",
       "    </tr>\n",
       "    <tr>\n",
       "      <th>2599</th>\n",
       "      <td>NaN</td>\n",
       "      <td>HP</td>\n",
       "      <td>Integrated</td>\n",
       "      <td>Intel</td>\n",
       "      <td>NaN</td>\n",
       "      <td>NaN</td>\n",
       "      <td>32</td>\n",
       "      <td>NaN</td>\n",
       "      <td>SSD</td>\n",
       "      <td>USB 3.1</td>\n",
       "      <td>...</td>\n",
       "      <td>Intel</td>\n",
       "      <td>1.0</td>\n",
       "      <td>NaN</td>\n",
       "      <td>NaN</td>\n",
       "      <td>HP Chromebook</td>\n",
       "      <td>14 Inches</td>\n",
       "      <td>Bluetooth, 802.11a</td>\n",
       "      <td>$316.99</td>\n",
       "      <td>Pre</td>\n",
       "      <td>NaN</td>\n",
       "    </tr>\n",
       "  </tbody>\n",
       "</table>\n",
       "<p>2468 rows × 28 columns</p>\n",
       "</div>"
      ],
      "text/plain": [
       "                                             Batteries   Brand  \\\n",
       "0     1 Lithium Polymer batteries required. (included)    Acer   \n",
       "1         1 Lithium ion batteries required. (included)    Acer   \n",
       "2         1 Lithium ion batteries required. (included)      HP   \n",
       "3     1 Lithium Polymer batteries required. (included)      HP   \n",
       "4     1 Lithium Polymer batteries required. (included)  Lenovo   \n",
       "...                                                ...     ...   \n",
       "2593                                               NaN    Dell   \n",
       "2594                                               NaN      HP   \n",
       "2596                                               NaN    MISC   \n",
       "2597                                               NaN    MISC   \n",
       "2599                                               NaN      HP   \n",
       "\n",
       "                  Card Description Chipset Brand           Color  \\\n",
       "0                       Integrated           AMD          Silver   \n",
       "1                         RTX 3060        NVIDIA           Black   \n",
       "2                       Integrated         Intel  Natural Silver   \n",
       "3                       Integrated         Intel  Natural Silver   \n",
       "4                       Integrated         Intel   Graphite Grey   \n",
       "...                            ...           ...             ...   \n",
       "2593  UHD Graphics 620, Integrated         Intel    Carbon Fiber   \n",
       "2594                    Integrated         Intel             NaN   \n",
       "2596                    Integrated         Intel             NaN   \n",
       "2597                    Integrated         Intel             NaN   \n",
       "2599                    Integrated         Intel             NaN   \n",
       "\n",
       "     Computer Memory Type Flash Memory Size  \\\n",
       "0              DDR4 SDRAM               128   \n",
       "1              DDR4 SDRAM               512   \n",
       "2              DDR4 SDRAM               512   \n",
       "3              DDR4 SDRAM               256   \n",
       "4              DDR4 SDRAM                64   \n",
       "...                   ...               ...   \n",
       "2593           DDR4 SDRAM               NaN   \n",
       "2594                  NaN               NaN   \n",
       "2596           DDR4 SDRAM               NaN   \n",
       "2597                  NaN                 8   \n",
       "2599                  NaN                32   \n",
       "\n",
       "                   Graphics Coprocessor                       Hard Drive  \\\n",
       "0     AMD Radeon Vega 6 Mobile Graphics                       128 GB SSD   \n",
       "1                                   NaN                              SSD   \n",
       "2                            Intel Iris                       512 GB SSD   \n",
       "3                            Intel Iris                       512 GB SSD   \n",
       "4             Intel Integrated Graphics   64 GB flash memory solid state   \n",
       "...                                 ...                              ...   \n",
       "2593             Intel UHD Graphics 620  128 GB Flash Memory Solid State   \n",
       "2594                                NaN                              SSD   \n",
       "2596                                NaN                              SSD   \n",
       "2597                                NaN                              SSD   \n",
       "2599                                NaN                              SSD   \n",
       "\n",
       "     Hard Drive Interface  ... Processor Brand Processor Count  \\\n",
       "0             Solid State  ...             AMD             4.0   \n",
       "1             Solid State  ...           Intel             8.0   \n",
       "2                     NaN  ...           Intel             4.0   \n",
       "3             Solid State  ...           Intel             4.0   \n",
       "4                     NaN  ...           Intel             1.0   \n",
       "...                   ...  ...             ...             ...   \n",
       "2593                  NaN  ...           Intel             1.0   \n",
       "2594                  NaN  ...           Intel             1.0   \n",
       "2596                  NaN  ...             NaN             1.0   \n",
       "2597                  NaN  ...           Intel             1.0   \n",
       "2599              USB 3.1  ...           Intel             1.0   \n",
       "\n",
       "              Product Dimensions         RAM                 Series  \\\n",
       "0     14.31 x 9.86 x 0.71 inches   4 GB DDR4           A515-46-R14K   \n",
       "1     14.31 x 10.04 x 0.9 inches  16 GB DDR4          PH315-54-760S   \n",
       "2      14.18 x 9.21 x 0.7 inches  16 GB DDR4  HP Pavilion 15 Laptop   \n",
       "3     14.11 x 9.53 x 0.71 inches   8 GB DDR4           HP 15 Laptop   \n",
       "4      12.2 x 8.43 x 0.67 inches   4 GB DDR4  ChromeBook Flex 5 13\"   \n",
       "...                          ...         ...                    ...   \n",
       "2593     0.8 x 8.5 x 12.7 inches         NaN          Latitude 5000   \n",
       "2594    8.5 x 12.7 x 0.75 inches         NaN        HPI-1D0F2UT#ABA   \n",
       "2596    9.7 x 14.8 x 0.89 inches         NaN        HPI-153V9UT#ABA   \n",
       "2597    9.7 x 14.8 x 0.89 inches         NaN                    NaN   \n",
       "2599                         NaN         NaN          HP Chromebook   \n",
       "\n",
       "     Standing screen display size        Wireless Type       price rating  \\\n",
       "0                     15.6 Inches            Bluetooth    $399.00     4.6   \n",
       "1                     15.6 Inches             802.11ax  $1,228.95     4.7   \n",
       "2                     15.6 Inches  Bluetooth, 802.11ax  $1,029.97     4.6   \n",
       "3                     15.6 Inches  Bluetooth, 802.11ax    $555.00     4.5   \n",
       "4                     13.3 Inches             802.11ax    $342.99     4.5   \n",
       "...                           ...                  ...         ...    ...   \n",
       "2593                    14 Inches  Bluetooth, 802.11ac         NaN    Pre   \n",
       "2594                    14 Inches                  NaN  $2,321.27     Pre   \n",
       "2596                  15.6 Inches                  NaN         NaN    Pre   \n",
       "2597                  15.6 Inches             801.11ac         NaN    Pre   \n",
       "2599                    14 Inches   Bluetooth, 802.11a    $316.99     Pre   \n",
       "\n",
       "      Hardware Platform  \n",
       "0                   NaN  \n",
       "1                   NaN  \n",
       "2                    PC  \n",
       "3                    PC  \n",
       "4                Chrome  \n",
       "...                 ...  \n",
       "2593          Chrome OS  \n",
       "2594                NaN  \n",
       "2596                 PC  \n",
       "2597                NaN  \n",
       "2599                NaN  \n",
       "\n",
       "[2468 rows x 28 columns]"
      ]
     },
     "execution_count": 128,
     "metadata": {},
     "output_type": "execute_result"
    }
   ],
   "source": [
    "df"
   ]
  },
  {
   "cell_type": "markdown",
   "id": "conservative-talent",
   "metadata": {},
   "source": [
    "## List of Columns (Attributes)"
   ]
  },
  {
   "cell_type": "code",
   "execution_count": 129,
   "id": "addressed-collaboration",
   "metadata": {
    "scrolled": false
   },
   "outputs": [
    {
     "name": "stdout",
     "output_type": "stream",
     "text": [
      "Batteries\n",
      "Brand\n",
      "Card Description\n",
      "Chipset Brand\n",
      "Color\n",
      "Computer Memory Type\n",
      "Flash Memory Size\n",
      "Graphics Coprocessor\n",
      "Hard Drive\n",
      "Hard Drive Interface\n",
      "Item Dimensions  LxWxH\n",
      "Item Weight\n",
      "Item model number\n",
      "Max Screen Resolution\n",
      "Memory Speed\n",
      "Operating System\n",
      "Power Source\n",
      "Processor\n",
      "Processor Brand\n",
      "Processor Count\n",
      "Product Dimensions\n",
      "RAM\n",
      "Series\n",
      "Standing screen display size\n",
      "Wireless Type\n",
      "price\n",
      "rating\n",
      "Hardware Platform\n"
     ]
    }
   ],
   "source": [
    "for column in df.columns:\n",
    "    print(column)"
   ]
  },
  {
   "cell_type": "markdown",
   "id": "intended-police",
   "metadata": {},
   "source": [
    "# Description of each attribute"
   ]
  },
  {
   "cell_type": "markdown",
   "id": "computational-change",
   "metadata": {},
   "source": [
    "## 01. Batteries"
   ]
  },
  {
   "cell_type": "code",
   "execution_count": 130,
   "id": "internal-bunch",
   "metadata": {},
   "outputs": [
    {
     "data": {
      "text/plain": [
       "<AxesSubplot:>"
      ]
     },
     "execution_count": 130,
     "metadata": {},
     "output_type": "execute_result"
    },
    {
     "data": {
      "image/png": "[encoded data removed]",
      "text/plain": [
       "<Figure size 432x288 with 1 Axes>"
      ]
     },
     "metadata": {
      "needs_background": "light"
     },
     "output_type": "display_data"
    }
   ],
   "source": [
    "# Top 10 Most common battery types\n",
    "\n",
    "fig, ax = plt.subplots()\n",
    "df['Batteries'].value_counts()[:10].plot(ax=ax, kind='bar')"
   ]
  },
  {
   "cell_type": "code",
   "execution_count": 131,
   "id": "harmful-consumption",
   "metadata": {},
   "outputs": [
    {
     "data": {
      "text/plain": [
       "array(['1 Lithium Polymer batteries required. (included)',\n",
       "       '1 Lithium ion batteries required. (included)', nan,\n",
       "       '1 Lithium Metal batteries required. (included)',\n",
       "       '2 Lithium ion batteries required. (included)',\n",
       "       '1 Lithium ion batteries required.',\n",
       "       '2 AA batteries required. (included)',\n",
       "       '1 Lithium Polymer batteries required.',\n",
       "       '1 AA batteries required.', '1 A batteries required. (included)',\n",
       "       '1 Lithium Metal batteries required.',\n",
       "       '4 Lithium ion batteries required. (included)',\n",
       "       '1 C batteries required. (included)',\n",
       "       '1 Product Specific batteries required. (included)',\n",
       "       '1 A batteries required.', '1 9V batteries required. (included)',\n",
       "       '2 C batteries required. (included)',\n",
       "       '2 Lithium ion batteries required.', '1 9V batteries required.',\n",
       "       '4 Lithium ion batteries required.',\n",
       "       '1 Unknown batteries required. (included)',\n",
       "       '1 AAA batteries required.',\n",
       "       '1 AAA batteries required. (included)',\n",
       "       '3 Lithium ion batteries required. (included)',\n",
       "       '6 Lithium ion batteries required. (included)',\n",
       "       '1 12V batteries required. (included)',\n",
       "       '3 Lithium Polymer batteries required. (included)',\n",
       "       '4 C batteries required. (included)',\n",
       "       '1 AA batteries required. (included)',\n",
       "       '3 Lithium Polymer batteries required.',\n",
       "       '1 12V batteries required.',\n",
       "       '2 Lithium Polymer batteries required. (included)',\n",
       "       'Lithium ion batteries required. (included)',\n",
       "       '100 Lithium ion batteries required. (included)',\n",
       "       '2 C batteries required.', '1 CR5 batteries required. (included)',\n",
       "       '3 Lithium ion batteries required.', '3 AAA batteries required.',\n",
       "       '6 Lithium Polymer batteries required. (included)',\n",
       "       '4 Lithium Polymer batteries required. (included)',\n",
       "       '2 Lithium Metal batteries required. (included)',\n",
       "       '4 Lithium Polymer batteries required.'], dtype=object)"
      ]
     },
     "execution_count": 131,
     "metadata": {},
     "output_type": "execute_result"
    }
   ],
   "source": [
    "# Domain:\n",
    "\n",
    "df.Batteries.unique()"
   ]
  },
  {
   "cell_type": "markdown",
   "id": "single-magic",
   "metadata": {},
   "source": [
    "### This column is Discrete and Nominal\n",
    "\n",
    "#### Description: Type of battery used in each specific laptop\n"
   ]
  },
  {
   "cell_type": "markdown",
   "id": "collect-donna",
   "metadata": {},
   "source": [
    "## 02. Brand"
   ]
  },
  {
   "cell_type": "code",
   "execution_count": 132,
   "id": "regulation-rendering",
   "metadata": {},
   "outputs": [
    {
     "data": {
      "text/plain": [
       "<AxesSubplot:>"
      ]
     },
     "execution_count": 132,
     "metadata": {},
     "output_type": "execute_result"
    },
    {
     "data": {
      "image/png": "[encoded data removed]",
      "text/plain": [
       "<Figure size 432x288 with 1 Axes>"
      ]
     },
     "metadata": {
      "needs_background": "light"
     },
     "output_type": "display_data"
    }
   ],
   "source": [
    "# Top 15 Most common brand of laptops\n",
    "\n",
    "fig, ax = plt.subplots()\n",
    "df['Brand'].value_counts()[:15].plot(ax=ax, kind='bar')"
   ]
  },
  {
   "cell_type": "code",
   "execution_count": 133,
   "id": "above-attendance",
   "metadata": {},
   "outputs": [
    {
     "data": {
      "text/plain": [
       "array(['Acer', 'HP', 'Lenovo', 'ASUS', 'Razer', 'MSI',\n",
       "       'Samsung Electronics', 'Dell', 'LG', 'Coolby', 'BiTECOOL',\n",
       "       'GIGABYTE', 'ALLDOCUBE', 'Winnovo', 'Oemgenuine', 'Jumper',\n",
       "       'Google', 'N\\\\W', 'Huashe', 'N&N', 'CHUWI', 'Basrdis', 'AimCare',\n",
       "       'TECLAST', 'Computer Upgrade King', 'Toughbook', 'Broage', 'Bmax',\n",
       "       'Fusion5', 'Geekplus', 'Lily Rose Tech', 'LincPlus', 'OMEN', 'LPT',\n",
       "       'Gateway', 'VivoBook', 'SHOXLAB', 'Eluktronics', 'LG Gram',\n",
       "       'Avita', 'Teclast', 'Toshiba', 'WAKST', 'Shoxlab', 'Goldengulf',\n",
       "       'OMMOTECH', 'SKY PC', 'TOPOSH', 'Sager', 'Yonader', 'HAOMA',\n",
       "       'LLLCCORP', 'Alienware', 'HBESTORE', 'DERE', 'Lsxvern',\n",
       "       'YELLYOUTH', 'Pavoma', 'IProda', 'Legendary Computer', 'Thomson',\n",
       "       'DaySky', '6 Goodlife623', 'Smart-US', 'YITAOERA', 'Nowco', 'VAIO',\n",
       "       'Unknown', 'Venturer', 'AWOW', 'Tocosy', 'Best 2 in 1 Laptop',\n",
       "       'PROSTAR', 'XINYANGCH', 'N\\\\C', 'N\\\\', 'HSW', 'Emerald Computers',\n",
       "       'CyberpowerPC', 'Microsoft', 'MSI Inc.', 'TMM', 'Latitude', 'VGKE',\n",
       "       'KJD', 'VUCATIMES', 'RCA', 'Ubrand', 'Evoo', 'Vgsion', 'Oydisen',\n",
       "       'Asus Laptops', 'SZTPSLS', 'Tablets & Computers', 'DYNABOOK',\n",
       "       'XPG', 'ISTYLE', 'Red Sea', 'AVENTIS', 'MDK', 'TELA', 'Panasonic',\n",
       "       'Honor', 'VideoToyBox', 'Azpen', 'Meet-GT', 'MISC', 'Fedemer',\n",
       "       'Best Notebook', 'Klick Online', 'Xinera',\n",
       "       'Hewlett Packard Enterprise', 'Generic', 'Bordell', 'Ansxiy',\n",
       "       'N/W', 'IdeaPad', 'ELZU.US', 'Anthenn', 'DP', 'LENOVO PREMIUM',\n",
       "       'HYUNDAI', 'VASTKING', 'ITSOHOO'], dtype=object)"
      ]
     },
     "execution_count": 133,
     "metadata": {},
     "output_type": "execute_result"
    }
   ],
   "source": [
    "# Domain:\n",
    "\n",
    "df.Brand.unique()"
   ]
  },
  {
   "cell_type": "markdown",
   "id": "engaged-belly",
   "metadata": {},
   "source": [
    "### This column is Discrete and Nominal\n",
    "\n",
    "#### Description: brand of manufacturer of each specific laptop\n"
   ]
  },
  {
   "cell_type": "markdown",
   "id": "enabling-reach",
   "metadata": {},
   "source": [
    "## 03. Card Description"
   ]
  },
  {
   "cell_type": "code",
   "execution_count": 134,
   "id": "dressed-anderson",
   "metadata": {},
   "outputs": [
    {
     "data": {
      "text/plain": [
       "<AxesSubplot:>"
      ]
     },
     "execution_count": 134,
     "metadata": {},
     "output_type": "execute_result"
    },
    {
     "data": {
      "image/png": "[encoded data removed]",
      "text/plain": [
       "<Figure size 432x288 with 1 Axes>"
      ]
     },
     "metadata": {
      "needs_background": "light"
     },
     "output_type": "display_data"
    }
   ],
   "source": [
    "# Top 10 Most common card description\n",
    "\n",
    "fig, ax = plt.subplots()\n",
    "df['Card Description'].value_counts()[:10].plot(ax=ax, kind='bar')"
   ]
  },
  {
   "cell_type": "code",
   "execution_count": 135,
   "id": "moving-lexington",
   "metadata": {},
   "outputs": [
    {
     "data": {
      "text/plain": [
       "array(['Integrated', 'RTX 3060', 'Dedicated', 'GeForce RTX 3050 Ti',\n",
       "       'GeForce RTX 3070', nan, 'NVIDA GeForce MX450', 'RTX 2060',\n",
       "       'Intel Iris Xe Graphics, Dedicated', 'GeForce RTX 3060',\n",
       "       'GeForce RTX 3080', 'UMA', 'Intel Iris Xe',\n",
       "       'GeForce RTX 2070 SUPER', 'Iris® Xe', 'NVIDIA GeForce RTX3060',\n",
       "       '集成', 'NVIDIA MX450', 'Intel® Iris® Xe Graphics',\n",
       "       'Nvidia Quadro RTX 5000',\n",
       "       'NVIDIA GeForce RTX 2070 with Max-Q design', 'Intel UHD Graphics',\n",
       "       'Iris Xe Graphics', 'RTX 2070 Super', 'Intel HD/IGP, Integrated',\n",
       "       'Mediatek', 'Intel UHD Graphics 600',\n",
       "       'Integrated AMD Radeon Graphics', 'Radeon Vega 7',\n",
       "       'NVIDIA GTX 1650Ti', 'Integrated, Dedicated',\n",
       "       'Intel Iris X Graphics',\n",
       "       'NVIDIA® GeForce RTX™ 3070 w/Max-Q design (8 GB)',\n",
       "       'NVIDIA RTX 2080 Super', 'Intel Integrated Graphics, Integrated',\n",
       "       'NVIDIA® GeForce® RTX™ 3080 with Max-Q 16GB', 'RTX 2070 Max-Q',\n",
       "       'Intel Iris Xᵉ Graphics Integrated', 'AMD Radeon Vega 8 Graphics',\n",
       "       'Intel Iris Xe Graphics', 'GeForce RTX 2060', 'Radeon R3 Graphics',\n",
       "       'NVIDIA Quadro T2000 4GB', 'UHD Graphics 600',\n",
       "       'NVIDIA GeForce GTX 1660 Ti 6GB Graphics', 'UHD Graphics',\n",
       "       'GeForce GTX 1660Ti', 'NVIDIA GeForce GTX 1650', 'Radeon Graphics',\n",
       "       'NVIDIA(R) GeForce RTX(TM) 3060 6GB GDDR6', 'GeForce RTX 3050',\n",
       "       'Intel UHD Graphics 605', 'AMD Radeon Vega 3 Graphics',\n",
       "       'AMD Radeon Vega 3', 'Intel-HD/IGP, Integrated',\n",
       "       'NVIDIA GeForce RTX 2070', 'Integrated Intel UHD Graphics 600',\n",
       "       'AMD Radeon R4 Graphics, Dedicated',\n",
       "       'Integrated Intel® Iris® Xe Graphics', 'Ntel UHD Graphics 600',\n",
       "       'Intel® UHD Graphics and Quadro P520',\n",
       "       'Intel UHD Graphics 600 / Integrated, Integrated',\n",
       "       'UHD Graphics 610', 'NVIDIA RTX 2070', 'UHD Graphics 605',\n",
       "       'Shared', 'HD Graphics, Integrated', 'GeForce GTX 1650 Max-Q',\n",
       "       'UHD Graphics 620, Integrated'], dtype=object)"
      ]
     },
     "execution_count": 135,
     "metadata": {},
     "output_type": "execute_result"
    }
   ],
   "source": [
    "# Domain:\n",
    "\n",
    "df['Card Description'].unique()"
   ]
  },
  {
   "cell_type": "markdown",
   "id": "first-ladder",
   "metadata": {},
   "source": [
    "### This column is Discrete and Nominal\n",
    "\n",
    "#### Description: Type of GPU used in each specific laptop this attribute can be treated as binary (Integrated or dedicated)\n"
   ]
  },
  {
   "cell_type": "markdown",
   "id": "martial-carrier",
   "metadata": {},
   "source": [
    "## 04. Chipset Brand"
   ]
  },
  {
   "cell_type": "code",
   "execution_count": 136,
   "id": "hidden-moldova",
   "metadata": {},
   "outputs": [
    {
     "data": {
      "text/plain": [
       "<AxesSubplot:>"
      ]
     },
     "execution_count": 136,
     "metadata": {},
     "output_type": "execute_result"
    },
    {
     "data": {
      "image/png": "[encoded data removed]",
      "text/plain": [
       "<Figure size 432x288 with 1 Axes>"
      ]
     },
     "metadata": {
      "needs_background": "light"
     },
     "output_type": "display_data"
    }
   ],
   "source": [
    "# Top 10 Most common Chipset Brands\n",
    "\n",
    "fig, ax = plt.subplots()\n",
    "df['Chipset Brand'].value_counts()[:10].plot(ax=ax, kind='bar')"
   ]
  },
  {
   "cell_type": "code",
   "execution_count": 137,
   "id": "regular-volunteer",
   "metadata": {},
   "outputs": [
    {
     "data": {
      "text/plain": [
       "array(['AMD', 'NVIDIA', 'Intel', 'PowerVR', nan, 'Integrated', 'MediaTek',\n",
       "       'Allwinner', 'ARM', 'Intel Iris Xe Graphics',\n",
       "       'EDP/DP/HDMI/MIPI-DSI', 'RTX 2070 Max-Q', 'Chromebook',\n",
       "       'Mediatech', 'Qualcomm', 'HP', 'Imagination PowerVR', 'IBM', 'A',\n",
       "       'Amd', 'Shared', 'NVIDIA Quadro P520', 'GX6250',\n",
       "       'NVIDIA GeForce GTX 1660 Ti', 'Inter', 'NVIDIA GeForce GTX 1650',\n",
       "       'NVIDIA GeForce 940MX', 'Teradici', 'AMD Radeo Vega 8', 'Hp',\n",
       "       'VIA'], dtype=object)"
      ]
     },
     "execution_count": 137,
     "metadata": {},
     "output_type": "execute_result"
    }
   ],
   "source": [
    "# Domain:\n",
    "\n",
    "df['Chipset Brand'].unique()"
   ]
  },
  {
   "cell_type": "markdown",
   "id": "social-saver",
   "metadata": {},
   "source": [
    "### This column is Discrete and Nominal\n",
    "\n",
    "#### Description: Chipset Brand used in each specific laptop\n"
   ]
  },
  {
   "cell_type": "markdown",
   "id": "occasional-stomach",
   "metadata": {},
   "source": [
    "## 05. Color"
   ]
  },
  {
   "cell_type": "code",
   "execution_count": 138,
   "id": "modular-happening",
   "metadata": {},
   "outputs": [
    {
     "data": {
      "text/plain": [
       "<AxesSubplot:>"
      ]
     },
     "execution_count": 138,
     "metadata": {},
     "output_type": "execute_result"
    },
    {
     "data": {
      "image/png": "[encoded data removed]",
      "text/plain": [
       "<Figure size 432x288 with 1 Axes>"
      ]
     },
     "metadata": {
      "needs_background": "light"
     },
     "output_type": "display_data"
    }
   ],
   "source": [
    "# Top 20 Most common Colors\n",
    "\n",
    "fig, ax = plt.subplots()\n",
    "df['Color'].value_counts()[:20].plot(ax=ax, kind='bar')"
   ]
  },
  {
   "cell_type": "code",
   "execution_count": 139,
   "id": "sapphire-graph",
   "metadata": {},
   "outputs": [
    {
     "data": {
      "text/plain": [
       "array(['Silver', 'Black', 'Natural Silver', 'Graphite Grey',\n",
       "       'Transparent Silver', 'Eclipse Grey', 'Onyx Black',\n",
       "       'Mineral Silver', nan, 'Blizzard White', 'Abyss Blue',\n",
       "       'Carbon Gray', 'Original Black', 'Business Black', 'Core Black',\n",
       "       'Ceramic White', 'Royal Blue', 'Snow White', 'Slate Gray',\n",
       "       'Ash Gray', 'Mystic Blue', 'Gold', 'Gray', 'Eclipse Gray',\n",
       "       'Slate Grey', 'Bonfire Black', 'Platinum Gray', 'Celestial Blue',\n",
       "       'BLACK, GREEN', 'Platinum Titan', 'Gray J4125', 'Rose Gold', 'Red',\n",
       "       'Light Titan', 'Grey', 'Indigo Blue', 'Sliver', 'Platinum Grey',\n",
       "       'Aluminum Black', 'Jade Black', 'Indie Black', 'Jet Black',\n",
       "       'Pale Gold', 'Obsidian Black', 'Mercury White', 'Phantom Black',\n",
       "       'Off Black', 'Iron Grey', 'Platinum Silver', 'Sandstorm',\n",
       "       'Just Black', 'Almond', 'Grey 13.3 inch', 'Blue', 'Mica',\n",
       "       'Scarlet Red', 'Ice Blue + Iron Grey', 'Steel Gray', 'Pine Grey',\n",
       "       'Snowflake white', 'Classic Black', 'Rose Pink', 'Natural silver',\n",
       "       'Citrus Soda Yellow', 'White', 'Mineral Grey', 'Dark Grey',\n",
       "       'Stealth Silver', 'Pale rose gold', 'Black/Silver', 'Jet black',\n",
       "       'White/Silver', 'Sand', 'S13A-Space Grey', 'Shadow Black',\n",
       "       'Mineral Gray', 'Mist Blue', '17 inch FHD', 'Nightfall Black',\n",
       "       'AMD Athlonn N3050', 'Sparkly Silver', 'Storm Gray',\n",
       "       'Mineral silver with matte finish', 'Purple',\n",
       "       'Platinum Silver 15.6 Fully loaded', 'Chalkboard Gray',\n",
       "       'Fiesta Red', 'Deep Green', 'AI Blue',\n",
       "       'Non-Touch | i3-7130U | 128GB SSD', 'Light Grey', 'Electro Punk',\n",
       "       'Diamond White', 'Non-Touchscreen', 'Titanium Blue', 'Forest Teal',\n",
       "       'Pure Silver', 'Platinum Silver with Black Palmrest',\n",
       "       'Eclipse Grey Color', 'Accent Black', 'Sugar RED', 'Rose gold',\n",
       "       'Light Gray', 'Pink', 'Windows 10 Pro', 'Dark Moss',\n",
       "       'Forest teal with matte finish', 'Cherry red', 'Dune', 'Ink Black',\n",
       "       'Iron Gray', 'Silver | N5030', 'Platinum grey', 'Moonlight White',\n",
       "       'Pine Grey/Lilac Mist', 'AMD Ryzen 3 3250',\n",
       "       '15.6\" | AERO 15 OLED |2019', 'Platinum Gray/IMR', 'Blue-2GB',\n",
       "       'Horizon Blue', 'Pale Rose Gold', 'Cloud Silver', 'Titanium Gray',\n",
       "       'Gray | MT8183', 'Star Black', 'GPD Pocket 2(Amber Black)',\n",
       "       'Whisper Silver', 'Silver 6G+64G', 'Ice Blue', 'Snowflake',\n",
       "       'Moss Green', 'Beige Mousse', 'GTX 1650-R7 4800HS-16GB/1TB',\n",
       "       'Bronze', 'Cloud Blue', 'GPD P2 Max(Amber Black)',\n",
       "       'White 4 GB RAM + 64 GB ROM', 'Platinum Silver, Black interior',\n",
       "       'Green', 'Charcoal Gray', 'Charcoal Blue',\n",
       "       'Ceramic White/Mineral Silver,', 'Bespoke Black', 'Silver 8G+128G',\n",
       "       'Storm Grey', '灰色', 'Silver 8G+256G', 'Space Gray', 'Navy',\n",
       "       'Snowflake White', 'Gun Metal Gray', 'Titanium', 'Arctic Grey',\n",
       "       'Platinum', '银色', 'Shale Black', 'Pale gold',\n",
       "       'Grey | Ryzen 3 3250U', 'Carbon Fiber', '128gb SSD', 'Mica Silver',\n",
       "       'Blue (6GB+128GB, 2 Core)', 'Dark blue', '黑色', 'Dark Orchid',\n",
       "       'Intel Celeron N4020', 'Luminous Gold',\n",
       "       'Phantom Grey with speckles', '4G', 'GTX 1660 Ti',\n",
       "       'Flaming Copper', 'Sand Pink', 'Teal',\n",
       "       'AORUS 15G - Alloy + Mech Keyboard', 'Anodized Titan Gray',\n",
       "       'Dark Gery', '\\u200eSparkly Silver', 'Brilliant Black',\n",
       "       'Argento 8G+128G', '\\u200eLight Titan', 'Graphite Black',\n",
       "       'Blue Silver', 'Natural Silver/Ash Silver', 'AERO 15X',\n",
       "       'Silver Premier Screen', 'Balck', 'White | N4000', 'Dark Silver',\n",
       "       'Black/grey', 'Black/gray', 'NEW', 'Moonstone White', 'Gold Metal',\n",
       "       'Royal Silver', 'Epic Silver', 'Dark Blue',\n",
       "       'Shadow Black, Surface Treatment with Leather', 'Carbon Black',\n",
       "       'Metallic Black', 'Pure White', 'Steel gray', 'Ink Blue',\n",
       "       'Natural Silver/Diamond Cut Design', 'Brown/Black', 'Smoke Gray',\n",
       "       'Silver Gray', 'Warm Gold', 'Mystic Silver', 'Aluminium',\n",
       "       'Titan Gray', 'Platinum Silver, Black'], dtype=object)"
      ]
     },
     "execution_count": 139,
     "metadata": {},
     "output_type": "execute_result"
    }
   ],
   "source": [
    "# Domain:\n",
    "\n",
    "df.Color.unique()"
   ]
  },
  {
   "cell_type": "markdown",
   "id": "waiting-estimate",
   "metadata": {},
   "source": [
    "### This column is Discrete and Nominal\n",
    "\n",
    "#### Description: Color of each laptop\n"
   ]
  },
  {
   "cell_type": "markdown",
   "id": "herbal-broad",
   "metadata": {},
   "source": [
    "## 06. Computer Memory Type"
   ]
  },
  {
   "cell_type": "code",
   "execution_count": 140,
   "id": "enhanced-schema",
   "metadata": {},
   "outputs": [
    {
     "data": {
      "text/plain": [
       "<AxesSubplot:>"
      ]
     },
     "execution_count": 140,
     "metadata": {},
     "output_type": "execute_result"
    },
    {
     "data": {
      "image/png": "[encoded data removed]",
      "text/plain": [
       "<Figure size 432x288 with 1 Axes>"
      ]
     },
     "metadata": {
      "needs_background": "light"
     },
     "output_type": "display_data"
    }
   ],
   "source": [
    "# Top 15 Most common  Memory Types\n",
    "\n",
    "fig, ax = plt.subplots()\n",
    "df['Computer Memory Type'].value_counts()[:15].plot(ax=ax, kind='bar')"
   ]
  },
  {
   "cell_type": "code",
   "execution_count": 141,
   "id": "looking-welcome",
   "metadata": {},
   "outputs": [
    {
     "data": {
      "text/plain": [
       "array(['DDR4 SDRAM', nan, 'Unknown', 'SDRAM', 'DDR3 SDRAM', 'SODIMM',\n",
       "       'DDR DRAM', 'DDR SDRAM', 'DDR2 SDRAM', 'DDR3L-1600 SDRAM', 'GDDR3',\n",
       "       'GDDR4', 'RDRAM', 'SDRAM, DDR4 SDRAM', 'DRAM', 'DIMM', 'Shared',\n",
       "       'GDDR5', 'EDO DRAM', 'SIMM'], dtype=object)"
      ]
     },
     "execution_count": 141,
     "metadata": {},
     "output_type": "execute_result"
    }
   ],
   "source": [
    "# Domain:\n",
    "\n",
    "df['Computer Memory Type'].unique()"
   ]
  },
  {
   "cell_type": "markdown",
   "id": "pressing-bacteria",
   "metadata": {},
   "source": [
    "### This column is Discrete and Nominal\n",
    "\n",
    "#### Description: Type of  Memory used in each specific laptop\n"
   ]
  },
  {
   "cell_type": "markdown",
   "id": "optimum-flooring",
   "metadata": {},
   "source": [
    "## 07. Flash Memory Size"
   ]
  },
  {
   "cell_type": "code",
   "execution_count": 142,
   "id": "growing-milwaukee",
   "metadata": {},
   "outputs": [
    {
     "data": {
      "text/plain": [
       "<AxesSubplot:>"
      ]
     },
     "execution_count": 142,
     "metadata": {},
     "output_type": "execute_result"
    },
    {
     "data": {
      "image/png": "[encoded data removed]",
      "text/plain": [
       "<Figure size 432x288 with 1 Axes>"
      ]
     },
     "metadata": {
      "needs_background": "light"
     },
     "output_type": "display_data"
    }
   ],
   "source": [
    "# Top 20 Most common Memory Size\n",
    "\n",
    "fig, ax = plt.subplots()\n",
    "df['Flash Memory Size'].value_counts()[:20].plot(ax=ax, kind='bar')"
   ]
  },
  {
   "cell_type": "code",
   "execution_count": 143,
   "id": "universal-journalism",
   "metadata": {},
   "outputs": [
    {
     "data": {
      "text/plain": [
       "array(['128', '512', '256', '64', '32', '4', nan, '8', '16', '1',\n",
       "       '512 GB', '256 GB', '64 GB', '128 GB', '16 GB', '32 GB', '1 TB',\n",
       "       '6 GB', '240 GB', '2 TB', '2', '2242 GB', '500 GB', '0.01', '2 GB',\n",
       "       '12 GB', '0.1', '1 GB', '3', '12', '240', '6', '80', '500', '8 GB',\n",
       "       '250 GB', '4 GB', '1024', '1.6', '0.11'], dtype=object)"
      ]
     },
     "execution_count": 143,
     "metadata": {},
     "output_type": "execute_result"
    }
   ],
   "source": [
    "# Domain:\n",
    "\n",
    "df['Flash Memory Size'].unique()"
   ]
  },
  {
   "cell_type": "markdown",
   "id": "accessory-operations",
   "metadata": {},
   "source": [
    "### This column is Continuous and Numeric (Ordered)\n",
    "\n",
    "#### Description: Size of memory used in each specific laptop\n"
   ]
  },
  {
   "cell_type": "markdown",
   "id": "conventional-roberts",
   "metadata": {},
   "source": [
    "## 08. Graphics processor"
   ]
  },
  {
   "cell_type": "code",
   "execution_count": 186,
   "id": "purple-persian",
   "metadata": {},
   "outputs": [
    {
     "data": {
      "text/plain": [
       "<AxesSubplot:>"
      ]
     },
     "execution_count": 186,
     "metadata": {},
     "output_type": "execute_result"
    },
    {
     "data": {
      "image/png": "[encoded data removed]",
      "text/plain": [
       "<Figure size 432x288 with 1 Axes>"
      ]
     },
     "metadata": {
      "needs_background": "light"
     },
     "output_type": "display_data"
    }
   ],
   "source": [
    "# Top 15 Most common Graphics processor\n",
    "\n",
    "fig, ax = plt.subplots()\n",
    "df['Graphics Coprocessor'].value_counts()[:15].plot(ax=ax, kind='bar')"
   ]
  },
  {
   "cell_type": "code",
   "execution_count": 145,
   "id": "funded-scanner",
   "metadata": {
    "scrolled": false
   },
   "outputs": [
    {
     "data": {
      "text/plain": [
       "array(['AMD Radeon Vega 6 Mobile Graphics', nan, 'Intel Iris',\n",
       "       'Intel Integrated Graphics', 'NVIDIA GeForce RTX 3050',\n",
       "       'NVIDIA GeForce GTX 3050 Ti', 'Intel UHD Graphics 605',\n",
       "       'AMD Integrated Graphics', 'Intel UHD Graphics 600',\n",
       "       'Intel Iris Xe', 'AMD Radeon', 'NVIDIA GeForce RTX 3060',\n",
       "       'PowerVR SGX543', 'Nvidia RTX 3060', 'NVIDIA GeForce RTX 3070',\n",
       "       'Intel UHD Graphics', 'PowerVR GX6250', 'Intel', 'Nvidia RTX 3070',\n",
       "       'AMD Radeon Graphics', 'Intel HD Graphics 500',\n",
       "       'Intel UHD Graphics 620', 'Radeon™ RX Vega 10 Graphics',\n",
       "       'MediaTek', 'NVIDIA GeForce MX450 with 2GB GDDR6',\n",
       "       'NVIDIA GeForce RTX 3050Ti', 'NVIDIA GeForce GTX 1650 Ti',\n",
       "       'Intel Iris Xe Graphics', 'NVIDIA® GeForce® RTX 2060',\n",
       "       'NVIDIA GeForce RTX 3050 Ti', 'Nvidia GTX 1650',\n",
       "       'Intel UHD Graphics with shared graphics memory',\n",
       "       'Intel Iris Graphics 550', 'Intel® Iris® Xe Graphics',\n",
       "       'Integrated AMD Radeon 7 Graphics', 'NVIDIA GeForce MX450',\n",
       "       'Intel Iris Plus Graphics', 'UHD Graphics 600',\n",
       "       'NVIDIA GeForce RTX 2060', 'Intel HD Graphics 615',\n",
       "       'Integrated Intel Iris X Graphics', 'Intel® Iris Xe Graphics',\n",
       "       'Intel HD Graphics', 'NVIDIA GeForce RTX 3080',\n",
       "       'AMD Radeon Series', 'Nvidia RTX 2070 Super',\n",
       "       'Integrated AMD Radeon Graphics', 'AMD Radeon Vega 3',\n",
       "       'Intel Iris Xᵉ Graphics', 'RTX 3070', 'AMD Radeon™ Graphics',\n",
       "       'NVIDIA® GeForce® RTX 2070 SUPER™', 'NVIDIA GeForce GTX 1650',\n",
       "       'Chromebook', 'NVIDIA GeForce', 'Intel UHD Graphics 350MHz-800MHz',\n",
       "       'NVIDIA GeForce RTX 2070 Max-Q', 'NVIDIA GeForce GTX 1660Ti',\n",
       "       'Integrated Intel Iris Plus Graphics', '\\u200eIntegrated',\n",
       "       'Xe graphics', 'Intel UHD', 'Amd', 'Intel® UHD Graphics',\n",
       "       'Intel HD Graphic', 'Integrated Intel UHD Graphics',\n",
       "       'Intel UHD Graphcis', 'MediaTek Integrated Graphics',\n",
       "       'NVIDIA GeForce GTX 1650 Ti 4GB GDDR6', 'Integreted',\n",
       "       'Integrated Intel Graphics', 'AMD Radeon Vega 8',\n",
       "       'NVIDIA® GeForce RTX™ 3060 6GB GDDR6', 'Mali_30',\n",
       "       'NVIDIA GeForce GTX 1650 Ti Max-Q', 'NVIDIA RTX 2070', '400',\n",
       "       'Intel uhd', 'INTEL', 'GeForce RTX 3060', 'Intel HD Graphics 505',\n",
       "       'NVIDIA RTX 3080', 'Nvidia', 'Integrated Intel® Iris® Xe Graphics',\n",
       "       'Intel® UHD Graphics for 11th Gen Intel® Processors',\n",
       "       'Intel HD Graphics 6000', 'Intel HD Graphics 620', 'Iris Plus 655',\n",
       "       'Intel(R) UHD Graphics', 'NVIDIA® Quadro® RTX 5000', '1',\n",
       "       'Integrated Graphics', 'NVIDIA® Quadro® T500 4GB',\n",
       "       'AMD Radeon RX Vega 10', 'NVIDIA GeForce RTX 2070',\n",
       "       'J Intel® Iris® Xe Graphics', 'Intel Iris Graphics', 'Integrated',\n",
       "       'NVIDIA GeForce RTX3060 Max-Q', 'GeForce GTX 1650Ti',\n",
       "       'Integrated AMD Radeon™ Graphics', 'NVIDIA RTX 3050 4GB GDDR6',\n",
       "       'Intel HD Graphics 5000', 'AMD Radeon R5',\n",
       "       'Integrated Radeon Vega 8 Graphics', 'NVIDIA® GeForce RTX™ 3080',\n",
       "       'Intel HD Graphics 610', 'GTX 1650 Ti', 'Intel HD Graphics 400',\n",
       "       'Arm Mali-G72 MP3', 'AMD Radeon™ Vega 8 Graphics',\n",
       "       'NVIDIA GeForce GTX 1650 4GB GDDR6', 'AMD', 'Radeon',\n",
       "       '\\u200eIntel(R) UHD Graphics 600', 'NVIDIA',\n",
       "       '\\u200eIntegrated Intel UHD Graphics', '2.4 GHz Intel Core i3',\n",
       "       'HD Graphics 500', 'NVIDIA® GeForce RTX™ 2060',\n",
       "       'Integrated Intel® UHD Graphics', 'NVIDIA® GeForce RTX™ 2070',\n",
       "       'GeForce RTX 2070', 'NVIDIA Quadro RTX 5000 Studio Edition',\n",
       "       'NVIDIA® GeForce® GTX 1650 Ti 4GB',\n",
       "       'AMD Radeon Graphics with shared graphics memory',\n",
       "       '\\u200eIntel UHD Graphics 600', 'G', 'Iris Xe Graphics',\n",
       "       'Intel HD Graphics 5500', 'AMD Radeon R4 Series', 'Intel graphics',\n",
       "       'Intel UHD Graphic', 'AMD Radeon 7 Graphics',\n",
       "       'Intel Iris Graphics 540', 'Integrated Intel Iris Xe Graphics',\n",
       "       'Integrated intel graphics', 'NVIDIA GeForce GTX 1050',\n",
       "       'AMD Radeon Vega 10 Graphics',\n",
       "       'NVIDIA GeForce GTX 1650 Ti 4GB / Intel UHD',\n",
       "       'Integrated AMD Radeon™ 7 Graphics',\n",
       "       'NVIDIA GeForce GTX 1650Ti 4GB GDDR6', 'AMD Radeon Vega 7',\n",
       "       'NVIDIA GTX 1050', 'AMD Radeon RX 6800M', 'Intel UHD 600',\n",
       "       '8th Gen Intel (i5)',\n",
       "       'AMD Radeon™ Graphics with shared graphics memory',\n",
       "       'Intel Graphics', 'NVIDIA Quadro P520', 'Intel Celeron',\n",
       "       'AMD Radeon Vega 6 Graphics', 'Intel Iris X Graphics',\n",
       "       'PowerVR GX6250 Graphics', 'Intel Graphics Integrated',\n",
       "       'AMD Radeon R4', 'NVIDIA GeForce RTX 2080 Super',\n",
       "       'ARM Mali-G72 MP3 GPU', 'HD Graphics', 'Intel HD', 'Intel Iris XE',\n",
       "       'NVIDI.A', 'Dedicated NVIDIA GeForce RTX 2060 6GB',\n",
       "       'NVIDIA Quadro RTX 3000', 'Radeon™ Vega 6 Graphics',\n",
       "       'GeForce RTX 3050Ti', 'NVIDIA GeForce MX350',\n",
       "       'NVIDIA Geforce GTX 1650 Ti Graphics',\n",
       "       'Intel Iris Xe Graphics with shared graphics memory',\n",
       "       'AMD Radeon RX Vega 8', 'AMD Radeon R7 Series',\n",
       "       'GeForce RTX 3050 Ti', 'Intel(R) Iris(R) Xe Graphics',\n",
       "       'Intel® UHD Graphics Integrated', 'Intergrated Intel UHD Graphics',\n",
       "       'NVidia RTX 2070 Super Max-Q', '500MHZ',\n",
       "       'Integrated Intel Iris Graphics', 'NVIDIA GeForce RTX 3070 Max-Q',\n",
       "       'Radeon 7', 'GTX 1650', '\\u200eIntel Iris X Graphics', 'IPS',\n",
       "       'Intel Integrated', 'NIVIDIA', 'Integrated MediaTek Graphics',\n",
       "       'GeForce RTX 2060 6GB GDDR6',\n",
       "       'NVIDIA GeForce GTX 1660 Ti 6GB GDDR6',\n",
       "       'Integrated AMD Radeon R5 Graphics', 'Mali-G72 MP3',\n",
       "       'INTEL IRIS XE', 'Nvidia RTX', '600MHZ', 'Other',\n",
       "       '\\u200eIntel UHD Graphics', 'NVIDIA GeForce RTX 2070 8G GDDR6',\n",
       "       'Radeon™ Vega 8 Graphics', 'Intel UHD Graphics Integrated',\n",
       "       'Intel uhd graphics', 'NVIDIA GeForce RTX 2060 Max-Q 6GB GDDR6',\n",
       "       'Graphics 500', 'NVIDIA GeForce RTX 3060 Graphics', '4',\n",
       "       'GeForce MX450', 'AMD Radeon graphics',\n",
       "       'NVIDIA RTX A2000 4GB GDDR6', 'NVIDIA GeForce RTX 2080',\n",
       "       'Intel Iris Plus Graphic', 'Nvidia GTX 1650 Max Q',\n",
       "       'NVIDIA GTX 1650 Ti MAX-Q', 'NVIDIA Geforce RTX 3080',\n",
       "       'MediaTek Graphics', 'LCD', 'Intel UHD600',\n",
       "       'Integrated Intel UHD Graphics 600', 'Intel Iris Xe Max Graphics',\n",
       "       'HD500', 'NVIDIA® GeForce® RTX™ 3080 with Max-Q 16GB',\n",
       "       'Intel HD graphics 605',\n",
       "       'Intel® UHD Graphics for 10th Gen Intel® Processors',\n",
       "       'NVidia RTX 2070 Max-Q 8GB', 'Intel® HD Graphics 600',\n",
       "       'Intel ICL-U UHD', 'Integrated Intel Iris Plus graphics',\n",
       "       'Intel Pentium Silver N5030', 'AMD Radeon Vega 10', '1366x768',\n",
       "       'AMD Radeon(TM) Graphics', 'Integrated Mali-G72 MP3',\n",
       "       'Intel Iris Xᵉ Graphics Integrated', 'AMD Radeon™',\n",
       "       'Intel Celeron N5095', 'AMD Raedon Vega 8 Graphics',\n",
       "       '6GB NVIDIA GeForce GTX 1660Ti Graphics', 'NVIDIA Quadro T1000',\n",
       "       'AMD A6-9225 Dual-Core', 'NVIDIA GeForce GTX 1050 Ti',\n",
       "       'Inte UHD Graphics', 'AMD Radeon(TM) RX Vega 10 Graphics',\n",
       "       'Intel UHD Graphics 630', 'Core500',\n",
       "       'Elite Dragonfly W10P-64 i5-8265U',\n",
       "       '6GB GDDR6 NVIDIA GeForce RTX 2060', 'GTX 1660 Ti',\n",
       "       'Intel HD Graphics 600', 'Intel Core i5-8265U',\n",
       "       'Integrated Intel® Iris Xe Graphics', 'NVIDIA® GeForce RTX™ 3060',\n",
       "       'AMD Radeonâ¢ Vega 3 Graphics', 'Intel\\xa0Iris\\xa0Xᵉ\\xa0Graphics',\n",
       "       'Intel HD Graphics\\xa0400', 'Intel HD Graphics 501', 'ATI',\n",
       "       'NVIDIA GeForce RTX 2060 6GB GDDR6',\n",
       "       '\\u200eIntel UHD Graphics 620', 'NVIDIA GeForce RTX 3060 6GB',\n",
       "       'NVIDIA GeForce MX150', '\\u200eIntel Integrated Graphics',\n",
       "       '\\u200eUHD Graphics 600', 'GeForce GTX 1650 Max-Q',\n",
       "       '\\u200eIntel® UHD Graphics', 'UMA', '\\u200eIntel HD Graphics 500',\n",
       "       'Intel UHD 620 Graphics', '1920*1080', 'NVIDIA GeForce MX250',\n",
       "       'RTX 3050', 'Integrated_graphics', 'Nvidia RTX3060',\n",
       "       'Dedicated NVIDIA GeForce GTX 1650Ti 4GB', 'RADEON R3',\n",
       "       'MediaTek Integrated', 'Integrated Intel® Iris® X Graphics',\n",
       "       '\\u200eAMD Radeon Graphics', 'NVIDIA GeForce® RTX3060 6G GDDR6',\n",
       "       'Intel UHD Graphics 600 Integrated', 'Intel UHD graphics',\n",
       "       'NVIDIA GeForce RTX 3070 8GB GDDR6', 'NVIDIA® GeForce® 330MX',\n",
       "       'Integrated AMD Radeon™ Vega 8 Graphics',\n",
       "       'Intel HD 620 with 4K Output', '4GB NVIDIA GeForce GTX 1650',\n",
       "       '\\u200eIntel HD Graphics', 'NVIDIA GeForce GTX 1060',\n",
       "       'Intel® Iris® Plus Graphics', 'AMD Radeon R3',\n",
       "       'Integrated Intel HD Graphics 610', 'Integrated PowerVR GX6250',\n",
       "       '620', 'Intel HD Graphics 4400',\n",
       "       'NVIDIA Quadro RTX 3000 6GB GDDR6',\n",
       "       '8th Generation Intel Core (U-series) processors',\n",
       "       'NVIDIA Quadro® T2000', '1920x1080', 'AMD A9-9425 Dual-Core',\n",
       "       'UHD Graphics', 'NVIDIA GeForce GTX 1650 Max-Q', 'AMD Radeon R7',\n",
       "       'AMD Integrated Radeon™ Graphics', '600',\n",
       "       'NVIDIA GrForce GTX 1650 Ti', 'Intel Iris Graphics 6100',\n",
       "       'Radeon RX 5600M', '4400', '1366 x 768', 'Z8350', 'GX6250', '505',\n",
       "       'Intel UHD 500', 'NVIDIA GeForce GTX 1070',\n",
       "       'Nvidia RTX 2080 Super', 'Integrated Intel UHD Graphics 610',\n",
       "       'Intel HD Graphics 610 Integrated', 'J4125', 'N4120',\n",
       "       'Intergrated', '\\u200eAMD Radeon', 'AMD A4-9125 Dual-Core',\n",
       "       '\\u200eAMD Radeon Vega 3', 'Integrated HD Graphics',\n",
       "       'GeForce MX130', 'NVIDIA® GeForce® GTX 1660 Ti 6GB GDDR6',\n",
       "       'ARM G72 MP3 800GHz Integrated Graphics', 'Intel UHD Graphics,',\n",
       "       'Intel Celeron J4125', 'NVIDIA(R) GeForce RTX(TM) 3060 6GB GDDR6',\n",
       "       'N3060', 'Intel Celeron N4120', '30',\n",
       "       'Integrated Intel UHD Graphics 500', 'GeForce RTX 2080',\n",
       "       'Intel UHD 605 Graphics', 'Iris Plus Graphics', 'Unkown',\n",
       "       'Unkonwn', '1366*768', 'Intel HD Graphics 4600',\n",
       "       '\\u200eIntel HD Graphics 615', 'J3455', 'Nvidia GTX 1650Ti',\n",
       "       'HD 520 Graphics', 'NVIDIA RTX 2080 Max-Q', 'Intel Celeron N3060',\n",
       "       'Integrated\\xa0Intel® UHD Graphics 600',\n",
       "       'ProBook x360 11 G5 EE W10P-64 C N4120',\n",
       "       '\\u200e\\u200eIntel_UHD Graphics',\n",
       "       'Integrated Intel UHD 600 Graphics', 'Ntegrated/On-Board Graphics',\n",
       "       'Intel Celeron N4020', 'Intel Pentium Gold 4417U',\n",
       "       'Intel HD Graphics 515', 'NVIDIA GeForce MX150 2GB GDDR5 VRAM',\n",
       "       'NVIDIA GeForce GTX 1660 Ti (6GB GDDR6)',\n",
       "       'Integrated (Intel Iris Xe)', 'NVIDIA GeForce GTX 1650 Graphics',\n",
       "       'EliteBook x360 1030 G4 W10P-64 i7 8665U', 'Intel Core i5',\n",
       "       'T2000', '\\u200eIntegrated Intel UHD Graphics 600',\n",
       "       'Integrated AMD Radeon Vega 8 Graphics', 'GE800',\n",
       "       'NVIDIA RTX 2070 Max-Q', 'NVIDIA Quadro T2000 (4GB GDDR5)',\n",
       "       'Nvidia RTX 2070', 'HP ZBook 17 G5 W10P-64 i7-8850H',\n",
       "       'Intel GMA 3150', 'Intel Celeron processor N4020',\n",
       "       'Intel Pentium Gold 5405U', 'Nvidia Quadro T1000 4GB GDDR5',\n",
       "       'Intel 9th generation HD graphics', 'AMD Ryzen 3 2200U',\n",
       "       'Intel UHD Graphics 630, NVIDIA GeForce GTX 1050 Ti',\n",
       "       'Intel Iris Xe Graphic', 'Radeon r6', 'AMD Radeon R3 Series',\n",
       "       'Intel® Iris Plus Graphics', 'Generic',\n",
       "       '8th Generation Intel Core i7 processor', '4GB Quadro P1000',\n",
       "       'NVIDIA GTX 1650', '8th Gen Intel', 'AMD Radeon RX Vega M GL',\n",
       "       'I5-8265U Processor', 'AMD Graphic',\n",
       "       'Intel Cherry trail, Z8350 Quad-Core@1.92GHz',\n",
       "       'NVIDIA GeForce 940MX', 'AMD Radeon RX 560', 'NVIDIA GTX 1060',\n",
       "       'Intel® UHD Graphics with shared graphics memory',\n",
       "       'Radeon R4 Graphics', 'NVIDIA GeForce GTX 950M', 'GeForce',\n",
       "       'AMD Vega 3', 'NVIDIA GeForce GTX980M 4GB GDDR5',\n",
       "       'Intel HD Graphics 3000', 'Za', 'NVIDIA GeForce GTX 860M', 'I',\n",
       "       'NVIDIA GeForce 940M', 'INTERGARTED', 'GeForce RTX 2070 Max-q',\n",
       "       'NVIDIA T1200 4GB GDDR6', 'Intel® UHD Graphics and Quadro P520',\n",
       "       'Radeon RX Vega 10 Graphics', 'AMD Radeon™ graphics', 'Shared',\n",
       "       'HD', '8th Generation Intel Core i5-8265U',\n",
       "       'Intel Core i3-8145U 8th Generation',\n",
       "       'Integrated AMD Radeon Vega 3 graphics', 'Intel HD Graphics 520',\n",
       "       'Intel Celereon 3867U', 'Intel HD Graphics 4400 Integrated',\n",
       "       'Intel ICL-U UHD Graphics',\n",
       "       'Intel ninth generation HD Graphics 500',\n",
       "       'Integrated Graphics, Intel Iris, GeForce',\n",
       "       'Intel HD Graphics 500 Integrated', 'Integrated Mediatek Graphics',\n",
       "       'Nvidia Quadro T2000', 'GPU', '2GB NVIDIA GeForce MX230 Graphics',\n",
       "       'NVIDIA Quadro M620', 'DMX', 'Intel� HD Graphics 515',\n",
       "       'Intel iris plus graphics', 'GeForce RTX 3070'], dtype=object)"
      ]
     },
     "execution_count": 145,
     "metadata": {},
     "output_type": "execute_result"
    }
   ],
   "source": [
    "# Domain:\n",
    "\n",
    "df['Graphics Coprocessor'].unique()"
   ]
  },
  {
   "cell_type": "markdown",
   "id": "knowing-cornwall",
   "metadata": {},
   "source": [
    "### This column is Discrete and Nominal\n",
    "\n",
    "#### Description: Type of Graphics processor used in each specific laptop\n"
   ]
  },
  {
   "cell_type": "markdown",
   "id": "tight-earth",
   "metadata": {},
   "source": [
    "## 09. Hard Drive"
   ]
  },
  {
   "cell_type": "code",
   "execution_count": 187,
   "id": "single-journal",
   "metadata": {},
   "outputs": [
    {
     "data": {
      "text/plain": [
       "<AxesSubplot:>"
      ]
     },
     "execution_count": 187,
     "metadata": {},
     "output_type": "execute_result"
    },
    {
     "data": {
      "image/png": "[encoded data removed]",
      "text/plain": [
       "<Figure size 432x288 with 1 Axes>"
      ]
     },
     "metadata": {
      "needs_background": "light"
     },
     "output_type": "display_data"
    }
   ],
   "source": [
    "# Top 10 Most common Hard Drive Size\n",
    "fig, ax = plt.subplots()\n",
    "df['Hard Drive'].value_counts()[:10].plot(ax=ax, kind='bar')"
   ]
  },
  {
   "cell_type": "code",
   "execution_count": 147,
   "id": "given-logging",
   "metadata": {},
   "outputs": [
    {
     "data": {
      "text/plain": [
       "array(['128 GB SSD', 'SSD', '512 GB SSD',\n",
       "       '64 GB flash memory solid state', '32 GB emmc',\n",
       "       'Flash Memory Solid State', 'ssd',\n",
       "       '256 GB flash memory solid state', '64 GB eMMC', '256 GB 256 GB',\n",
       "       '64 GB Flash Memory Solid State', '1 TB', '64 GB flash memory',\n",
       "       '32 GB embedded multimediacard', '128 GB eMMC',\n",
       "       'Embedded MultiMediaCard', 'eMMC', '64 GB emmc',\n",
       "       '32 GB Embedded MultiMediaCard', '1 TB SSD', '256 GB SSD',\n",
       "       '512 GB', '2 TB SSD', '628 GB Hybrid', 'flash memory solid state',\n",
       "       '64 GB SSD', '512 GB Flash Memory Solid State',\n",
       "       '32 GB flash memory solid state', '256 GB ssd',\n",
       "       '16 GB flash_memory_solid_state',\n",
       "       '512 GB flash memory solid state', '32 GB eMMC', '256 GB',\n",
       "       '128 GB ssd', '192 GB SSD', '512 GB ssd', '1 TB ssd', '1.5 TB SSD',\n",
       "       '52 GB ssd', '1 TB flash_memory_solid_state', '1152 GB SSD',\n",
       "       '32 GB hybrid', '256 GB flash_memory_solid_state', nan,\n",
       "       '256 GB Flash Memory Solid State', 'emmc', '500 GB SSD',\n",
       "       '16 GB SSD', '1 TB HDD', '512 GB flash_memory_solid_state',\n",
       "       '32 GB ssd', 'flash_memory_solid_state',\n",
       "       '64 GB Embedded MultiMediaCard', '250 GB SSD', '512 GB PCIe SSD',\n",
       "       '2 TB HDD 5400 rpm', 'SSHD', '128 GB Flash Memory Solid State',\n",
       "       '128 GB EMMC', '256 GB HDD 5400 rpm', '6 GB SSD', '1000 GB ssd',\n",
       "       '1 TB HDD 5400 rpm', '4 TB SSD', '4 GB HDD',\n",
       "       '1000 GB flash_memory_solid_state',\n",
       "       '2000 GB flash_memory_solid_state', '64 GB ssd', '32 GB SSD',\n",
       "       '128 GB flash_memory_solid_state', '128 GB emmc', '128 SSD',\n",
       "       '128 TB', '256 MB SSD', '16 GB Flash Memory Solid State',\n",
       "       '512 GB pcie ssd', 'embedded multimediacard', '1024 GB SSD',\n",
       "       '6 GB ssd', '1 TB 128 GB M.2 SSD', '512 GB NVMe', '1024 GB HDD',\n",
       "       '256 GB serial_ata', '32 GB Flash Memory Solid State',\n",
       "       '1 TB Flash Memory Solid State', '32 GB emmc flash memory',\n",
       "       '16 GB Solid State Drive', '4000 GB', '128 GB PCIe SSD', 'HDD',\n",
       "       '128 GB pcie ssd', '1 TB PCIe SSD',\n",
       "       '4000 GB flash_memory_solid_state',\n",
       "       '32 GB flash memory solid state drive', '1 GB SSD', '100 GB emmc',\n",
       "       '16 GB emmc', '128 GB emcp', '1 TB pcie ssd', '256 GB PCIe SSD',\n",
       "       '128 GB Hybrid', '128 GB 128gb m.2 pcie solid state drive',\n",
       "       '32 MB emmc', '3000 GB mechanical_hard_drive',\n",
       "       '1 TB mechanical_hard_drive', '512 gb ssd', '64 GB Hybrid',\n",
       "       '64 GB 64GB emmc flash', '1 TB hdd', '256 GB HDD', '1024 GB ssd',\n",
       "       '240 GB SSD', '512 GB No Hard Disk', '64 MB ssd', '32 GB',\n",
       "       '8 GB SSD', '2 TB PCIe SSD', '500 GB HDD',\n",
       "       '1 Flash Memory Solid State', '256 GB PICe SSD', '512 SSD',\n",
       "       '2000 GB', '64 GB', '128 GB', '512 GB 512 gb pcie® nvme™ m.2 ssd',\n",
       "       '128 GB HDD 5400 rpm', '32 GB HDD 4200 rpm', '64 SSD',\n",
       "       '32 GB HDD 7200 rpm', '1512 GB HDD 7200 rpm', '64 GB hybrid drive',\n",
       "       '1 TB HDD 7200 rpm', '1 TB Mechanical Hard Drive',\n",
       "       '256 GB embedded multimediacard', 'mechanical_hard_drive',\n",
       "       '1 TB Hybrid', 'Hybrid Drive', '2 TB ssd', '2556 GB ssd',\n",
       "       '4 GB emmc', '256 GB SSD 256GB', '1000 GB SSD',\n",
       "       '500 GB HDD 5400 rpm', '32 SSD', '1 GB Flash Memory Solid State',\n",
       "       '128 GB mechanical_hard_drive', '320 GB SSD+eMMC',\n",
       "       '8 GB flash_memory_solid_state', '2 TB 1TB SSD + 1TB HDD',\n",
       "       '320 GB HDD 7200 rpm', '512 GB m.2 ssd drive',\n",
       "       '1000 GB Hybrid Drive', '500 GB sata', '64 KB ssd', '128 KB SSD',\n",
       "       '512 MB SSD', '64 GB HDD', '320 GB SSD',\n",
       "       '2000 GB mechanical_hard_drive', '32 GB mechanical_hard_drive',\n",
       "       '192 GB hybrid', '64 GB mechanical_hard_drive',\n",
       "       '16 GB Embedded MultiMediaCard', '4 GB SSD',\n",
       "       '500 GB mechanical_hard_drive', '16 KB SSD', '1512 GB Hybrid',\n",
       "       '16 GB Hybrid', '2 MB SSD', '500 GB Mechanical Hard Drive',\n",
       "       '500 MB SSD', '64 GB Mechanical Hard Drive', 'No Hard Disk',\n",
       "       '256 GB mechanical_hard_drive', '256 GB Solid State Drive',\n",
       "       '2 GB SSD', '16 GB Mechanical Hard Drive', '600 KB hybrid',\n",
       "       '1 TB 1', '256 GB 256GB M.2 PCIe NVMe Solid State Drive',\n",
       "       '512 GB emmc', '1 TB 1 TB 5400 rpm SATA', 'emmc ssd',\n",
       "       '512 GB 512GB PCIe M.2 SSD', '128 GB Solid State Drive',\n",
       "       '1 TB flash memory solid state', '1 TB SATA', '1128 GB SSD',\n",
       "       '512 TB SSD', '32 GB HDD 5400 rpm', '1 TB Hybrid Drive', '100 KB',\n",
       "       '128 GB 128 gb/ssd', '256 GB 256GB intel SSD + 16GB Optane memory',\n",
       "       '1000 GB Solid State Hard Drive', '512 GB mechanical_hard_drive',\n",
       "       '500 GB hdd', '2 TB HDD 7200 rpm', '128 GB hybrid',\n",
       "       '256 GB Hybrid', '1024 GB Hybrid Drive', 'HDD 5400 rpm',\n",
       "       '1000 GB Mechanical Hard Drive', '320 GB mechanical_hard_drive',\n",
       "       '250 GB HDD 5400 rpm', 'Mechanical Hard Drive', '16 GB',\n",
       "       '32 GB Hybrid', '1 TB hybrid_drive', '750 GB HDD 5400 rpm',\n",
       "       '128 GB flash memory solid state', '128 GB hdd', '64 GB SSHD',\n",
       "       '500 GB flash_memory_solid_state', '250 GB', '256 GB SATA',\n",
       "       '1016 GB flash_memory_solid_state', 'Hybrid',\n",
       "       '1.6 GB flash_memory_solid_state', '256 GB emmc', '1 TB PCIE SSD',\n",
       "       '500 GB', 'hdd', '64 GB hybrid', '1 MB SSD'], dtype=object)"
      ]
     },
     "execution_count": 147,
     "metadata": {},
     "output_type": "execute_result"
    }
   ],
   "source": [
    "# Domain:\n",
    "\n",
    "df['Hard Drive'].unique()"
   ]
  },
  {
   "cell_type": "markdown",
   "id": "harmful-board",
   "metadata": {},
   "source": [
    "### This column is Discrete and Nominal (Ordered)\n",
    "\n",
    "#### Description: Type of battery used in each specific laptop\n"
   ]
  },
  {
   "cell_type": "markdown",
   "id": "structural-pointer",
   "metadata": {},
   "source": [
    "## 10. Hard Drive Interface"
   ]
  },
  {
   "cell_type": "code",
   "execution_count": 188,
   "id": "empirical-northeast",
   "metadata": {},
   "outputs": [
    {
     "data": {
      "text/plain": [
       "<AxesSubplot:>"
      ]
     },
     "execution_count": 188,
     "metadata": {},
     "output_type": "execute_result"
    },
    {
     "data": {
      "image/png": "[encoded data removed]",
      "text/plain": [
       "<Figure size 432x288 with 1 Axes>"
      ]
     },
     "metadata": {
      "needs_background": "light"
     },
     "output_type": "display_data"
    }
   ],
   "source": [
    "# Top 10 Most common Hard Drive Interfrace\n",
    "\n",
    "fig, ax = plt.subplots()\n",
    "df['Card Description'].value_counts()[:10].plot(ax=ax, kind='bar')"
   ]
  },
  {
   "cell_type": "code",
   "execution_count": 149,
   "id": "opponent-greek",
   "metadata": {},
   "outputs": [
    {
     "data": {
      "text/plain": [
       "array(['Acer', 'HP', 'Lenovo', 'ASUS', 'Razer', 'MSI',\n",
       "       'Samsung Electronics', 'Dell', 'LG', 'Coolby', 'BiTECOOL',\n",
       "       'GIGABYTE', 'ALLDOCUBE', 'Winnovo', 'Oemgenuine', 'Jumper',\n",
       "       'Google', 'N\\\\W', 'Huashe', 'N&N', 'CHUWI', 'Basrdis', 'AimCare',\n",
       "       'TECLAST', 'Computer Upgrade King', 'Toughbook', 'Broage', 'Bmax',\n",
       "       'Fusion5', 'Geekplus', 'Lily Rose Tech', 'LincPlus', 'OMEN', 'LPT',\n",
       "       'Gateway', 'VivoBook', 'SHOXLAB', 'Eluktronics', 'LG Gram',\n",
       "       'Avita', 'Teclast', 'Toshiba', 'WAKST', 'Shoxlab', 'Goldengulf',\n",
       "       'OMMOTECH', 'SKY PC', 'TOPOSH', 'Sager', 'Yonader', 'HAOMA',\n",
       "       'LLLCCORP', 'Alienware', 'HBESTORE', 'DERE', 'Lsxvern',\n",
       "       'YELLYOUTH', 'Pavoma', 'IProda', 'Legendary Computer', 'Thomson',\n",
       "       'DaySky', '6 Goodlife623', 'Smart-US', 'YITAOERA', 'Nowco', 'VAIO',\n",
       "       'Unknown', 'Venturer', 'AWOW', 'Tocosy', 'Best 2 in 1 Laptop',\n",
       "       'PROSTAR', 'XINYANGCH', 'N\\\\C', 'N\\\\', 'HSW', 'Emerald Computers',\n",
       "       'CyberpowerPC', 'Microsoft', 'MSI Inc.', 'TMM', 'Latitude', 'VGKE',\n",
       "       'KJD', 'VUCATIMES', 'RCA', 'Ubrand', 'Evoo', 'Vgsion', 'Oydisen',\n",
       "       'Asus Laptops', 'SZTPSLS', 'Tablets & Computers', 'DYNABOOK',\n",
       "       'XPG', 'ISTYLE', 'Red Sea', 'AVENTIS', 'MDK', 'TELA', 'Panasonic',\n",
       "       'Honor', 'VideoToyBox', 'Azpen', 'Meet-GT', 'MISC', 'Fedemer',\n",
       "       'Best Notebook', 'Klick Online', 'Xinera',\n",
       "       'Hewlett Packard Enterprise', 'Generic', 'Bordell', 'Ansxiy',\n",
       "       'N/W', 'IdeaPad', 'ELZU.US', 'Anthenn', 'DP', 'LENOVO PREMIUM',\n",
       "       'HYUNDAI', 'VASTKING', 'ITSOHOO'], dtype=object)"
      ]
     },
     "execution_count": 149,
     "metadata": {},
     "output_type": "execute_result"
    }
   ],
   "source": [
    "# Domain:\n",
    "\n",
    "df.Brand.unique()"
   ]
  },
  {
   "cell_type": "markdown",
   "id": "israeli-evaluation",
   "metadata": {},
   "source": [
    "### This column is Discrete and Nominal\n",
    "\n",
    "#### Description: Type of battery used in each specific laptop\n"
   ]
  },
  {
   "cell_type": "markdown",
   "id": "casual-antenna",
   "metadata": {},
   "source": [
    "## 11. Item Dimensions  LxWxH"
   ]
  },
  {
   "cell_type": "code",
   "execution_count": 150,
   "id": "later-manchester",
   "metadata": {},
   "outputs": [
    {
     "data": {
      "text/plain": [
       "<AxesSubplot:>"
      ]
     },
     "execution_count": 150,
     "metadata": {},
     "output_type": "execute_result"
    },
    {
     "data": {
      "image/png": "[encoded data removed]",
      "text/plain": [
       "<Figure size 432x288 with 1 Axes>"
      ]
     },
     "metadata": {
      "needs_background": "light"
     },
     "output_type": "display_data"
    }
   ],
   "source": [
    "# Top 20 Most common Dimensions\n",
    "\n",
    "fig, ax = plt.subplots()\n",
    "df['Item Weight'].value_counts()[:20].plot(ax=ax, kind='bar')"
   ]
  },
  {
   "cell_type": "code",
   "execution_count": 151,
   "id": "surgical-budapest",
   "metadata": {
    "scrolled": false
   },
   "outputs": [
    {
     "data": {
      "text/plain": [
       "array(['3.96 pounds', '5.06 pounds', '3.86 pounds', '3.75 pounds',\n",
       "       '2.97 pounds', '5.07 pounds', '2.65 pounds', '4.41 pounds',\n",
       "       '2.42 pounds', '3.3 pounds', '3.63 pounds', '2.31 pounds',\n",
       "       '3.55 pounds', '3.77 pounds', '3.92 pounds', '2.64 pounds',\n",
       "       '3.1 pounds', '3.73 pounds', '4.19 pounds', '0.01 ounces',\n",
       "       '4.63 pounds', '3.59 pounds', '3.2 pounds', '3.58 pounds',\n",
       "       '2.37 pounds', '3.31 pounds', '2.36 pounds', '3.53 pounds',\n",
       "       '4.6 pounds', '4.4 pounds', '2.78 pounds', '3.06 pounds',\n",
       "       '4.5 pounds', '5.5 pounds', '3.97 pounds', '1 pounds',\n",
       "       '5.73 pounds', '2.98 pounds', '4.08 pounds', '7.1 ounces',\n",
       "       '4.46 pounds', '3.6 pounds', '2.49 pounds', '4.2 pounds',\n",
       "       '2.35 pounds', '3.57 pounds', '6.32 pounds', '4.1 pounds',\n",
       "       '3.24 pounds', '2.6 pounds', '3.4 pounds', '5.29 pounds',\n",
       "       '1.8 pounds', '5.95 pounds', '4.44 pounds', '2.62 pounds',\n",
       "       '4.8 pounds', '2.9 pounds', '3.7 pounds', '3.5 pounds',\n",
       "       '5.09 pounds', '4.79 pounds', '2.29 pounds', '3.15 pounds',\n",
       "       '4.84 pounds', '5.44 pounds', '3.91 pounds', '2.7 pounds',\n",
       "       '5.25 pounds', '3.52 pounds', '8.58 pounds', '2.87 pounds',\n",
       "       '10.05 pounds', '3.8 pounds', '2.45 pounds', '6 pounds',\n",
       "       '2.86 pounds', '1.9 pounds', '3 pounds', '4.72 pounds',\n",
       "       '5.85 pounds', '3.39 pounds', '2.2 pounds', '3.99 pounds',\n",
       "       '8.82 pounds', '2.96 pounds', '6.06 pounds', '5.41 pounds',\n",
       "       '5.47 pounds', '4.3 pounds', '3.95 pounds', '6.19 pounds',\n",
       "       '3.17 pounds', '3.64 pounds', '4.92 pounds', '3.62 pounds',\n",
       "       '6.98 pounds', '3.61 pounds', '5.69 pounds', '3.81 pounds',\n",
       "       '3.74 pounds', '2.33 pounds', '4 pounds', '5.79 pounds',\n",
       "       '2.71 pounds', '7.98 pounds', '3.46 pounds', '5.08 pounds',\n",
       "       '3.25 pounds', '15.8 ounces', '2.88 pounds', '5.39 pounds',\n",
       "       '6.39 pounds', '5.43 pounds', '3.93 pounds', '3.67 pounds',\n",
       "       '5.04 pounds', '3.09 pounds', '6.14 pounds', '3.78 pounds',\n",
       "       '2.8 pounds', '1.2 pounds', '1.32 pounds', '2.47 pounds',\n",
       "       '7 ounces', '5.36 pounds', '4.07 pounds', '11.33 pounds',\n",
       "       '6.93 pounds', '2.56 pounds', '3.89 pounds', '4.37 pounds',\n",
       "       '4.39 pounds', '5.8 pounds', '5.2 pounds', '2.4 pounds',\n",
       "       '8.8 ounces', '4.04 pounds', '5.1 pounds', '5.63 pounds',\n",
       "       '5.51 pounds', '5.99 pounds', '5.67 pounds', '5.21 pounds',\n",
       "       '6.29 pounds', '5.94 pounds', '2.14 pounds', '11.2 ounces',\n",
       "       '4.85 pounds', '5.33 pounds', '4.69 pounds', '5.24 pounds',\n",
       "       '5.68 pounds', '8.9 pounds', '3.76 pounds', '3.26 pounds',\n",
       "       '7.63 pounds', '4.58 pounds', '2.57 pounds', '2.54 pounds',\n",
       "       '1.12 pounds', '4.38 pounds', '6.49 pounds', '3.54 pounds',\n",
       "       '1.65 pounds', '5.35 pounds', '5.89 pounds', '6.02 pounds',\n",
       "       '3.84 pounds', '5 pounds', '3.08 pounds', '6.81 pounds',\n",
       "       '3.21 pounds', '3.9 pounds', '2.76 pounds', '6.24 pounds',\n",
       "       '6.28 pounds', '4.94 pounds', '9.03 pounds', '2.69 pounds',\n",
       "       '10 pounds', '1.99 pounds', '3.42 pounds', '6.27 pounds',\n",
       "       '8.68 pounds', '4.91 pounds', '3.48 pounds', '3.32 pounds',\n",
       "       '4.14 pounds', '2.66 pounds', '0.12 ounces', '0.353 ounces',\n",
       "       '5.4 pounds', '3.23 pounds', '6.6 pounds', '2.51 pounds',\n",
       "       '0.634 ounces', '2.91 pounds', '4.7 pounds', '3.28 pounds',\n",
       "       '5.49 pounds', '11.88 pounds', '10.34 pounds', '2.3 pounds',\n",
       "       '5.19 pounds', '2.16 pounds', '3.36 pounds', '6.72 pounds',\n",
       "       '3.43 pounds', '1.98 pounds', '1.1 pounds', '2.84 pounds',\n",
       "       '4.83 pounds', '8.5 pounds', '6.51 pounds', '4.99 pounds',\n",
       "       '6.08 pounds', '5.32 pounds', '3.72 pounds', '2 pounds',\n",
       "       '4.34 pounds', '5.3 pounds', '4.59 pounds', '4.89 pounds',\n",
       "       '3.87 pounds', '7.94 pounds', '2.82 pounds', '3.94 pounds',\n",
       "       '9.9 pounds', '5.74 pounds', '4.12 pounds', '0.318 ounces',\n",
       "       '4.25 pounds', '6.17 pounds', '9.88 pounds', '4.96 pounds',\n",
       "       '3.37 pounds', '5.59 pounds', '4.18 pounds', '2.43 pounds',\n",
       "       '3.69 pounds', '10.93 pounds', '4.49 pounds', '5.7 pounds',\n",
       "       '5.42 pounds', '5.6 pounds', '6.57 pounds', '10.9 pounds',\n",
       "       '12.3 ounces', '2.39 pounds', '2.53 pounds', '7.48 pounds',\n",
       "       '5.84 pounds', '4.55 pounds', '3.45 pounds', '4.75 pounds',\n",
       "       '5.46 pounds', '3.16 pounds', '4.45 pounds', '4.9 pounds',\n",
       "       '6.59 pounds', '9 ounces', '2.5 pounds', '3.35 pounds',\n",
       "       '4.86 pounds', '5.17 pounds', '4.52 pounds', '3.34 pounds',\n",
       "       '3.66 pounds', '7 pounds', '8.95 pounds', '2.93 pounds',\n",
       "       '2.09 pounds', '6.76 pounds', '4.97 pounds', '5.52 pounds',\n",
       "       '3.04 pounds', '4.03 pounds', '4.68 pounds', '9.76 pounds',\n",
       "       '6.34 pounds', '4.82 pounds', '4.22 pounds', '3.19 pounds',\n",
       "       '5.34 pounds', '9.83 pounds', '1.79 pounds', '4.48 pounds',\n",
       "       '11.3 ounces', '4.64 pounds', '6.11 pounds', '9.23 pounds',\n",
       "       '10.32 pounds', '1.4 pounds', '0.122 ounces', '6.53 pounds',\n",
       "       '6.16 pounds', '5.83 pounds', '6.13 pounds', '6.96 pounds',\n",
       "       '1.06 pounds', '6.09 pounds', '1.76 pounds', '4.29 pounds',\n",
       "       '5.55 pounds', '6.84 pounds', '7.81 pounds', '10.12 pounds',\n",
       "       '2.48 pounds', '4.61 pounds', '2.89 pounds', '5.31 pounds',\n",
       "       '3.68 pounds', '7.02 pounds', '14.67 pounds', '4.42 pounds',\n",
       "       '2.34 pounds', '5.14 pounds', '4.43 pounds', '4.87 pounds',\n",
       "       '8.71 pounds', '4.53 pounds', '4.23 pounds', '2.77 pounds',\n",
       "       '0.56 ounces', '6.82 pounds', '5.12 pounds', '2.01 pounds',\n",
       "       '4.28 pounds', '2.79 pounds', '3.13 pounds', '4.95 pounds',\n",
       "       '0.088 ounces', '6.44 pounds', '5.57 pounds', '3.02 pounds',\n",
       "       '8 pounds', '4.57 pounds', '5.3 ounces', '5.48 pounds',\n",
       "       '2.95 pounds', '2.99 pounds', '4.02 pounds', '3.79 pounds',\n",
       "       '3.88 pounds', '5.26 pounds', '2.1 pounds', '4.62 pounds',\n",
       "       '9.28 pounds', '3.33 pounds', '3.98 pounds', '5.03 pounds',\n",
       "       '11.53 pounds', '8.64 pounds', '0.8 ounces', '4.65 pounds',\n",
       "       '6.12 pounds', '5.01 pounds', '5.65 pounds', '6.1 pounds',\n",
       "       '10.41 pounds', '10.88 pounds', '10.59 pounds', '9.7 pounds',\n",
       "       '5.72 pounds', '4.51 pounds', '7.35 pounds', '4.24 pounds',\n",
       "       '6.05 pounds', '3.29 pounds', '4.31 pounds', '1.15 pounds',\n",
       "       '8.88 pounds', '3.83 pounds', '4.09 pounds', '11.6 ounces',\n",
       "       '8.39 pounds', '2.58 pounds', '5.53 pounds', '4.21 pounds',\n",
       "       '4.56 pounds', '5.75 pounds', '4.27 pounds', '7.5 ounces',\n",
       "       '5.28 pounds', '4.74 pounds', '5.54 pounds', '5.96 pounds',\n",
       "       '5.71 pounds', '3.44 pounds', '8.7 pounds', '10.38 pounds',\n",
       "       '3.46 ounces', '3.22 pounds', '9.3 pounds', '0.035 ounces',\n",
       "       '2.73 pounds', '3.01 pounds', '9.92 pounds', '6.2 pounds',\n",
       "       '4.71 pounds', '3.65 pounds', '4.32 pounds', '3.12 pounds',\n",
       "       '4.73 pounds', '7.83 pounds', '6.91 pounds', '2.17 pounds',\n",
       "       '7.4 pounds', '7.07 pounds', '3.49 pounds', '6.89 pounds',\n",
       "       '6.45 pounds', '10.13 pounds', '4.54 pounds', '14.9 ounces',\n",
       "       '7.93 pounds', '2.4 ounces', '1.5 pounds', '8.93 pounds',\n",
       "       '8.63 pounds', '10.83 pounds', '3.82 pounds', '65.3 pounds',\n",
       "       '1.82 pounds', '4.35 pounds', '6.92 pounds', '10.98 pounds',\n",
       "       '4.17 pounds', '12.52 pounds', '6.42 pounds', '6.64 pounds',\n",
       "       '11 pounds', '4.88 pounds', '12.7 ounces', '5.27 pounds',\n",
       "       '5.64 pounds', '10.6 ounces', '2.81 pounds', '4.98 pounds',\n",
       "       '2.24 pounds', '8.13 pounds', '11.38 pounds', '5.18 pounds',\n",
       "       '3.38 pounds', '6.3 pounds', '7.25 pounds', '4.81 pounds',\n",
       "       '3.18 pounds', '7.57 pounds', '7.39 pounds', '8.38 pounds',\n",
       "       '2.68 pounds', '3.05 pounds', '4.01 pounds', '16.2 pounds',\n",
       "       '9.04 pounds', '8.4 pounds', '3.85 pounds', '6.47 pounds',\n",
       "       '6.58 pounds', '7.66 pounds', '4.76 pounds', '7.85 pounds',\n",
       "       '4.47 pounds', '4.67 pounds', '7.04 pounds', '2.75 pounds',\n",
       "       '2.59 pounds', '5.05 pounds', '8.85 pounds', '10.2 pounds',\n",
       "       '12 pounds', '4.77 pounds', '8.27 pounds', '7.5 pounds',\n",
       "       '5.9 pounds', '2.26 pounds', '7.55 pounds', '8.98 pounds',\n",
       "       '6.38 pounds', '3.07 pounds', '6.25 pounds', '5.13 pounds',\n",
       "       '5.37 pounds', '3.41 pounds'], dtype=object)"
      ]
     },
     "execution_count": 151,
     "metadata": {},
     "output_type": "execute_result"
    }
   ],
   "source": [
    "# Domain:\n",
    "\n",
    "df['Item Weight'].unique()"
   ]
  },
  {
   "cell_type": "markdown",
   "id": "competitive-impossible",
   "metadata": {},
   "source": [
    "### This column is Continuous and Numeric\n",
    "\n",
    "#### Description: Dimensions of  each specific laptop\n"
   ]
  },
  {
   "cell_type": "markdown",
   "id": "lesser-reading",
   "metadata": {},
   "source": [
    "## 13. Item model number"
   ]
  },
  {
   "cell_type": "code",
   "execution_count": 189,
   "id": "hourly-drilling",
   "metadata": {},
   "outputs": [
    {
     "data": {
      "text/plain": [
       "<AxesSubplot:>"
      ]
     },
     "execution_count": 189,
     "metadata": {},
     "output_type": "execute_result"
    },
    {
     "data": {
      "image/png": "[encoded data removed]",
      "text/plain": [
       "<Figure size 432x288 with 1 Axes>"
      ]
     },
     "metadata": {
      "needs_background": "light"
     },
     "output_type": "display_data"
    }
   ],
   "source": [
    "# Top 10 Most common model numbers\n",
    "\n",
    "\n",
    "fig, ax = plt.subplots()\n",
    "df['Item model number'].value_counts()[:10].plot(ax=ax, kind='bar')"
   ]
  },
  {
   "cell_type": "code",
   "execution_count": 155,
   "id": "headed-acoustic",
   "metadata": {},
   "outputs": [
    {
     "data": {
      "text/plain": [
       "array(['A515-46-R14K', 'PH315-54-760S', '15-eg0021nr', ..., '153V9UT#ABA',\n",
       "       '153V6UT#ABA', '1A716UT#ABA'], dtype=object)"
      ]
     },
     "execution_count": 155,
     "metadata": {},
     "output_type": "execute_result"
    }
   ],
   "source": [
    "# Domain:\n",
    "\n",
    "df['Item model number'].unique()"
   ]
  },
  {
   "cell_type": "markdown",
   "id": "fixed-remainder",
   "metadata": {},
   "source": [
    "### This column is Discrete and Nominal\n",
    "\n",
    "#### Description:model numberof  each specific laptop\n"
   ]
  },
  {
   "cell_type": "markdown",
   "id": "encouraging-cricket",
   "metadata": {},
   "source": [
    "## 14. Max Screen Resolution"
   ]
  },
  {
   "cell_type": "code",
   "execution_count": 156,
   "id": "constitutional-popularity",
   "metadata": {},
   "outputs": [
    {
     "data": {
      "text/plain": [
       "<AxesSubplot:>"
      ]
     },
     "execution_count": 156,
     "metadata": {},
     "output_type": "execute_result"
    },
    {
     "data": {
      "image/png": "[encoded data removed]",
      "text/plain": [
       "<Figure size 432x288 with 1 Axes>"
      ]
     },
     "metadata": {
      "needs_background": "light"
     },
     "output_type": "display_data"
    }
   ],
   "source": [
    "# Top 10 Most common battery types\n",
    "\n",
    "fig, ax = plt.subplots()\n",
    "df['Max Screen Resolution'].value_counts()[:10].plot(ax=ax, kind='bar')"
   ]
  },
  {
   "cell_type": "code",
   "execution_count": 157,
   "id": "otherwise-polls",
   "metadata": {},
   "outputs": [
    {
     "data": {
      "text/plain": [
       "array(['1920 x 1080 Pixels', '1920x1080', nan, '1366 x 768 Pixels',\n",
       "       '1366X768 Pixels', '2560 x 1440', '1920X1080 Pixels',\n",
       "       '1920 x 1080', '1920x1080 Pixels', '1361 x 768 Pixels',\n",
       "       '1600 x 900 Pixels', '3840 x 2160 Pixels', '2560 x 1600 Pixels',\n",
       "       '3840X2160 Pixels', '1920 x 1200 Pixels', '1280 x 720',\n",
       "       '1920*1080 Pixels', '1366x768 Pixels', '1900*1200 Pixels',\n",
       "       '1280 x 800 Pixels', '1366 x 768', '3840 x 2160',\n",
       "       '2560 x 1440 Pixels', '1366 Pixels', '1366 x 768 MP',\n",
       "       '1366*768 Pixels', '1600x900 Pixels', '1366 x 912 Pixels',\n",
       "       '1366 X 768 MP', '1600 x 900', '1920X1200 Pixels',\n",
       "       '3840 x 2400 Pixels', '1920*1200', '1920*1080 Lines Per Inch',\n",
       "       'HD 1366x768', '1920 x 1080 MP', '1920x1200 Pixels',\n",
       "       '1920 X 1200 Pixels', '1366x768', '1080 Pixels',\n",
       "       '1921 x 1080 Pixels', '1024 Lines Per Inch', '1280 x 720 Pixels',\n",
       "       '1920 x 1080 Lines Per Inch', '1920×1080 Pixels',\n",
       "       '1080p Full HD Pixels', '1,600 x 900 Pixels', '1600x900',\n",
       "       '2160 x 1350 Pixels', '1366 x 768 HD Pixels', '1366*768 pixels',\n",
       "       'Full HD (1920 x 1080)', '1368x766 Pixels', '2560x1440 Pixels',\n",
       "       '2256 x 1504', '2256 x 1504 Pixels', '1366 x 912 MP',\n",
       "       '3000 x 2000 Pixels', '2560x1600 Pixels', '3840 x 2100 Pixels',\n",
       "       '2160*1440 Lines Per Inch', 'FHD (1920 x 1080) IPS 144Hz Pixels',\n",
       "       '(3840 x 2400) Pixels', 'HD+ (1600 x 900) Pixels',\n",
       "       '1280X720 Pixels', '800*1280 Pixels', '2048 x 1536',\n",
       "       '1920 X 1080 Pixels', '1280×720 Pixels', 'HD Display',\n",
       "       '1920x1080 Lines Per Inch', '4096x2160 Pixels', '1280*800 Pixels',\n",
       "       '1920 x 1080 (Full HD)', '1024*600 Pixels', '2160x1440 MP',\n",
       "       '1920x1080 MP', 'HD (1366 x 768) Touchscreen Pixels', '3840x2160',\n",
       "       '1920 * 1080 Lines Per Inch', '1366 X 768', '1280*800 MP',\n",
       "       '1366x768 Lines Per Inch', '2666 Pixels',\n",
       "       'FHD (1920 x 1080) IPS 144Hz 3ms', '1 Pixels', '2560 x 1600',\n",
       "       '3840x2160 Pixels', '1366x768 MP', '1366 x 768 Lines Per Inch',\n",
       "       '1280 x 800', 'FHD (1920x1080) IPS 144Hz Pixels', '1920 x 1200',\n",
       "       '1,920x1,080 Pixels', '2160*1440 Pixels',\n",
       "       'Full HD (1920 x 1080) 144Hz IPS', '4K UHD OLED (3840 x 2160)',\n",
       "       'HD (1366 x 768) SVA Pixels', '2256x1504 Pixels',\n",
       "       '4096 x 2304 Pixels', '1366x766 Pixels', '3840x2400 Pixels',\n",
       "       'FHD (1920 x 1080) IPS Pixels', '1366×768 Pixels',\n",
       "       'HD ( 1366 x 768 )', '1366 x 768 (HD)', 'HD+ Display',\n",
       "       '\\u200e1366 x 768 Pixels', '1600 X900 Pixels',\n",
       "       '(1920x1080) Pixels', '1024 x 1024 Pixels', '1080P Pixels',\n",
       "       '\\u200e1900x1200 Pixels', 'HD (1366x768)', 'FHD Display',\n",
       "       'HD (1366 x 768) Pixels', '1366 X 768 Pixels', '2160 x 1440',\n",
       "       'Full HD(1920 x 1080) Anti-glare Pixels', '3200 x 1800 Pixels',\n",
       "       '1290 x 1080', '3840X2160', '4096x2304 Pixels',\n",
       "       'HD (1366 x 768 ) Widescreen LED', '3840 X 2160 Pixels',\n",
       "       '1024x600', '1920 x 1080 (FHD)', '1920 x 1080 (Full HD Touch)',\n",
       "       '1600x900 MP', '1920 x 1280 Pixels', '1920x1080 (FHD IPS)',\n",
       "       '2880 x 1620 Pixels', '1920 * 1080 Pixels', '2 MP', '3000 x 2000',\n",
       "       '1920 x 1080 IPS', '2400x1600 Pixels'], dtype=object)"
      ]
     },
     "execution_count": 157,
     "metadata": {},
     "output_type": "execute_result"
    }
   ],
   "source": [
    "# Domain:\n",
    "\n",
    "df['Max Screen Resolution'].unique()"
   ]
  },
  {
   "cell_type": "markdown",
   "id": "ultimate-medline",
   "metadata": {},
   "source": [
    "### This column is Discrete and Numeric\n",
    "\n",
    "#### Description:Screen Resolution of each specific laptop\n"
   ]
  },
  {
   "cell_type": "markdown",
   "id": "heavy-pregnancy",
   "metadata": {},
   "source": [
    "## 15. Memory Speed"
   ]
  },
  {
   "cell_type": "code",
   "execution_count": 190,
   "id": "weekly-couple",
   "metadata": {},
   "outputs": [
    {
     "data": {
      "text/plain": [
       "<AxesSubplot:>"
      ]
     },
     "execution_count": 190,
     "metadata": {},
     "output_type": "execute_result"
    },
    {
     "data": {
      "image/png": "[encoded data removed]",
      "text/plain": [
       "<Figure size 432x288 with 1 Axes>"
      ]
     },
     "metadata": {
      "needs_background": "light"
     },
     "output_type": "display_data"
    }
   ],
   "source": [
    "# Top 20 Most common memory speed:\n",
    "\n",
    "fig, ax = plt.subplots()\n",
    "df['Memory Speed'].value_counts()[:20].plot(ax=ax, kind='bar')"
   ]
  },
  {
   "cell_type": "code",
   "execution_count": 159,
   "id": "dominican-privilege",
   "metadata": {},
   "outputs": [
    {
     "data": {
      "text/plain": [
       "array(['3.5 GHz', '4.6 GHz', nan, '4.5 GHz', '3200 MHz', '2400 MHz',\n",
       "       '2.1', '2.8 GHz', '1600 MHz', '4.1 GHz', '1866 MHz', '2.6 GHz',\n",
       "       '3.4 GHz', '4267 MHz', '2666 MHz', '2933 MHz', '4266 MHz',\n",
       "       '3.9 GHz', '3.6 GHz', '2133 GHz', '2.5 GHz', '2800 MHz', '1.6 GHz',\n",
       "       '2.3 GHz', '1 GHz', '3.1 GHz', '2.7 GHz', '3.2 GHz', '3733 MHz',\n",
       "       '4.2', '1.1 GHz', '1.8 GHz', '1.3 GHz', '2133 MHz', '2.2 GHz',\n",
       "       '4 GHz', '2400 GHz', '3.8 GHz', '2.1 GHz', '2.48 GHz', '8 GHz',\n",
       "       '2.16 GHz', '540 MHz', '3.9', '4.2 GHz', '2.4 GHz', '2400 KHz',\n",
       "       '1.44 GHz', '1.6', '1.3', '4.7 GHz', '300 MHz', '2667', '5',\n",
       "       '3000 MHz', '2.24 GHz', '2 GHz', '2667 MHz', '1253 GHz', '1.9 GHz',\n",
       "       '2666', '1333 MHz', '0.01 GHz', '1.92 GHz', '1066 MHz'],\n",
       "      dtype=object)"
      ]
     },
     "execution_count": 159,
     "metadata": {},
     "output_type": "execute_result"
    }
   ],
   "source": [
    "# Domain:\n",
    "\n",
    "df['Memory Speed'].unique()"
   ]
  },
  {
   "cell_type": "markdown",
   "id": "accepted-hurricane",
   "metadata": {},
   "source": [
    "### This column is Continuous and Numeric\n",
    "\n",
    "#### Description: memory speed used in each specific laptop\n"
   ]
  },
  {
   "cell_type": "markdown",
   "id": "dressed-usage",
   "metadata": {},
   "source": [
    "## 16. Operating System"
   ]
  },
  {
   "cell_type": "code",
   "execution_count": 160,
   "id": "hollow-national",
   "metadata": {},
   "outputs": [
    {
     "data": {
      "text/plain": [
       "<AxesSubplot:>"
      ]
     },
     "execution_count": 160,
     "metadata": {},
     "output_type": "execute_result"
    },
    {
     "data": {
      "image/png": "[encoded data removed]",
      "text/plain": [
       "<Figure size 432x288 with 1 Axes>"
      ]
     },
     "metadata": {
      "needs_background": "light"
     },
     "output_type": "display_data"
    }
   ],
   "source": [
    "# Top 10 Most common Operating Systems\n",
    "\n",
    "fig, ax = plt.subplots()\n",
    "df['Operating System'].value_counts()[:10].plot(ax=ax, kind='bar')"
   ]
  },
  {
   "cell_type": "code",
   "execution_count": 161,
   "id": "pregnant-rating",
   "metadata": {},
   "outputs": [
    {
     "data": {
      "text/plain": [
       "array(['Windows 10 S', 'Windows 10 Home', 'Windows 10 Pro', 'Chrome OS',\n",
       "       'Windows 10', 'Win 10 Home', 'Win10',\n",
       "       'Windows 10 Home, Windows 10 S', 'Win 10 Pro', nan,\n",
       "       'Windows 10 Home, Windows 10', 'Windows',\n",
       "       'Windows 10 Pro, Windows 10 Home, Windows 10 S',\n",
       "       'Win 10 Multi-language /Free upgrade to Win 11',\n",
       "       'Win 10 s, Windows 10 Home, Windows 11', 'Win 10', 'Android',\n",
       "       'Windows 10 Professional', 'Windowws 10', 'Win10, Windows 10 Home',\n",
       "       'Win 10, Windows 10', 'Windows 10 Pro, Windows 10 Home',\n",
       "       'Windows 10 Home, Win 10', 'Windows 8', 'Windows 10 Pro Education',\n",
       "       'Android 5.0 Lollipop', 'Windows 10 S, Windows 10',\n",
       "       'Windows 10 Pro, Windows 10', 'Intel HD Graphics 620',\n",
       "       'Mac OS X 10.2 Jaguar', 'Linux', 'Windows 7 Professional',\n",
       "       'Information not Available', 'Unix',\n",
       "       'Win 10 PRO Free upgrade to Win 11', 'Windows 8.1',\n",
       "       'Windows 10 Home, Win 10 home', 'Android 6.0 Marshmallow',\n",
       "       'Windows 8.1 Pro 64-bit Edition', 'Windows 10 S, Win 10 home',\n",
       "       'Windows 10 Pro\\xa0(64-Bit)', 'Windows 10 Pro 64-Bit', 'Unknown',\n",
       "       'Windows 7 Professional 64',\n",
       "       'Windows 10 Home, Windows 10 S, Windows 11', 'HP ThinPro',\n",
       "       'Widows 11 Home', 'Windows 11'], dtype=object)"
      ]
     },
     "execution_count": 161,
     "metadata": {},
     "output_type": "execute_result"
    }
   ],
   "source": [
    "# Domain:\n",
    "\n",
    "df['Operating System'].unique()"
   ]
  },
  {
   "cell_type": "markdown",
   "id": "magnetic-nerve",
   "metadata": {},
   "source": [
    "### This column is Discrete and Nominal\n",
    "\n",
    "#### Description: OS of each specific laptop\n"
   ]
  },
  {
   "cell_type": "markdown",
   "id": "treated-taiwan",
   "metadata": {},
   "source": [
    "## 17. Power Source"
   ]
  },
  {
   "cell_type": "code",
   "execution_count": 162,
   "id": "adopted-monroe",
   "metadata": {},
   "outputs": [
    {
     "data": {
      "text/plain": [
       "<AxesSubplot:>"
      ]
     },
     "execution_count": 162,
     "metadata": {},
     "output_type": "execute_result"
    },
    {
     "data": {
      "image/png": "[encoded data removed]",
      "text/plain": [
       "<Figure size 432x288 with 1 Axes>"
      ]
     },
     "metadata": {
      "needs_background": "light"
     },
     "output_type": "display_data"
    }
   ],
   "source": [
    "# Top 10 Most common Power Sources\n",
    "\n",
    "fig, ax = plt.subplots()\n",
    "df['Power Source'].value_counts()[:10].plot(ax=ax, kind='bar')"
   ]
  },
  {
   "cell_type": "code",
   "execution_count": 163,
   "id": "thermal-singing",
   "metadata": {},
   "outputs": [
    {
     "data": {
      "text/plain": [
       "array(['Battery Powered', nan, 'AC & Battery',\n",
       "       'Corded Electric, Battery Powered', 'Corded Electric',\n",
       "       'DC & Battery', 'DC', 'Battery Powere'], dtype=object)"
      ]
     },
     "execution_count": 163,
     "metadata": {},
     "output_type": "execute_result"
    }
   ],
   "source": [
    "# Domain:\n",
    "\n",
    "df['Power Source'].unique()"
   ]
  },
  {
   "cell_type": "markdown",
   "id": "experienced-consultancy",
   "metadata": {},
   "source": [
    "### This column is Discrete and Nominal\n",
    "\n",
    "#### Description: Type of Power Source used in each specific laptop\n"
   ]
  },
  {
   "cell_type": "markdown",
   "id": "ecological-judge",
   "metadata": {},
   "source": [
    "## 18. Processor"
   ]
  },
  {
   "cell_type": "code",
   "execution_count": 164,
   "id": "respected-stations",
   "metadata": {},
   "outputs": [
    {
     "data": {
      "text/plain": [
       "<AxesSubplot:>"
      ]
     },
     "execution_count": 164,
     "metadata": {},
     "output_type": "execute_result"
    },
    {
     "data": {
      "image/png": "[encoded data removed]",
      "text/plain": [
       "<Figure size 432x288 with 1 Axes>"
      ]
     },
     "metadata": {
      "needs_background": "light"
     },
     "output_type": "display_data"
    }
   ],
   "source": [
    "# Top 20 Most common Processor speed\n",
    "\n",
    "fig, ax = plt.subplots()\n",
    "df['Processor'].value_counts()[:20].plot(ax=ax, kind='bar')"
   ]
  },
  {
   "cell_type": "code",
   "execution_count": 165,
   "id": "balanced-operations",
   "metadata": {},
   "outputs": [
    {
     "data": {
      "text/plain": [
       "array(['3.5 GHz ryzen_3', '4.6 GHz core_i7', '4.7 GHz core_i7',\n",
       "       '4.2 GHz core_i5', '2.1 GHz core_i3', '4.5 GHz core_i5',\n",
       "       '2.4 GHz celeron', '4.8 GHz core_i7', '1.1 GHz celeron_n3450',\n",
       "       '1.1 GHz pentium_N5000', '2.1 GHz ryzen_5_4500u',\n",
       "       '2.8 GHz celeron_n4020', '4 GHz ryzen_5', '3.3 GHz ryzen_9',\n",
       "       '2.1 GHz mediatek_mt8127', '2.1 ryzen_5', '3.3 GHz core_i7',\n",
       "       '4.5 GHz ryzen_9', '4.1 GHz core_i3', '2.1 GHz mtk_8121',\n",
       "       '2.1 GHz mediatek_mt8183', '2.8 GHz celeron', '2.4 GHz core_i7',\n",
       "       '1.1 GHz celeron_n4020', '1.1 GHz celeron_n',\n",
       "       '4.1 GHz ryzen_7_4700u', '2.4 GHz celeron_n3350',\n",
       "       '1.1 GHz celeron', nan, '2 GHz mediatek_mt8183', '1.6 GHz core_i5',\n",
       "       '4 GHz ryzen_7_3700u', '2.5 GHz core_i9', '2.8 GHz core_i7',\n",
       "       '1.9 GHz amd_ryzen_7', '5 GHz corei7_10750h', '4.4 GHz ryzen_7',\n",
       "       '3.4 GHz core_i3', '9 GHz core_i3_family', '4.6 GHz apple_ci7',\n",
       "       '4.5 GHz apple_ci5', '2.6 GHz corei5_10300h', '4.3 GHz ryzen_7',\n",
       "       '1.2 GHz', '1 GHz core_i5_1035g1', '1 GHz core_i5',\n",
       "       '2.6 GHz core_i5_family', '4.8 GHz core_i7_family', '8032',\n",
       "       '1.8 GHz celeron_n', '2.6 GHz corei7_10750h',\n",
       "       '3.9 GHz core_i7_1065g7', '2.5 MHz celeron_3865u',\n",
       "       '2.3 GHz core_i7', '2.4 GHz pentium_other', '1.5 GHz celeron',\n",
       "       '2.6 GHz celeron_n', '9 GHz core_i5', '2.6 GHz amd_e_series',\n",
       "       '1 GHz core_i5_family', '1.4 GHz celeron', '4.6 GHz ryzen_9',\n",
       "       '2.3 GHz amd_r_series', '3.6 GHz core_i5_1035g1',\n",
       "       '1.6 GHz core_i5_10210u', '2 GHz core_i3', '2.6 GHz celeron',\n",
       "       '1.2 GHz core_i3', '2.4 GHz core_i5_family', '1.1 GHz pentium',\n",
       "       '2.7 GHz celeron', '2.6 corei7_10750h',\n",
       "       '2.3 GHz athlon_silver_3050U', '1.2 GHz apple_ci3',\n",
       "       '4.6 GHz Intel_Mobile_CPU', '3.2 GHz athlon', '4.7 GHz apple_ci7',\n",
       "       '5 GHz Intel_Mobile_CPU', '2.6 GHz ryzen_3_3200u',\n",
       "       '2.6 GHz a4_3020e', '3 GHz amd_r_series', '2.4 GHz core_i5',\n",
       "       '1.8 intel_core_2_quad', '1.1 GHz celeron_n3350', '4.2 core_i5',\n",
       "       '1.1 GHz celeron_n2930', '2.4 GHz apple_ci7',\n",
       "       '2.9 GHz ryzen_7_4800h', '4.8 GHz ryzen_9',\n",
       "       '2.8 GHz core_i7_family', '3.6 GHz core_i5', '5 GHz celeron',\n",
       "       '3.7 GHz core_i5_1035g4', '2.6 GHz ryzen_3_3250u', 'Xeon',\n",
       "       'celeron', '4.7 GHz core_i7_family', '2.1 GHz intel_core_2_duo',\n",
       "       '4.1 GHz core_i5_family', '4 GHz amd_r_series', '3.3 GHz ryzen_5',\n",
       "       '9 GHz amd_r_series', '3.4 GHz core_m_family', '1.60 core_i5',\n",
       "       'core_i5_8200y', '1.2 GHz core_i5_family', '2.4 GHz amd_a_series',\n",
       "       '4.2 GHz', '1.6 GHz 1_2GHz_Cortex_A8', '4.5 GHz Intel_Mobile_CPU',\n",
       "       '1.3 GHz core_i7_family', '2.6 GHz ryzen_3_2300u',\n",
       "       '4 GHz ryzen_5_4600h', '2 GHz 1_2GHz_Cortex_A13',\n",
       "       '1.1 GHz core_i5', '4.9 GHz core_i7_10510u', '2.1 GHz ryzen_5',\n",
       "       '4.2 GHz apple_ci5', '2.1 GHz amd_ryzen_5_1400',\n",
       "       '2.3 GHz apple_ci7', '1.9 GHz core_i7', '2.7 GHz pentium',\n",
       "       '2.2 GHz core_i7', '2 GHz ryzen_7', '3.5 GHz amd_r_series',\n",
       "       '4.8 GHz apple_ci7', '1.5 GHz celeron_j3455',\n",
       "       '1.1 GHz celeron_n4000', '3.9 GHz core_i7', '2.6 GHz core_i7',\n",
       "       '1.3 GHz Exynos_5250', '3.9 GHz core_i3_family', '3.3 GHz pentium',\n",
       "       '2.6 hertz intel_core_2_quad', '2.3 GHz core_i5_family',\n",
       "       '1.3 GHz apple_ci7', '1.6 GHz intel_atom', '3.7 GHz ryzen_3_4300u',\n",
       "       '2.3 GHz ryzen_5_4500u', '2.8 GHz celeron_n4000',\n",
       "       '1.3 GHz core_i7_1065g7', '4.9 GHz core_i7_family',\n",
       "       '2.1 GHz ryzen_3_3200u', '1.7 GHz core_i3', '9 GHz core_i7_1065g7',\n",
       "       '3.2 GHz athlon_silver_3050U', '2.2 GHz apple_ci3',\n",
       "       '2.1 GHz amd_r_series', '2.7 GHz 80486dx2', '2.9 GHz core_i7',\n",
       "       '4.7 GHz', '3 GHz core_i7_1065g7', '5.1 GHz core_i7',\n",
       "       '3.3 GHz amd_r_series', '4.2 GHz core_i5_family', '2.4 GHz',\n",
       "       '1.8 GHz apple_ci7', '3.1 GHz ryzen_9', '1.5 GHz core_m',\n",
       "       '3.7 GHz amd_r_series', '2.5 GHz core_i5', '4.3 GHz amd_r_series',\n",
       "       '2.4 GHz pentium', '2.8 GHz pentium_N5000', '2 GHz ryzen_7_4700u',\n",
       "       '4.1 GHz apple_ci3', '2 GHz amd_r_series', '2.4 GHz celeron_d',\n",
       "       '1.3 GHz core_i7', '1.2 GHz core_i7', '1.6 GHz core_i5_8400',\n",
       "       '1.1 GHz Intel_Mobile_CPU', '1.6 GHz celeron', '2.8 GHz celeron_n',\n",
       "       '2.1 GHz core_i3_10110u', '2 GHz celeron',\n",
       "       '2.4 GHz core_i7_family', '2.5 GHz core_i5_family',\n",
       "       '3.2 GHz ryzen_7', '3.9 GHz', '2.8 GHz', '2 GHz',\n",
       "       '2.1 GHz 1_2GHz_Cortex_A13', '1.6 GHz celeron_n',\n",
       "       '4.7 GHz apple_ci5', '1.8 GHz amd_r_series',\n",
       "       '1.2 GHz core_i5_1035g1', '5 GHz core_i7',\n",
       "       '1.7 GHz core_i3_family', '2.6 GHz ryzen_7', 'core_i5',\n",
       "       '3.8 GHz amd_r_series', '1 GHz 1_2GHz_Cortex_A8',\n",
       "       '1.2 GHz 1_2GHz_Cortex_A13', '1.2 GHz amd_e_series',\n",
       "       '2.6 GHz celeron_n4000', '2.4 GHz 1_2GHz_Cortex_A8',\n",
       "       '2.5 GHz corei5_10300h', '1.6 GHz core_i5_family',\n",
       "       '1.2 GHz core_i3_1005g1', '3.4 GHz ryzen_3_3200u',\n",
       "       '2 GHz amd_ryzen_7', '5 GHz apple_ci7', '4.4 GHz amd_ryzen_7',\n",
       "       '2.6 GHz amd_r_series', '2.2 GHz core_i3_8130u', '1.6 GHz 8032',\n",
       "       '2.3 GHz amd_ryzen_7', '2.6 GHz intel_atom', 'core_i7_family',\n",
       "       '2.4 GHz ryzen_3_3250u', '2.2 GHz A_Series_Dual_Core_A4',\n",
       "       '2.1 GHz apple_ci7', '2.2 GHz core_i5', '1.6 GHz amd_r_series',\n",
       "       '1.4 GHz', '1.8 GHz core_i7', '2.4 GHz intel_pentium_d',\n",
       "       '9 GHz 1_2GHz_Cortex_A9', '3.5 GHz', '2.1 GHz MediaTek_MT8125',\n",
       "       '1.1 GHz mobile_pentium_4', '1.6 GHz core_i7', '2.3 GHz core_i5',\n",
       "       '2.3 GHz amd_ryzen_7_1700', '4.5 GHz apple_ci7',\n",
       "       '1.9 GHz celeron_5205u', '2.3 GHz ryzen_3_4300u',\n",
       "       '3.9 GHz apple_ci5', '3.9 GHz apple_ci3',\n",
       "       '1.1 GHz intel_core_2_duo', '2.7 GHz apple_ci3',\n",
       "       '4.2 GHz intel_core_i5_1135g7', '1 GHz core_i3_10110u',\n",
       "       '1.8 GHz amd_ryzen_7', '2.6 GHz core_i7_family', '2.2 GHz amd_a4',\n",
       "       '1.2 GHz core_i3_10110u', '1.6 GHz core_i3', '1.2 GHz pentium',\n",
       "       '3.4 GHz core_i5_8250u', '2.4 GHz amd_r_series',\n",
       "       '1.6 GHz apple_ci5', '1.6 GHz', '2.4 GHz Snapdragon',\n",
       "       '2.5 GHz celeron', '1.2 GHz celeron_n4000', '2.4 amd_a4',\n",
       "       '4.7 apple_ci7', '2 GHz Mediatek_8317_Dual_Core',\n",
       "       '2.3 GHz ryzen_7', '3 GHz core_i3', '2.1 GHz ryzen_5_4600u',\n",
       "       '4.3 GHz amd_ryzen_7', '1.1 GHz celeron_n3150', '1.6 GHz ryzen_5',\n",
       "       '3.5 GHz ryzen_3_2300u', '2.6 GHz ryzen_3', '2.2 GHz core_i3',\n",
       "       '1 GHz apple_ci7', '1.8 GHz celeron', '3.2 GHz athlon_64',\n",
       "       '4.2 GHz ryzen_5', '4.1 GHz amd_r_series', '1.8 GHz amd_a_series',\n",
       "       '2.6 GHz apple_ci7', '3 GHz core_i5', '4 GHz ryzen_5_4500u',\n",
       "       '2.4 GHz apple_ci5', '1 GHz core_i3_1005g1',\n",
       "       '1.2 GHz core_i3_family', '5x86', '1.1 GHz', '1.8 GHz a_series',\n",
       "       '2.6 GHz core_i7_1065g7', '1.2 GHz core_i5',\n",
       "       '3.9 GHz core_i5_family', '4 GHz core_i5_family',\n",
       "       '1.6 GHz Intel_Mobile_CPU', '2.1 GHz ryzen_5_3500u',\n",
       "       '1.6 GHz celeron_n3350', 'core_i7', '1.2 GHz intel_pentium_d',\n",
       "       '2.1 GHz ryzen_5_2600h', '3 GHz core_i3_family', '1 GHz 5x86',\n",
       "       '2.1 GHz core_i3_family', '3 GHz core_i7', '1.96 GHz 80386',\n",
       "       '2.4 GHz ryzen_3_4300u', '1.1 GHz amd_a_series',\n",
       "       '5.1 GHz intel_xeon', '5 GHz', '4.2 GHz ryzen_7_4800h',\n",
       "       '2.8 GHz apple_ci7', '2.7 GHz amd_a6', '3.1 GHz pentium_other',\n",
       "       '2.4 GHz athlon', '2.4 GHz core_i9', '2.1 GHz mediatek_helio',\n",
       "       '2.4 GHz Athlon_64_X2_Dual_Core_3800_plus', '3.2 GHz amd_r_series',\n",
       "       '2.1 GHz core_i5_1035g1', '4.1 GHz core_i3_family',\n",
       "       '1.2 GHz core_i7_family', '1.6 GHz core_i5_8250u',\n",
       "       '1.8 GHz 1_2GHz_Cortex_A8', '2.2 GHz core_i7_family',\n",
       "       '2.4 GHz pentium_n4200', '4.7 GHz intel_core_i7_1165g7',\n",
       "       '2.3 core_i5', '2.6 GHz core_i5', '2.4 GHz MediaTek_MT8125',\n",
       "       '2.1 GHz core_i5', '1.4 GHz core_i5', '4.5 GHz core_i7_family',\n",
       "       '1.6 core_i5_family', '2 GHz core_i5', '2.1 GHz cortex',\n",
       "       'i7_4770K', '2.3 GHz celeron', '2 GHz ryzen_5_4500u',\n",
       "       '2.9 GHz amd_ryzen_7', '4 GHz apple_ci5', '2.8 GHz pentium_other',\n",
       "       '3.1 GHz pentium', '2.5 GHz intel_core_i9',\n",
       "       '1.2 GHz core_i7_1065g7', '1 GHz celeron_n4000',\n",
       "       '3.6 GHz core_i5_family', '3.7 GHz core_i5', '2.6 GHz core_i9',\n",
       "       '1.5 hertz celeron_j3455', '1 GHz mobile_celeron',\n",
       "       '3.6 GHz apple_ci5', '1.7 GHz apple_ci5', '2.3 GHz athlon',\n",
       "       '2.4 GHz intel_celeron_d', '1.7 GHz amd_ryzen_7', '4.9 GHz',\n",
       "       '2.5 GHz core_i7', '1.6 GHz amd_a_series', '1.44 GHz atom_z8350',\n",
       "       '3.2 GHz amd_a_series', '1.8 GHz core_i7_10510u',\n",
       "       '2.4 GHz pentium_dual_core', '1.44 GHz Atom_Silverthorne',\n",
       "       '2.9 GHz celeron_n', '2.3 GHz corei7_10750h',\n",
       "       '1.7 GHz mediatek_mt8127', '1.5 GHz a33_arm_cortex_a7_quad_core',\n",
       "       '3.4 GHz core_i5', '1.1 GHz amd_r_series', '2.7 GHz ryzen_3_4300u',\n",
       "       '2.5 GHz apple_ci5', '2.4 GHz core_i3_6157u',\n",
       "       '4.6 GHz core_i7_family', '2.4 GHz celeron_n',\n",
       "       '32 hertz amd_a_series', '2.3 GHz pentium', '4.4 GHz core_i7',\n",
       "       '1.5 celeron_m', '1 1_2GHz_Cortex_A8', '2.7 GHz celeron_n4000',\n",
       "       '3 GHz', '1.8 GHz core_i7_family', '3.1 GHz intel_core_duo',\n",
       "       '1.44 GHz intel_atom', '4.2 GHz a10_8750', '2.9 hertz celeron_n',\n",
       "       '2.1 GHz', '1.1 GHz pentium_other', '2.3 GHz ryzen_7_3700x',\n",
       "       '2.4 GHz celeron_n4000', '9 GHz A31s', '4.6 GHz amd_ryzen_9_5900x',\n",
       "       '1.6 GHz cortex', '1.4 GHz Athlon_64_X2_Dual_Core_3800_plus',\n",
       "       '2.3 GHz celeron_d', '3.1 GHz pentium_N5000', '3.5 GHz ryzen_5',\n",
       "       '3 hertz core_i3_family', '1_2GHz_Cortex_A8',\n",
       "       '3 GHz core_i7_family', '2.6 GHz core_i3', '2.6 GHz celeron_n4020',\n",
       "       '2.6 GHz amd_a6', '3.5 GHz core_i7_7500u', '2.3 GHz core_i5_8300h',\n",
       "       '2.9 GHz apple_ci5', '4.2 GHz amd_ryzen_5_5600x',\n",
       "       '1.7 GHz apple_ci3', '2.5 GHz 68lc040', '2.1 mediatek_mt8183',\n",
       "       '1.2 GHz celeron_n3350', '1.7 GHz none', '1.9 GHz apple_ci5',\n",
       "       '2.7 GHz 80486slc', '5 GHz apple_ci5', '1.1 MHz celeron_n',\n",
       "       '3.4 GHz core_m3_8100y', '4 GHz ryzen_7_4700u',\n",
       "       '2.6 GHz apple_ci5', '1.3 GHz Tablet_Processor',\n",
       "       '2.5 hertz celeron', '3.4 GHz intel_core_m', '1 GHz core_i7',\n",
       "       '3.1 GHz amd_a_series', '2.8 GHz amd_a_series', '1.44 GHz celeron',\n",
       "       '4 GHz core_i7_family', '4.1 GHz core_i3_10110u', 'pentium',\n",
       "       '1.8 GHz ryzen_7', '2 GHz celeron_n4000', '1.6',\n",
       "       '2.6 GHz 1_2GHz_Cortex_A13', '5 GHz celeron_n3350',\n",
       "       '2 GHz mediatek_helio_p60t', '2.6 GHz pentium_j4205',\n",
       "       '2 KHz atom_z8350', '3.9 GHz Intel_Mobile_CPU',\n",
       "       '3.4 GHz apple_ci3', '4.3 GHz amd_ryzen_7_5700u',\n",
       "       '1.1 GHz pentium_2', '4.1 GHz intel_core_2_quad',\n",
       "       '4.5 GHz corei7_9750h', '2.9 GHz core_i5',\n",
       "       '1.6 GHz intel_celeron_d', 'apple_ci5', '2 GHz ryzen_7_4800u',\n",
       "       '1.8 hertz celeron_j3455', '1.7 GHz celeron_n4020', 'amd_ryzen_7',\n",
       "       '2.48 GHz celeron_n3060', '1.8 GHz amd_a6', '2 GHz celeron_j3455',\n",
       "       '2.7 GHz apple_ci7', '1.2 GHz apple_ci5', '2.4 GHz corei5_10300h',\n",
       "       '1.6 GHz celeron_d', '1.9 GHz core_i5_family',\n",
       "       '2.5 GHz xeon_platinum_8160m', '4.8 core_i7', '2 GHz intel_atom',\n",
       "       '2.3 GHz amd_a_series', '2.2 GHz A4_1250', '300 GHz core_i3_6157u',\n",
       "       '1.6 GHz none', '1.9 GHz celeron', '4.1 GHz core_i7_1065g7',\n",
       "       '2.3 GHz ryzen_5_4600u', '3 GHz Snapdragon', '2.2 GHz',\n",
       "       '3.5 GHz pentium_e7500', '1.1 GHz mediatek_mt8183',\n",
       "       '2.6 GHz core_i5_7200u', '4 GHz intel_core_duo',\n",
       "       '2 GHz Tablet_Processor', '2 GHz mediatek_mt8127',\n",
       "       '2.5 GHz Core_i5_760', '1.8 GHz apple_ci5', '1.04 GHz intel_atom',\n",
       "       '4 GHz core_i7_8550u', '1.1', '2.2 GHz 8032',\n",
       "       '2.2 GHz core_i5_5200u', '3.8 GHz core_i7_1065g7',\n",
       "       '2.1 GHz intel_pentium_d', '3.1 GHz core_i5',\n",
       "       '1.8 GHz celeron_j3455', '1.6 GHz A_Series_Dual_Core_A4',\n",
       "       '2.1 GHz celeron', '2.3 GHz Core_2_Duo_2.33GHz', '3 GHz pentium',\n",
       "       '4.1 GHz core_i3_10110y', '2.1 GHz amd_a_series',\n",
       "       '2.7 GHz core_i7_family',\n",
       "       '2.3 GHz Athlon_64_X2_Dual_Core_3800_plus',\n",
       "       '2.9 GHz athlon_silver_3050U', '2.4 GHz core_i3_5005u',\n",
       "       '2.1 GHz core_i3_8100', '1.6 GHz a_series', '4.1 GHz',\n",
       "       '12 GHz 1_2GHz_Cortex_A9', '2.2 GHz celeron_n3450',\n",
       "       '4.5 GHz amd_ryzen_7', '3 GHz a_series', '1.6 GHz celeron_j3455',\n",
       "       '1.6 GHz amd_a4', '1 GHz apple_ci5', '2.7 GHz', 'apple_ci7',\n",
       "       '2.5 GHz', '2.7 GHz core_i5_5257u', '4.2 GHz core_i5_1035g1',\n",
       "       '2.3 GHz core_i3_6100u', '2.5 GHz core_i5_7200u',\n",
       "       '1.44 KHz atom_z8350', '2.1 GHz none', '3.5 GHz core_i9',\n",
       "       '2.1 GHz apple_ci3', '3.6 GHz', '2 GHz celeron_n',\n",
       "       '2.48 GHz celeron', '2.2 GHz apple_ci7', '2.6 hertz pentium_j4205',\n",
       "       '1 GHz ryzen_3', '2.2 GHz celeron', '1.6 GHz celeron_n3060',\n",
       "       '1.2 GHz ryzen_5', '3.4 GHz core_i3_family', 'core_i5_family',\n",
       "       'core_i3', '2.3 GHz intel_pentium_g4400', '3 GHz amd_a4',\n",
       "       '1 GHz ryzen_5', '3.4 GHz apple_ci5', '2.8 GHz none',\n",
       "       '3.5 GHz ryzen_3_3250u', '2.6 GHz amd_a_series',\n",
       "       '3.4 Core_i3_3.2_GHz_', '1.5 GHz', '2.5 core_i9', '2.3 GHz amd_a4',\n",
       "       '1.6 GHz core_i7_1065g7', '1.1 GHz apple_ci7', 'corei7_1065g7',\n",
       "       '1.2 GHz apple_ci7', '2.9 GHz Core_i7_3520M', '1.1 GHz apple_ci5',\n",
       "       '4.1 GHz apple_ci5', '3.4 GHz core_i3_1005g1', '2.4 GHz core_i3',\n",
       "       '2.1 GHz Mediatek_8389_Quadcore', '5.1 GHz apple_ci7',\n",
       "       '1.1 GHz intel_core_m', '1.1 GHz celeron_d',\n",
       "       '2 GHz MediaTek_MT8125', '1.1 GHz mediatek_helio',\n",
       "       '2.6 GHz celeron_d', '2.6 GHz apple_ci3', '5 GHz corei7_10875h',\n",
       "       '2.3 GHz', '2.6 hertz celeron_n4000', '2.4 GHz amd_a6',\n",
       "       '1.3 GHz core_i5_1035g1', '1.8 GHz core_i7_8750h',\n",
       "       '1.1 GHz Pentium_T4200', '1.8 GHz intel_atom',\n",
       "       '2.4 GHz A_Series_Dual_Core_A4_4300M',\n",
       "       '600 KHz xeon_platinum_8176f', '2 GHz ryzen_3_3250u',\n",
       "       '4.5 GHz core_i7', '3 GHz amd_ryzen_5_5600x',\n",
       "       '1.1 GHz ryzen_3_3200u', '80c32', '1.1 GHz core_i5_1035g4',\n",
       "       '3.8 GHz ryzen_5_2600h', '1.1 GHz intel_celeron_d',\n",
       "       '1.1 GHz intel_atom', '2.5 GHz Core_i5_4200M',\n",
       "       '1.5 GHz Intel_Celeron_G470', '3.1 GHz apple_ci5',\n",
       "       '2.2 GHz amd_r_series', '3 GHz ryzen_5_4600h',\n",
       "       '1.1 GHz core_m3_8100y', '1.8 GHz celeron_3865u',\n",
       "       '1.9 GHz celeron_n', '2.9 GHz core_i7_family', '2.4 GHz pentium_4',\n",
       "       '1.44 GHz intel_core_i9', '3.4 GHz core_i3_8130u',\n",
       "       '1.1 GHz pentium_dual_core', '1.9 GHz core_i7_family',\n",
       "       '2.3 GHz intel_pentium_d', 'Athlon_2650e', '300 GHz core_i5_8250u',\n",
       "       'core_m', '2.1 GHz Celeron_2955U', '1.8 GHz', '2.6 GHz', '100 KHz',\n",
       "       '1.9 GHz apple_ci7', '2.6 GHz Core_i5_2540M', '2.1 GHz 80486sx',\n",
       "       '1 GHz apple_ci3', '2.5 GHz ryzen_3_2200u', '1.7 ryzen_7',\n",
       "       '1.7 GHz MediaTek_MT8125', '1.1 MHz celeron_n3050',\n",
       "       '2.4 GHz amd_a4', '2.3 GHz celeron_n3350',\n",
       "       '2.6 GHz amd_ryzen_3_1300x', '2.8 GHz intel_xeon',\n",
       "       '3200 hertz core_i5_family', '2 GHz core_i7', '1.9 GHz a_series',\n",
       "       '2.3 GHz pentium_other', '2133 MHz apple_ci7',\n",
       "       '2.5 GHz Core_i7_640UM', '1.44 MHz pentium_n4200',\n",
       "       '1.7 GHz core_i5_family', '3.7 GHz ryzen_5_3500u',\n",
       "       '1.83 GHz intel_atom', '2.1 GHz Mediatek_8317_Dual_Core',\n",
       "       '2.5 GHz amd_r_series', '4.2 GHz core_i5_10210u',\n",
       "       '5.3 GHz core_i9', '1.7 GHz mtk_8121', '5 GHz core_i7_family',\n",
       "       '1.8 GHz pentium_dual_core', '1.5 GHz amd_a4',\n",
       "       '2 GHz celeron_j3355', '3.6 GHz ryzen_5_2500u',\n",
       "       '1 GHz core_i5_10210u', '2.7 GHz core_i7', '2.2 GHz core_m_6y30',\n",
       "       'ryzen_5_3500u', '2.2 GHz core_i3_family', '1.44 GHz atom_zZ8300',\n",
       "       '2.5 GHz amd_a_series', '1.4 GHz Atom_N230', '4.1 GHz apple_ci7',\n",
       "       '2.16 GHz celeron', '1.1 GHz core_m', '1.92 GHz cortex',\n",
       "       '1.92 GHz a10_7700k', '1 GHz Intel_Mobile_CPU',\n",
       "       '1.7 GHz 1_2GHz_Cortex_A8', '1.1 GHz core_i7', '1.4 GHz apple_a4',\n",
       "       '1.6 GHz Core_i5_760', '2 GHz ryzen_5_2500u', '6x86mx',\n",
       "       '4.1 GHz core_i7', '1.7 GHz core_i5',\n",
       "       'a_series_dual_core_a4_3300m', '1600 MHz intel_celeron_d',\n",
       "       '2.2 GHz athlon_silver_3050U', '1.6 GHz celeron_n3050',\n",
       "       '1.83 GHz celeron', '2.3 GHz core_i3', '1.4 GHz intel_atom',\n",
       "       '3.8 GHz 8032', '4.4 GHz apple_ci5', '2.9 GHz core_i5_family',\n",
       "       '2.3 GHz core_i7_family', '3 hertz celeron_n4000',\n",
       "       '3.7 GHz amd_c_series', '4 GHz amd_ryzen_7', '2 GHz apple_ci3',\n",
       "       '2.3 GHz ryzen_5', '3 GHz apple_ci3', '2.6 GHz amd_ryzen_5_3450u',\n",
       "       '2.8 MHz celeron_n3350', '3.3 ryzen_5', '1.1 GHz Celeron_585',\n",
       "       '3.3 GHz apple_ci5', '1.3 GHz core_i3_10110u',\n",
       "       '1.3 GHz core_i3_family', '1.1 GHz Intel_Celeron_G470',\n",
       "       '2.3 GHz celeron_j3455', '2.4 GHz athlon_silver_3050U',\n",
       "       '2.3 GHz ryzen_5_3500u', 'a_series_dual_core_a4_3310m',\n",
       "       '2.3 GHz core_i5_6200u', '1 GHz', '2.9 GHz',\n",
       "       '1.1 MHz celeron_n4020', '900 MHz core_i7',\n",
       "       '1.1 GHz core_i7_family', '2.4 GHz Core_i5_2310', 'core_i5_10210u',\n",
       "       '210', 'none', 'celeron_n', '1.1 MHz celeron_n3450', '1.3 GHz',\n",
       "       '3.9 GHz core_i5', '2.9 GHz 8032', '4.9 GHz core_i9',\n",
       "       '4.4 GHz apple_ci7', '1.6 GHz core_i5_8400t', '3.7 GHz ryzen_5',\n",
       "       '2 GHz athlon', '2.4 corei7_1065g7', 'ryzen_5_4500u',\n",
       "       'amd_r_series', '2 GHz none', '2.58 GHz celeron', '2.4 core_i7',\n",
       "       '2.9 core_i7', '2.1 GHz amd_ryzen_5_3450u', '8031'], dtype=object)"
      ]
     },
     "execution_count": 165,
     "metadata": {},
     "output_type": "execute_result"
    }
   ],
   "source": [
    "# Domain:\n",
    "\n",
    "df.Processor.unique()"
   ]
  },
  {
   "cell_type": "markdown",
   "id": "aboriginal-cycling",
   "metadata": {},
   "source": [
    "### This column is Continuous and Numeric (Ordered)\n",
    "\n",
    "#### Description: Processor speed pf each specific laptop\n"
   ]
  },
  {
   "cell_type": "markdown",
   "id": "narrow-salvation",
   "metadata": {},
   "source": [
    "## 19. Processor Brand"
   ]
  },
  {
   "cell_type": "code",
   "execution_count": 191,
   "id": "compatible-joshua",
   "metadata": {},
   "outputs": [
    {
     "data": {
      "text/plain": [
       "<AxesSubplot:>"
      ]
     },
     "execution_count": 191,
     "metadata": {},
     "output_type": "execute_result"
    },
    {
     "data": {
      "image/png": "[encoded data removed]",
      "text/plain": [
       "<Figure size 432x288 with 1 Axes>"
      ]
     },
     "metadata": {
      "needs_background": "light"
     },
     "output_type": "display_data"
    }
   ],
   "source": [
    "# Top 10 Most common Processor Brand\n",
    "\n",
    "fig, ax = plt.subplots()\n",
    "df['Processor Brand'].value_counts()[:10].plot(ax=ax, kind='bar')"
   ]
  },
  {
   "cell_type": "code",
   "execution_count": 167,
   "id": "matched-liberty",
   "metadata": {},
   "outputs": [
    {
     "data": {
      "text/plain": [
       "array(['AMD', 'Intel', 'Mediatek', nan, 'Intel Core i5-1135G7',\n",
       "       'Intel Core i7-1185G7', 'Intel Core i7-1165G7', 'Ryzen',\n",
       "       'AMD Ryzen 5 3500C', 'Samsung', 'Qualcomm', 'AMD Ryzen 5 4600U',\n",
       "       'NVIDIA', 'Allwinner', 'Intel Celeron Processor J4115', 'ARM',\n",
       "       'Unknown', 'Intel Core i5-1145G7', 'VIA', 'MediaTek Helio',\n",
       "       'Information not Available', 'DMX', 'MedieTek',\n",
       "       'Intel Core i7-10610U', 'MediaTek MT8183',\n",
       "       '10th Gen Intel Comet Lake Core i7-1065G7', 'Atom',\n",
       "       'Intel i7-7500U', 'Intel® Core™ i7-7500U',\n",
       "       'Intel Celeron processor N3060', 'Rockchip'], dtype=object)"
      ]
     },
     "execution_count": 167,
     "metadata": {},
     "output_type": "execute_result"
    }
   ],
   "source": [
    "# Domain:\n",
    "\n",
    "df['Processor Brand'].unique()"
   ]
  },
  {
   "cell_type": "markdown",
   "id": "expanded-morocco",
   "metadata": {},
   "source": [
    "### This column is Discrete and Nominal\n",
    "\n",
    "#### Description: Processor Brand used in each specific laptop\n"
   ]
  },
  {
   "cell_type": "markdown",
   "id": "regulated-oxford",
   "metadata": {},
   "source": [
    "## 20. Processor Count"
   ]
  },
  {
   "cell_type": "code",
   "execution_count": 168,
   "id": "available-therapist",
   "metadata": {},
   "outputs": [
    {
     "data": {
      "text/plain": [
       "<AxesSubplot:>"
      ]
     },
     "execution_count": 168,
     "metadata": {},
     "output_type": "execute_result"
    },
    {
     "data": {
      "image/png": "[encoded data removed]",
      "text/plain": [
       "<Figure size 432x288 with 1 Axes>"
      ]
     },
     "metadata": {
      "needs_background": "light"
     },
     "output_type": "display_data"
    }
   ],
   "source": [
    "# Top 10 Most common Processor Counts\n",
    "\n",
    "fig, ax = plt.subplots()\n",
    "df['Processor Count'].value_counts()[:5].plot(ax=ax, kind='bar')"
   ]
  },
  {
   "cell_type": "code",
   "execution_count": 169,
   "id": "hollow-homeless",
   "metadata": {},
   "outputs": [
    {
     "data": {
      "text/plain": [
       "array([  4.,   8.,   1.,   2.,   6.,  nan,   5.,  16.,  12.,   9., 600.,\n",
       "         7.,   3.])"
      ]
     },
     "execution_count": 169,
     "metadata": {},
     "output_type": "execute_result"
    }
   ],
   "source": [
    "# Domain:\n",
    "\n",
    "df['Processor Count'].unique()"
   ]
  },
  {
   "cell_type": "markdown",
   "id": "varying-secretary",
   "metadata": {},
   "source": [
    "### This column is Discrete and Numeric\n",
    "\n",
    "#### Description: number of processor used in each specific laptop\n"
   ]
  },
  {
   "cell_type": "markdown",
   "id": "assisted-gross",
   "metadata": {},
   "source": [
    "## 21. Product Dimensions"
   ]
  },
  {
   "cell_type": "code",
   "execution_count": 170,
   "id": "limited-enemy",
   "metadata": {
    "scrolled": true
   },
   "outputs": [
    {
     "data": {
      "text/plain": [
       "<AxesSubplot:>"
      ]
     },
     "execution_count": 170,
     "metadata": {},
     "output_type": "execute_result"
    },
    {
     "data": {
      "image/png": "[encoded data removed]",
      "text/plain": [
       "<Figure size 432x288 with 1 Axes>"
      ]
     },
     "metadata": {
      "needs_background": "light"
     },
     "output_type": "display_data"
    }
   ],
   "source": [
    "# Top 10 Most common  Product Dimensions\n",
    "\n",
    "fig, ax = plt.subplots()\n",
    "df['Product Dimensions'].value_counts()[:10].plot(ax=ax, kind='bar')"
   ]
  },
  {
   "cell_type": "code",
   "execution_count": 171,
   "id": "partial-blocking",
   "metadata": {},
   "outputs": [
    {
     "data": {
      "text/plain": [
       "array(['14.31 x 9.86 x 0.71 inches', '14.31 x 10.04 x 0.9 inches',\n",
       "       '14.18 x 9.21 x 0.7 inches', ..., '0.56 x 8.1 x 11.7 inches',\n",
       "       '0.8 x 8.5 x 12.7 inches', '8.5 x 12.7 x 0.75 inches'],\n",
       "      dtype=object)"
      ]
     },
     "execution_count": 171,
     "metadata": {},
     "output_type": "execute_result"
    }
   ],
   "source": [
    "# Domain:\n",
    "\n",
    "df['Product Dimensions'].unique()"
   ]
  },
  {
   "cell_type": "markdown",
   "id": "protective-journalism",
   "metadata": {},
   "source": [
    "### This column is Continuous and Numeric\n",
    "\n",
    "#### Description:  Product Dimensions used in each specific laptop\n"
   ]
  },
  {
   "cell_type": "markdown",
   "id": "caroline-remainder",
   "metadata": {},
   "source": [
    "## 22. RAM"
   ]
  },
  {
   "cell_type": "code",
   "execution_count": 172,
   "id": "indian-baghdad",
   "metadata": {
    "scrolled": true
   },
   "outputs": [
    {
     "data": {
      "text/plain": [
       "<AxesSubplot:>"
      ]
     },
     "execution_count": 172,
     "metadata": {},
     "output_type": "execute_result"
    },
    {
     "data": {
      "image/png": "[encoded data removed]",
      "text/plain": [
       "<Figure size 432x288 with 1 Axes>"
      ]
     },
     "metadata": {
      "needs_background": "light"
     },
     "output_type": "display_data"
    }
   ],
   "source": [
    "# Top 10 Most common RAM\n",
    "\n",
    "fig, ax = plt.subplots()\n",
    "df['RAM'].value_counts()[:10].plot(ax=ax, kind='bar')"
   ]
  },
  {
   "cell_type": "code",
   "execution_count": 173,
   "id": "limiting-fusion",
   "metadata": {},
   "outputs": [
    {
     "data": {
      "text/plain": [
       "array(['4 GB DDR4', '16 GB DDR4', '8 GB DDR4', '4 GB LPDDR4', '4 GB DDR3',\n",
       "       '12 GB DDR4', '4 GB LPDDR3', '8 DDR4', '8 GB LPDDR4', '4 GB DDR3L',\n",
       "       '8 GB', '16 GB SO-DIMM DDR4', '32 GB DDR4', '16 GB LPDDR4',\n",
       "       '8 GB DDR', '16 GB', nan, '20 GB DDR4', '16 GB SO-DIMM',\n",
       "       '12 GB SDRAM', '8 GB SO-DIMM', '16 GB SDRAM', '8 GB LPDDR3',\n",
       "       '128 GB DDR4', '6 GB LPDDR4', '8 GB SDRAM', '6 GB DDR3L',\n",
       "       '4 GB DDR', '6 GB DDR3', '32 GB SO-DIMM', '6 GB DDR4',\n",
       "       '44 GB SDRAM', '8 GB RAM', '8 GB DDR3', '4 GB', '16 GB LPDDR3',\n",
       "       '32 GB SDRAM', '1 TB LPDDR4', '2 GB', '32 GB SO-DIMM DDR4',\n",
       "       '9 GB LPDDR4', '32 GB LPDDR4', '8 GB DDR3L', '16 GB DDR',\n",
       "       '64 GB DDR4', '24 GB DDR4', '16 GB DDR6', 'DDR4', '4 GB DIMM DDR',\n",
       "       '512 GB LPDDR4', '6 GB', '32 GB', '4 GB SDRAM', '4 GB SO-DIMM',\n",
       "       '12 GB', '12 GB DDR', 'LPDDR4', '48 GB DDR4', '16 DDR4', '4 GB e',\n",
       "       '40 GB', '2 GB DDR3', '256 GB LPDDR4', '12 GB LPDDR4', '64 GB',\n",
       "       '4 GB SO-DIMM DDR4', '8 GB DIMM', '24 GB', '20 GB SDRAM',\n",
       "       '12 GB SO-DIMM', '8 GB SO-DIMM DDR4', '16 GB DIMM', 'DIMM',\n",
       "       '24 GB SDRAM', '4 GB DDR2', '4 GB DRAM', '1 GB', '6 GB LPDDR3',\n",
       "       '8 GB A8', '64 GB DDR3', '20 GB', '16 GB DDR3', '2 GB LPDDR3',\n",
       "       '6 GB DDR', 'SO-DIMM', '64 GB LPDDR4', '2 GB SDRAM', '16 GB DDR5',\n",
       "       '8 GB DDR2', '4 GB SDRAM DDR4', '128 GB', '2 GB DDR3L',\n",
       "       '24 GB SO-DIMM', '4 DDR4', 'SDRAM', '16 GB DDR3L', '600 KB',\n",
       "       'LPDDR3', '12 GB DDR3', '4 LPDDR3', '2 GB DDR',\n",
       "       '4 GB \\u200e4 GB LPDDR4', '32 GB DDR3L', '16 GB GDDR5',\n",
       "       '4 GB SO-DIMM DDR3', '8 GB DRAM', '6 GB SDRAM', 'DDR3', '16',\n",
       "       '8 GB DDR4L'], dtype=object)"
      ]
     },
     "execution_count": 173,
     "metadata": {},
     "output_type": "execute_result"
    }
   ],
   "source": [
    "# Domain:\n",
    "\n",
    "df['RAM'].unique()"
   ]
  },
  {
   "cell_type": "markdown",
   "id": "gentle-attack",
   "metadata": {},
   "source": [
    "### This column is Discrete and Numeric\n",
    "\n",
    "#### Description: size of RAM used in each specific laptop\n"
   ]
  },
  {
   "cell_type": "markdown",
   "id": "aquatic-edition",
   "metadata": {},
   "source": [
    "## 23. Series"
   ]
  },
  {
   "cell_type": "code",
   "execution_count": 174,
   "id": "separate-ferry",
   "metadata": {
    "scrolled": true
   },
   "outputs": [
    {
     "data": {
      "text/plain": [
       "<AxesSubplot:>"
      ]
     },
     "execution_count": 174,
     "metadata": {},
     "output_type": "execute_result"
    },
    {
     "data": {
      "image/png": "[encoded data removed]",
      "text/plain": [
       "<Figure size 432x288 with 1 Axes>"
      ]
     },
     "metadata": {
      "needs_background": "light"
     },
     "output_type": "display_data"
    }
   ],
   "source": [
    "# Top 20 Most common Series\n",
    "\n",
    "fig, ax = plt.subplots()\n",
    "df['Series'].value_counts()[:20].plot(ax=ax, kind='bar')"
   ]
  },
  {
   "cell_type": "code",
   "execution_count": 175,
   "id": "placed-rendering",
   "metadata": {},
   "outputs": [
    {
     "data": {
      "text/plain": [
       "array(['A515-46-R14K', 'PH315-54-760S', 'HP Pavilion 15 Laptop', ...,\n",
       "       '2QU11AA#ABA', 'HPI-1D0F2UT#ABA', 'HPI-153V9UT#ABA'], dtype=object)"
      ]
     },
     "execution_count": 175,
     "metadata": {},
     "output_type": "execute_result"
    }
   ],
   "source": [
    "# Domain:\n",
    "\n",
    "df['Series'].unique()"
   ]
  },
  {
   "cell_type": "markdown",
   "id": "celtic-spank",
   "metadata": {},
   "source": [
    "### This column is Discrete and Nominal\n",
    "\n",
    "#### Description: model Series of each specific laptop\n"
   ]
  },
  {
   "cell_type": "markdown",
   "id": "utility-victor",
   "metadata": {},
   "source": [
    "## 24. Standing screen display size"
   ]
  },
  {
   "cell_type": "code",
   "execution_count": 176,
   "id": "dietary-reggae",
   "metadata": {
    "scrolled": true
   },
   "outputs": [
    {
     "data": {
      "text/plain": [
       "<AxesSubplot:>"
      ]
     },
     "execution_count": 176,
     "metadata": {},
     "output_type": "execute_result"
    },
    {
     "data": {
      "image/png": "[encoded data removed]",
      "text/plain": [
       "<Figure size 432x288 with 1 Axes>"
      ]
     },
     "metadata": {
      "needs_background": "light"
     },
     "output_type": "display_data"
    }
   ],
   "source": [
    "# Top 10 Most common Standing screen display size\n",
    "\n",
    "fig, ax = plt.subplots()\n",
    "df['Standing screen display size'].value_counts()[:10].plot(ax=ax, kind='bar')"
   ]
  },
  {
   "cell_type": "code",
   "execution_count": 177,
   "id": "beginning-marker",
   "metadata": {},
   "outputs": [
    {
     "data": {
      "text/plain": [
       "array(['15.6 Inches', '13.3 Inches', '11.6 Inches', '14 Inches', '14',\n",
       "       '11.6', '15.6', '17.3 Inches', '15 Inches', '15', '17 Inches',\n",
       "       '3 Inches', '13.5 Inches', '12.2 Inches', '13.3', '10.1 Inches',\n",
       "       '17.3', '16 Inches', '13.4 Inches', '14.1 Inches', '12 Inches',\n",
       "       '16.1 Inches', '10.5 Inches', '3', '1 Inches', '13 Inches',\n",
       "       '14.5 Inches', '15.6 Feet', '7 Inches', '3 Centimeters', nan,\n",
       "       '8.9 Inches', '12.5 Inches', '1', '10 Inches', '14.1 Feet',\n",
       "       '0.1 Inches', '1 Centimeters', '8.4 Inches', '14 Feet',\n",
       "       '156 Inches', '0.1', '11.5 Inches', '12.1 Inches', '16',\n",
       "       '14.6 Inches', '7.8 Inches', '11 Inches', '12.3 Inches'],\n",
       "      dtype=object)"
      ]
     },
     "execution_count": 177,
     "metadata": {},
     "output_type": "execute_result"
    }
   ],
   "source": [
    "# Domain:\n",
    "\n",
    "df['Standing screen display size'].unique()"
   ]
  },
  {
   "cell_type": "markdown",
   "id": "rubber-notice",
   "metadata": {},
   "source": [
    "### This column is Continuous and Numeric\n",
    "\n",
    "#### Description: Standing screen display size used in each specific laptop\n"
   ]
  },
  {
   "cell_type": "markdown",
   "id": "amber-surfing",
   "metadata": {},
   "source": [
    "## 25. Wireless Type"
   ]
  },
  {
   "cell_type": "code",
   "execution_count": 178,
   "id": "ordinary-valentine",
   "metadata": {
    "scrolled": true
   },
   "outputs": [
    {
     "data": {
      "text/plain": [
       "<AxesSubplot:>"
      ]
     },
     "execution_count": 178,
     "metadata": {},
     "output_type": "execute_result"
    },
    {
     "data": {
      "image/png": "[encoded data removed]",
      "text/plain": [
       "<Figure size 432x288 with 1 Axes>"
      ]
     },
     "metadata": {
      "needs_background": "light"
     },
     "output_type": "display_data"
    }
   ],
   "source": [
    "# Top 10 Most common Wireless Types\n",
    "\n",
    "fig, ax = plt.subplots()\n",
    "df['Wireless Type'].value_counts()[:10].plot(ax=ax, kind='bar')"
   ]
  },
  {
   "cell_type": "code",
   "execution_count": 179,
   "id": "operating-sauce",
   "metadata": {},
   "outputs": [
    {
     "data": {
      "text/plain": [
       "array(['Bluetooth', '802.11ax', 'Bluetooth, 802.11ax', '802.11ac',\n",
       "       'Bluetooth, 802.11ac', '802.11a/b/g/n/ac, Bluetooth',\n",
       "       'Bluetooth, 802.11a/b/g/n/ac', '801.11ac', '802.11n, 802.11ac',\n",
       "       nan, '802.11a/b/g/n/ac', 'Bluetooth, 802.11a', '802.11a',\n",
       "       '802.11n', 'Bluetooth, 802.11b', '5 GHz Radio Frequency',\n",
       "       '802.11n, Bluetooth', '802.11bgn, 802.11b, 802.11b/g',\n",
       "       'Bluetooth, 802.11a/g/n/ac', '802.11bgn, 802.11ax',\n",
       "       '802.11bgn, 801.11ac', '802.11b/n/ac', 'Bluetooth, 802.11b/n/ac',\n",
       "       '802.11abg', '802.11bgn, 802.11a',\n",
       "       'Bluetooth, 802.11bgn, 802.11ac', 'Bluetooth, 801.11ac',\n",
       "       '5 GHz Radio Frequency, 802.11a/b/g/n, 2.4 GHz Radio Frequency',\n",
       "       '5 GHz Radio Frequency, Bluetooth',\n",
       "       'Bluetooth, 802.11a/b/g/n, 802.11ac', '2.4 GHz Radio Frequency',\n",
       "       'Infrared', 'Bluetooth, 802.11abg', '802.11b',\n",
       "       'Bluetooth, 802.11ax, 801.11ac', '802.11g', '802.11abg, 802.11ac',\n",
       "       '802.11a/b/g/n, 802.11ac', '802.11a/g/n/ac',\n",
       "       '5 GHz Radio Frequency, 802.11ax', '802.11b, 802.11g', '802.11bgn',\n",
       "       'Bluetooth, Infrared', '802.11bgn, 802.11ac',\n",
       "       '802.11abg, 802.11a/b/g/n, 802.11a', '802.11a/b/g/n',\n",
       "       'Bluetooth, 802.11b, 802.11a',\n",
       "       'Bluetooth, 5 GHz Radio Frequency, 802.11ax',\n",
       "       'Bluetooth, 2.4 GHz Radio Frequency',\n",
       "       'Bluetooth, 5 GHz Radio Frequency', '802.11b, 802.11a, 802.11g',\n",
       "       '802.11a/b/g/n/ac, Bluetooth, 802.11ac',\n",
       "       'Bluetooth, 802.11g 108 Mbps, 2.4 GHz Radio Frequency',\n",
       "       '802.11a/b/g/n/ac, 802.11abg, 802.11a/b/g/n, 802.11a',\n",
       "       'Bluetooth, 802.11bgn', 'Bluetooth, 802.11abg, 802.11ac',\n",
       "       '802.11ag, 802.11a, 802.11ac, 802.11a/g/n',\n",
       "       '802.11a/b/g/n/ac, 802.11a/b/g/n, 802.11abg, 802.11a',\n",
       "       'Bluetooth, 5 GHz Radio Frequency, 802.11ac, 2.4 GHz Radio Frequency',\n",
       "       'Bluetooth, 802.11a, 802.11ac',\n",
       "       'Bluetooth, 802.11a/b/g/n/ac, 801.11ac', '802.11a, 802.11ac',\n",
       "       'Bluetooth, 5 GHz Radio Frequency, 802.11ac',\n",
       "       '5 GHz Radio Frequency, 2.4 GHz Radio Frequency',\n",
       "       '802.11ax, 801.11ac', 'Bluetooth, 802.11ax, 802.11ac',\n",
       "       '802.11n, 802.11b, 802.11g',\n",
       "       '802.11bgn, 802.11b, 802.11b/g, 802.11ac',\n",
       "       '802.11a/b/g/n/ac, 802.11abg, 802.11a/b/g/n, 802.11a, 802.11ac',\n",
       "       '802.11n, 802.11b, 802.11a, 802.11g', '802.11ac, 54g',\n",
       "       'Bluetooth, 802.11ag', 'Bluetooth, 802.11bgn, 802.11a',\n",
       "       'Bluetooth, 802.11b, 802.11a, 802.11g'], dtype=object)"
      ]
     },
     "execution_count": 179,
     "metadata": {},
     "output_type": "execute_result"
    }
   ],
   "source": [
    "# Domain:\n",
    "\n",
    "df['Wireless Type'].unique()"
   ]
  },
  {
   "cell_type": "markdown",
   "id": "dominant-bride",
   "metadata": {},
   "source": [
    "### This column is Discrete and Nominal\n",
    "\n",
    "#### Description: Type of wireless used in each specific laptop\n"
   ]
  },
  {
   "cell_type": "markdown",
   "id": "baking-wayne",
   "metadata": {},
   "source": [
    "## 26. price"
   ]
  },
  {
   "cell_type": "code",
   "execution_count": 180,
   "id": "center-norwegian",
   "metadata": {
    "scrolled": true
   },
   "outputs": [
    {
     "data": {
      "text/plain": [
       "<AxesSubplot:>"
      ]
     },
     "execution_count": 180,
     "metadata": {},
     "output_type": "execute_result"
    },
    {
     "data": {
      "image/png": "[encoded data removed]",
      "text/plain": [
       "<Figure size 432x288 with 1 Axes>"
      ]
     },
     "metadata": {
      "needs_background": "light"
     },
     "output_type": "display_data"
    }
   ],
   "source": [
    "# Top 10 Most common prices\n",
    "\n",
    "fig, ax = plt.subplots()\n",
    "df['price'].value_counts()[:10].plot(ax=ax, kind='bar')"
   ]
  },
  {
   "cell_type": "code",
   "execution_count": 181,
   "id": "sweet-election",
   "metadata": {},
   "outputs": [
    {
     "data": {
      "text/plain": [
       "array(['$399.00 ', '$1,228.95 ', '$1,029.97 ', '$555.00 ', '$342.99 ',\n",
       "       '$769.95 ', '$205.00 ', '$1,074.00 ', '$187.00 ', '$379.99 ',\n",
       "       '$705.00 ', '$228.00 ', '$690.00 ', '$505.00 ', nan, '$229.90 ',\n",
       "       '$629.98 ', '$1,455.43 ', '$2,019.00 ', '$415.00 ', '$209.00 ',\n",
       "       '$238.00 ', '$212.00 ', '$1,608.68 ', '$270.00 ', '$179.99 ',\n",
       "       '$668.32 ', '$279.99 ', '$216.99 ', '$549.00 ', '$199.99 ',\n",
       "       '$1,116.99 ', '$638.90 ', '$132.99 ', '$630.00 ', '$1,117.00 ',\n",
       "       '$1,093.66 ', '$1,199.99 ', '$1,248.90 ', '$714.00 ', '$1,499.99 ',\n",
       "       '$2,489.99 ', '$389.00 ', '$439.00 ', '$1,368.13 ', '$848.00 ',\n",
       "       '$879.00 ', '$1,763.66 ', '$459.77 ', '$595.00 ', '$536.00 ',\n",
       "       '$758.00 ', '$1,984.99 ', '$898.99 ', '$387.00 ', '$1,249.00 ',\n",
       "       '$373.00 ', '$947.69 ', '$1,614.99 ', '$360.00 ', '$2,045.00 ',\n",
       "       '$297.99 ', '$1,569.00 ', '$763.99 ', '$240.00 ', '$429.99 ',\n",
       "       '$619.99 ', '$85.00 ', '$795.00 ', '$670.00 ', '$645.90 ',\n",
       "       '$309.00 ', '$708.00 ', '$165.00 ', '$379.00 ', '$499.99 ',\n",
       "       '$224.99 ', '$419.00 ', '$684.00 ', '$499.00 ', '$342.67 ',\n",
       "       '$1,430.00 ', '$862.69 ', '$539.00 ', '$478.00 ', '$1,498.00 ',\n",
       "       '$778.00 ', '$574.99 ', '$528.00 ', '$1,199.00 ', '$2,116.88 ',\n",
       "       '$885.00 ', '$409.99 ', '$1,048.08 ', '$2,199.00 ', '$739.00 ',\n",
       "       '$851.31 ', '$315.00 ', '$1,129.69 ', '$155.90 ', '$728.00 ',\n",
       "       '$889.00 ', '$790.00 ', '$870.99 ', '$202.00 ', '$1,549.97 ',\n",
       "       '$1,298.00 ', '$1,499.00 ', '$556.00 ', '$418.00 ', '$263.00 ',\n",
       "       '$2,199.99 ', '$448.00 ', '$825.88 ', '$769.00 ', '$1,232.99 ',\n",
       "       '$583.00 ', '$565.00 ', '$269.90 ', '$723.45 ', '$799.99 ',\n",
       "       '$825.00 ', '$477.00 ', '$471.95 ', '$745.00 ', '$548.00 ',\n",
       "       '$1,049.99 ', '$239.00 ', '$349.99 ', '$649.00 ', '$465.99 ',\n",
       "       '$409.00 ', '$243.00 ', '$859.99 ', '$768.00 ', '$437.00 ',\n",
       "       '$779.00 ', '$268.99 ', '$225.91 ', '$884.00 ', '$522.00 ',\n",
       "       '$1,429.99 ', '$299.00 ', '$544.00 ', '$469.00 ', '$1,219.00 ',\n",
       "       '$1,689.98 ', '$763.00 ', '$453.00 ', '$657.00 ', '$849.00 ',\n",
       "       '$662.39 ', '$1,249.99 ', '$319.00 ', '$847.00 ', '$648.49 ',\n",
       "       '$819.99 ', '$529.00 ', '$455.00 ', '$1,599.00 ', '$599.99 ',\n",
       "       '$444.99 ', '$819.00 ', '$454.00 ', '$1,269.99 ', '$200.00 ',\n",
       "       '$643.82 ', '$1,359.00 ', '$727.00 ', '$1,037.95 ', '$479.00 ',\n",
       "       '$3,199.00 ', '$899.99 ', '$779.99 ', '$1,362.00 ', '$1,039.00 ',\n",
       "       '$584.97 ', '$719.00 ', '$2,099.00 ', '$1,649.00 ', '$496.97 ',\n",
       "       '$279.00 ', '$669.99 ', '$459.00 ', '$356.00 ', '$575.00 ',\n",
       "       '$1,439.99 ', '$429.00 ', '$4,999.00 ', '$737.70 ', '$559.00 ',\n",
       "       '$1,729.00 ', '$533.00 ', '$1,907.88 ', '$3,749.99 ', '$675.00 ',\n",
       "       '$554.00 ', '$2,899.99 ', '$1,785.00 ', '$339.00 ', '$509.00 ',\n",
       "       '$689.99 ', '$834.00 ', '$894.99 ', '$679.00 ', '$311.99 ',\n",
       "       '$519.99 ', '$737.00 ', '$166.00 ', '$999.99 ', '$447.88 ',\n",
       "       '$219.99 ', '$257.44 ', '$852.00 ', '$1,549.99 ', '$2,399.00 ',\n",
       "       '$179.13 ', '$869.00 ', '$725.99 ', '$264.99 ', '$699.00 ',\n",
       "       '$529.89 ', '$1,279.00 ', '$747.01 ', '$507.95 ', '$2,599.00 ',\n",
       "       '$929.00 ', '$2,309.00 ', '$599.00 ', '$195.00 ', '$189.50 ',\n",
       "       '$899.00 ', '$1,029.99 ', '$193.99 ', '$1,059.99 ', '$1,009.00 ',\n",
       "       '$999.00 ', '$688.88 ', '$1,299.00 ', '$869.99 ', '$645.99 ',\n",
       "       '$265.00 ', '$715.00 ', '$804.99 ', '$969.00 ', '$579.00 ',\n",
       "       '$383.99 ', '$615.22 ', '$479.99 ', '$1,229.98 ', '$519.00 ',\n",
       "       '$399.99 ', '$599.88 ', '$248.00 ', '$909.00 ', '$441.71 ',\n",
       "       '$739.99 ', '$349.95 ', '$719.97 ', '$569.99 ', '$529.99 ',\n",
       "       '$929.99 ', '$234.49 ', '$1,399.99 ', '$799.00 ', '$444.49 ',\n",
       "       '$839.00 ', '$1,437.87 ', '$1,749.00 ', '$1,724.99 ', '$1,697.65 ',\n",
       "       '$765.96 ', '$1,529.99 ', '$1,574.38 ', '$1,399.00 ', '$659.00 ',\n",
       "       '$1,039.99 ', '$314.00 ', '$1,940.00 ', '$2,799.00 ', '$649.99 ',\n",
       "       '$369.00 ', '$356.99 ', '$1,849.00 ', '$699.99 ', '$844.99 ',\n",
       "       '$368.98 ', '$449.00 ', '$1,899.00 ', '$432.56 ', '$1,620.00 ',\n",
       "       '$221.00 ', '$1,707.00 ', '$759.00 ', '$279.89 ', '$889.78 ',\n",
       "       '$253.00 ', '$189.99 ', '$1,209.00 ', '$1,189.99 ', '$178.97 ',\n",
       "       '$629.99 ', '$275.99 ', '$314.35 ', '$1,686.88 ', '$329.00 ',\n",
       "       '$298.99 ', '$1,069.00 ', '$1,079.99 ', '$648.99 ', '$1,738.00 ',\n",
       "       '$312.95 ', '$879.99 ', '$269.00 ', '$688.89 ', '$545.00 ',\n",
       "       '$2,599.99 ', '$949.00 ', '$857.99 ', '$619.00 ', '$835.67 ',\n",
       "       '$674.95 ', '$845.00 ', '$1,118.99 ', '$427.00 ', '$650.00 ',\n",
       "       '$794.00 ', '$726.00 ', '$324.00 ', '$979.00 ', '$1,129.00 ',\n",
       "       '$933.81 ', '$4,299.00 ', '$459.99 ', '$549.90 ', '$599.98 ',\n",
       "       '$582.00 ', '$336.00 ', '$849.99 ', '$652.26 ', '$174.00 ',\n",
       "       '$623.00 ', '$294.00 ', '$939.99 ', '$319.71 ', '$189.00 ',\n",
       "       '$549.99 ', '$2,415.72 ', '$679.89 ', '$401.80 ', '$198.00 ',\n",
       "       '$235.00 ', '$91.06 ', '$699.94 ', '$174.74 ', '$2,699.99 ',\n",
       "       '$965.00 ', '$2,999.99 ', '$696.00 ', '$1,229.00 ', '$749.00 ',\n",
       "       '$1,880.42 ', '$242.00 ', '$175.00 ', '$350.00 ', '$628.95 ',\n",
       "       '$1,699.00 ', '$2,040.00 ', '$309.99 ', '$1,999.00 ', '$1,029.00 ',\n",
       "       '$1,149.99 ', '$637.97 ', '$2,433.76 ', '$227.00 ', '$355.92 ',\n",
       "       '$430.00 ', '$1,475.95 ', '$1,636.00 ', '$1,349.00 ', '$316.63 ',\n",
       "       '$1,149.00 ', '$254.82 ', '$685.11 ', '$2,738.04 ', '$1,099.89 ',\n",
       "       '$808.00 ', '$747.99 ', '$559.99 ', '$388.00 ', '$928.05 ',\n",
       "       '$1,099.97 ', '$329.99 ', '$209.99 ', '$1,798.49 ', '$168.89 ',\n",
       "       '$1,129.99 ', '$1,179.00 ', '$394.49 ', '$639.99 ', '$727.25 ',\n",
       "       '$822.99 ', '$785.00 ', '$234.00 ', '$806.50 ', '$1,798.89 ',\n",
       "       '$1,588.00 ', '$1,058.00 ', '$2,383.31 ', '$749.99 ', '$567.99 ',\n",
       "       '$862.00 ', '$300.00 ', '$218.86 ', '$1,048.36 ', '$219.00 ',\n",
       "       '$1,849.99 ', '$169.99 ', '$1,349.99 ', '$1,259.00 ', '$1,622.00 ',\n",
       "       '$2,469.99 ', '$349.00 ', '$431.95 ', '$223.00 ', '$289.99 ',\n",
       "       '$1,799.99 ', '$1,989.00 ', '$629.00 ', '$1,480.65 ', '$717.99 ',\n",
       "       '$1,739.00 ', '$859.26 ', '$339.99 ', '$1,131.31 ', '$1,439.00 ',\n",
       "       '$515.99 ', '$743.95 ', '$1,649.99 ', '$1,365.00 ', '$277.01 ',\n",
       "       '$939.00 ', '$2,869.00 ', '$1,365.55 ', '$1,440.00 ', '$558.00 ',\n",
       "       '$1,449.00 ', '$319.95 ', '$299.95 ', '$1,246.99 ', '$1,775.00 ',\n",
       "       '$289.00 ', '$567.00 ', '$4,199.00 ', '$329.95 ', '$2,299.99 ',\n",
       "       '$229.00 ', '$764.99 ', '$609.99 ', '$1,089.99 ', '$1,179.99 ',\n",
       "       '$1,139.00 ', '$1,549.00 ', '$804.83 ', '$1,345.00 ', '$1,225.00 ',\n",
       "       '$1,459.00 ', '$758.99 ', '$659.99 ', '$269.99 ', '$519.89 ',\n",
       "       '$2,699.00 ', '$199.05 ', '$1,949.00 ', '$1,699.99 ', '$2,788.88 ',\n",
       "       '$351.98 ', '$288.00 ', '$1,270.42 ', '$318.00 ', '$254.99 ',\n",
       "       '$789.99 ', '$372.00 ', '$2,999.00 ', '$158.86 ', '$889.99 ',\n",
       "       '$639.00 ', '$345.94 ', '$1,537.90 ', '$353.66 ', '$199.00 ',\n",
       "       '$398.00 ', '$294.24 ', '$1,751.00 ', '$1,824.65 ', '$886.08 ',\n",
       "       '$632.70 ', '$184.88 ', '$249.00 ', '$1,039.50 ', '$1,799.00 ',\n",
       "       '$780.00 ', '$1,049.00 ', '$787.10 ', '$1,199.55 ', '$3,599.99 ',\n",
       "       '$699.90 ', '$489.99 ', '$1,629.99 ', '$214.95 ', '$249.99 ',\n",
       "       '$324.99 ', '$399.90 ', '$569.00 ', '$873.00 ', '$829.00 ',\n",
       "       '$365.00 ', '$489.00 ', '$609.00 ', '$274.99 ', '$484.05 ',\n",
       "       '$1,927.31 ', '$305.10 ', '$1,089.00 ', '$2,179.00 ', '$389.99 ',\n",
       "       '$1,155.99 ', '$1,159.00 ', '$2,332.38 ', '$1,748.99 ', '$257.95 ',\n",
       "       '$578.00 ', '$1,534.30 ', '$406.36 ', '$353.46 ', '$2,349.00 ',\n",
       "       '$145.00 ', '$572.99 ', '$218.78 ', '$919.99 ', '$1,798.95 ',\n",
       "       '$989.00 ', '$290.00 ', '$789.00 ', '$249.89 ', '$208.40 ',\n",
       "       '$408.29 ', '$1,517.45 ', '$268.81 ', '$260.00 ', '$485.00 ',\n",
       "       '$1,548.00 ', '$874.00 ', '$244.49 ', '$728.99 ', '$1,629.00 ',\n",
       "       '$686.83 ', '$2,398.99 ', '$1,479.99 ', '$1,638.00 ', '$499.87 ',\n",
       "       '$1,318.88 ', '$247.00 ', '$337.57 ', '$1,051.04 ', '$344.99 ',\n",
       "       '$667.00 ', '$305.41 ', '$198.99 ', '$1,938.00 ', '$229.63 ',\n",
       "       '$1,879.00 ', '$1,999.11 ', '$468.00 ', '$724.97 ', '$359.00 ',\n",
       "       '$1,680.99 ', '$713.00 ', '$919.98 ', '$239.99 ', '$483.60 ',\n",
       "       '$1,598.00 ', '$204.00 ', '$268.88 ', '$792.00 ', '$390.00 ',\n",
       "       '$449.99 ', '$175.95 ', '$446.00 ', '$779.95 ', '$644.99 ',\n",
       "       '$259.00 ', '$1,579.00 ', '$1,079.94 ', '$669.00 ', '$1,619.00 ',\n",
       "       '$682.99 ', '$589.00 ', '$1,095.00 ', '$1,097.99 ', '$281.98 ',\n",
       "       '$694.99 ', '$282.99 ', '$1,239.99 ', '$299.99 ', '$525.00 ',\n",
       "       '$413.14 ', '$159.00 ', '$215.00 ', '$1,829.99 ', '$224.00 ',\n",
       "       '$2,459.99 ', '$859.00 ', '$334.99 ', '$249.95 ', '$379.95 ',\n",
       "       '$267.98 ', '$4,499.99 ', '$1,197.00 ', '$270.99 ', '$977.45 ',\n",
       "       '$190.00 ', '$250.51 ', '$218.00 ', '$214.00 ', '$357.99 ',\n",
       "       '$1,995.00 ', '$1,739.99 ', '$809.99 ', '$334.00 ', '$291.00 ',\n",
       "       '$304.99 ', '$228.95 ', '$1,651.99 ', '$275.00 ', '$638.49 ',\n",
       "       '$522.62 ', '$357.34 ', '$210.00 ', '$2,499.00 ', '$1,823.13 ',\n",
       "       '$1,159.99 ', '$585.00 ', '$316.99 ', '$384.61 ', '$924.99 ',\n",
       "       '$258.95 ', '$1,689.00 ', '$1,229.99 ', '$579.99 ', '$170.19 ',\n",
       "       '$305.00 ', '$1,209.99 ', '$269.66 ', '$2,119.99 ', '$1,226.89 ',\n",
       "       '$246.00 ', '$524.90 ', '$323.09 ', '$1,383.98 ', '$619.90 ',\n",
       "       '$470.00 ', '$469.99 ', '$392.95 ', '$199.68 ', '$484.10 ',\n",
       "       '$369.99 ', '$287.00 ', '$395.00 ', '$424.95 ', '$1,170.00 ',\n",
       "       '$999.59 ', '$408.20 ', '$1,759.99 ', '$183.90 ', '$164.99 ',\n",
       "       '$509.99 ', '$486.00 ', '$1,297.39 ', '$719.99 ', '$1,599.99 ',\n",
       "       '$668.00 ', '$539.99 ', '$1,288.00 ', '$1,325.97 ', '$1,749.99 ',\n",
       "       '$578.98 ', '$886.90 ', '$344.00 ', '$2,442.97 ', '$591.68 ',\n",
       "       '$2,488.88 ', '$958.18 ', '$267.29 ', '$2,999.11 ', '$754.99 ',\n",
       "       '$1,511.99 ', '$1,299.99 ', '$1,666.00 ', '$398.90 ', '$949.99 ',\n",
       "       '$625.00 ', '$570.00 ', '$306.00 ', '$279.74 ', '$366.99 ',\n",
       "       '$381.00 ', '$510.00 ', '$2,749.99 ', '$419.99 ', '$798.75 ',\n",
       "       '$259.99 ', '$310.00 ', '$2,670.56 ', '$679.99 ', '$298.00 ',\n",
       "       '$374.99 ', '$3,449.99 ', '$1,882.13 ', '$373.49 ', '$757.88 ',\n",
       "       '$2,369.99 ', '$3,399.00 ', '$2,089.28 ', '$822.00 ', '$662.99 ',\n",
       "       '$378.00 ', '$688.00 ', '$2,173.12 ', '$280.00 ', '$958.00 ',\n",
       "       '$495.00 ', '$881.00 ', '$1,130.00 ', '$2,133.01 ', '$924.00 ',\n",
       "       '$362.99 ', '$1,467.99 ', '$847.33 ', '$1,666.99 ', '$226.99 ',\n",
       "       '$1,729.99 ', '$500.00 ', '$262.00 ', '$2,071.07 ', '$278.00 ',\n",
       "       '$201.39 ', '$1,288.33 ', '$969.99 ', '$825.60 ', '$2,149.00 ',\n",
       "       '$1,973.25 ', '$1,595.27 ', '$347.59 ', '$3,078.00 ', '$559.89 ',\n",
       "       '$320.00 ', '$1,075.10 ', '$788.88 ', '$448.66 ', '$794.95 ',\n",
       "       '$1,159.90 ', '$354.75 ', '$1,355.60 ', '$370.00 ', '$1,719.99 ',\n",
       "       '$584.00 ', '$179.83 ', '$839.99 ', '$2,010.36 ', '$1,395.99 ',\n",
       "       '$1,799.33 ', '$208.89 ', '$1,355.00 ', '$662.67 ', '$217.00 ',\n",
       "       '$634.00 ', '$254.90 ', '$323.03 ', '$1,546.99 ', '$1,499.11 ',\n",
       "       '$208.75 ', '$1,082.89 ', '$951.42 ', '$655.00 ', '$426.69 ',\n",
       "       '$1,550.00 ', '$1,684.54 ', '$725.00 ', '$535.00 ', '$2,149.99 ',\n",
       "       '$1,100.00 ', '$1,947.74 ', '$365.99 ', '$250.00 ', '$211.00 ',\n",
       "       '$1,416.11 ', '$729.00 ', '$268.00 ', '$1,999.44 ', '$811.94 ',\n",
       "       '$406.99 ', '$983.99 ', '$690.63 ', '$940.00 ', '$3,799.99 ',\n",
       "       '$246.48 ', '$1,360.00 ', '$2,849.00 ', '$1,166.74 ', '$1,825.00 ',\n",
       "       '$313.04 ', '$797.00 ', '$1,109.00 ', '$1,659.00 ', '$1,138.00 ',\n",
       "       '$1,449.99 ', '$244.99 ', '$245.00 ', '$285.00 ', '$1,085.66 ',\n",
       "       '$568.00 ', '$319.99 ', '$829.99 ', '$674.75 ', '$991.59 ',\n",
       "       '$964.66 ', '$866.89 ', '$322.14 ', '$288.95 ', '$599.97 ',\n",
       "       '$580.00 ', '$794.69 ', '$1,649.98 ', '$1,105.00 ', '$1,319.99 ',\n",
       "       '$456.00 ', '$287.54 ', '$264.37 ', '$1,495.00 ', '$1,434.74 ',\n",
       "       '$2,180.00 ', '$1,375.00 ', '$1,338.99 ', '$1,528.99 ', '$938.57 ',\n",
       "       '$345.00 ', '$2,377.34 ', '$777.00 ', '$1,750.00 ', '$257.58 ',\n",
       "       '$1,110.66 ', '$815.11 ', '$1,669.00 ', '$521.80 ', '$1,824.99 ',\n",
       "       '$1,865.00 ', '$1,119.99 ', '$1,148.88 ', '$729.99 ', '$695.00 ',\n",
       "       '$518.76 ', '$548.60 ', '$2,099.99 ', '$718.67 ', '$1,623.00 ',\n",
       "       '$503.72 ', '$282.00 ', '$585.40 ', '$2,674.90 ', '$1,249.98 ',\n",
       "       '$293.17 ', '$864.99 ', '$646.23 ', '$771.36 ', '$231.90 ',\n",
       "       '$494.75 ', '$1,415.66 ', '$333.00 ', '$1,294.55 ', '$579.90 ',\n",
       "       '$1,186.05 ', '$748.99 ', '$523.71 ', '$432.54 ', '$1,099.95 ',\n",
       "       '$1,099.99 ', '$1,255.30 ', '$2,049.00 ', '$300.11 ', '$1,127.20 ',\n",
       "       '$684.75 ', '$964.39 ', '$1,099.00 ', '$631.05 ', '$1,426.35 ',\n",
       "       '$1,595.00 ', '$775.51 ', '$2,321.27 '], dtype=object)"
      ]
     },
     "execution_count": 181,
     "metadata": {},
     "output_type": "execute_result"
    }
   ],
   "source": [
    "# Domain:\n",
    "\n",
    "df['price'].unique()"
   ]
  },
  {
   "cell_type": "markdown",
   "id": "incomplete-westminster",
   "metadata": {},
   "source": [
    "### This column is Continuous and Numeric (Ordered)\n",
    "\n",
    "#### Description: price of each specific laptop\n"
   ]
  },
  {
   "cell_type": "markdown",
   "id": "brave-ecology",
   "metadata": {},
   "source": [
    "## 27. rating"
   ]
  },
  {
   "cell_type": "code",
   "execution_count": 182,
   "id": "progressive-scheme",
   "metadata": {
    "scrolled": true
   },
   "outputs": [
    {
     "data": {
      "text/plain": [
       "<AxesSubplot:>"
      ]
     },
     "execution_count": 182,
     "metadata": {},
     "output_type": "execute_result"
    },
    {
     "data": {
      "image/png": "[encoded data removed]",
      "text/plain": [
       "<Figure size 432x288 with 1 Axes>"
      ]
     },
     "metadata": {
      "needs_background": "light"
     },
     "output_type": "display_data"
    }
   ],
   "source": [
    "# Top 10 Most common ratings\n",
    "\n",
    "fig, ax = plt.subplots()\n",
    "df['rating'].value_counts()[:10].plot(ax=ax, kind='bar')"
   ]
  },
  {
   "cell_type": "code",
   "execution_count": 192,
   "id": "choice-change",
   "metadata": {},
   "outputs": [
    {
     "data": {
      "text/plain": [
       "array(['4.6', '4.7', '4.5', '4.2', '4.4', '4.3', '3.8', '3.9', '4', '4.8',\n",
       "       '4.1', '3.3', '5', '3', '3.4', '3.7', 'Pre', '2.7', '1', '3.6',\n",
       "       '3.5', '1.5', '4.9', '2.9', '2', '2.8', '1.8', '3.1', '3.2', nan,\n",
       "       '2.5', '1.6', '2.3', '2.6', '2.4', '2.2'], dtype=object)"
      ]
     },
     "execution_count": 192,
     "metadata": {},
     "output_type": "execute_result"
    }
   ],
   "source": [
    "# Domain (0-5):\n",
    "\n",
    "df['rating'].unique()"
   ]
  },
  {
   "cell_type": "markdown",
   "id": "comfortable-connectivity",
   "metadata": {},
   "source": [
    "### This column is Continuous and Numeric\n",
    "\n",
    "#### Description: rating of users for each specific laptop\n"
   ]
  },
  {
   "cell_type": "markdown",
   "id": "attached-dictionary",
   "metadata": {},
   "source": [
    "## 28. Hardware Platform"
   ]
  },
  {
   "cell_type": "code",
   "execution_count": 184,
   "id": "phantom-board",
   "metadata": {
    "scrolled": true
   },
   "outputs": [
    {
     "data": {
      "text/plain": [
       "<AxesSubplot:>"
      ]
     },
     "execution_count": 184,
     "metadata": {},
     "output_type": "execute_result"
    },
    {
     "data": {
      "image/png": "[encoded data removed]",
      "text/plain": [
       "<Figure size 432x288 with 1 Axes>"
      ]
     },
     "metadata": {
      "needs_background": "light"
     },
     "output_type": "display_data"
    }
   ],
   "source": [
    "# Top 10 Most common Hardware Platform\n",
    "\n",
    "fig, ax = plt.subplots()\n",
    "df['Hardware Platform'].value_counts()[:10].plot(ax=ax, kind='bar')"
   ]
  },
  {
   "cell_type": "code",
   "execution_count": 185,
   "id": "contemporary-completion",
   "metadata": {},
   "outputs": [
    {
     "data": {
      "text/plain": [
       "array([nan, 'PC', 'Chrome', 'Chromebook', 'Google', 'Linux', 'Windows',\n",
       "       'Chrome OS', '2-in-1 Laptop', 'A315-56-594', 'Unknown', 'Solid',\n",
       "       'Laptop, PC', 'Android',\n",
       "       'Gaming and Entertainment Laptop Computer', 'Window',\n",
       "       'Home and Buseinss 2 in 1 Laptop', 'Mac', 'PC, Linux', 'Unix',\n",
       "       'Laptop', 'Business laptop', 'PC; Notebook', 'Hedwig 18C2',\n",
       "       'Home and Business Laptop'], dtype=object)"
      ]
     },
     "execution_count": 185,
     "metadata": {},
     "output_type": "execute_result"
    }
   ],
   "source": [
    "# Domain:\n",
    "\n",
    "df['Hardware Platform'].unique()"
   ]
  },
  {
   "cell_type": "markdown",
   "id": "violent-trustee",
   "metadata": {},
   "source": [
    "### This column is Discrete and Nominal\n",
    "\n",
    "#### Description: Hardware Platform used in each specific laptop\n"
   ]
  }
 ],
 "metadata": {
  "kernelspec": {
   "display_name": "Python 3",
   "language": "python",
   "name": "python3"
  },
  "language_info": {
   "codemirror_mode": {
    "name": "ipython",
    "version": 3
   },
   "file_extension": ".py",
   "mimetype": "text/x-python",
   "name": "python",
   "nbconvert_exporter": "python",
   "pygments_lexer": "ipython3",
   "version": "3.8.6"
  }
 },
 "nbformat": 4,
 "nbformat_minor": 5
}
