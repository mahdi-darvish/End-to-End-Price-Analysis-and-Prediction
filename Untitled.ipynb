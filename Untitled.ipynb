{
 "cells": [
  {
   "cell_type": "markdown",
   "id": "honest-center",
   "metadata": {},
   "source": [
    "# Amazon Scrapper\n"
   ]
  },
  {
   "cell_type": "markdown",
   "id": "another-banana",
   "metadata": {},
   "source": [
    "### Requirements"
   ]
  },
  {
   "cell_type": "code",
   "execution_count": 1,
   "id": "registered-plumbing",
   "metadata": {},
   "outputs": [],
   "source": [
    "import csv\n",
    "from bs4 import BeautifulSoup"
   ]
  },
  {
   "cell_type": "code",
   "execution_count": 2,
   "id": "growing-phenomenon",
   "metadata": {
    "scrolled": true
   },
   "outputs": [],
   "source": [
    "from selenium import webdriver"
   ]
  },
  {
   "cell_type": "markdown",
   "id": "single-corpus",
   "metadata": {},
   "source": [
    "## Starting Web Driver"
   ]
  },
  {
   "cell_type": "code",
   "execution_count": 51,
   "id": "coated-interest",
   "metadata": {},
   "outputs": [],
   "source": [
    "driver = webdriver.Chrome()"
   ]
  },
  {
   "cell_type": "code",
   "execution_count": 4,
   "id": "mathematical-enough",
   "metadata": {},
   "outputs": [],
   "source": [
    "url = \"https://www.amazon.com/s?i=computers-intl-ship&bbn=16225007011&rh=n%3A16225007011%2Cn%3A13896617011%2Cn%3A565108&dc\""
   ]
  },
  {
   "cell_type": "code",
   "execution_count": 5,
   "id": "special-payday",
   "metadata": {},
   "outputs": [],
   "source": [
    "driver.get(url)"
   ]
  },
  {
   "cell_type": "markdown",
   "id": "tested-proportion",
   "metadata": {},
   "source": [
    "## Collection"
   ]
  },
  {
   "cell_type": "code",
   "execution_count": 29,
   "id": "unusual-introduction",
   "metadata": {},
   "outputs": [],
   "source": [
    "soup = BeautifulSoup(driver.page_source, 'html.parser')"
   ]
  },
  {
   "cell_type": "code",
   "execution_count": 67,
   "id": "patient-lloyd",
   "metadata": {},
   "outputs": [],
   "source": [
    "results = soup.find_all('a', {\"class\": \"a-link-normal a-text-normal\"}, href=True)"
   ]
  },
  {
   "cell_type": "code",
   "execution_count": 68,
   "id": "fifth-rebel",
   "metadata": {
    "scrolled": true
   },
   "outputs": [
    {
     "ename": "TypeError",
     "evalue": "'NoneType' object is not subscriptable",
     "output_type": "error",
     "traceback": [
      "\u001b[1;31m---------------------------------------------------------------------------\u001b[0m",
      "\u001b[1;31mTypeError\u001b[0m                                 Traceback (most recent call last)",
      "\u001b[1;32m<ipython-input-68-b2899e8b55b7>\u001b[0m in \u001b[0;36m<module>\u001b[1;34m\u001b[0m\n\u001b[1;32m----> 1\u001b[1;33m \u001b[0mprint\u001b[0m\u001b[1;33m(\u001b[0m\u001b[0mresults\u001b[0m\u001b[1;33m[\u001b[0m\u001b[1;36m0\u001b[0m\u001b[1;33m]\u001b[0m\u001b[1;33m.\u001b[0m\u001b[0mget\u001b[0m\u001b[1;33m(\u001b[0m\u001b[1;34m'href'\u001b[0m\u001b[1;33m)\u001b[0m\u001b[1;33m)\u001b[0m\u001b[1;33m\u001b[0m\u001b[1;33m\u001b[0m\u001b[0m\n\u001b[0m",
      "\u001b[1;31mTypeError\u001b[0m: 'NoneType' object is not subscriptable"
     ]
    }
   ],
   "source": [
    "print(results[0].get('href'))"
   ]
  },
  {
   "cell_type": "code",
   "execution_count": 47,
   "id": "destroyed-frontier",
   "metadata": {
    "scrolled": true
   },
   "outputs": [],
   "source": [
    "urls = []\n",
    "for html in results:\n",
    "    href = html.get('href')\n",
    "    href = 'https://www.amazon.com/' + href\n",
    "    urls.append(href)"
   ]
  },
  {
   "cell_type": "code",
   "execution_count": 52,
   "id": "infectious-volunteer",
   "metadata": {},
   "outputs": [],
   "source": [
    "url = urls[0]\n",
    "driver.get(url)"
   ]
  },
  {
   "cell_type": "code",
   "execution_count": 69,
   "id": "finnish-temperature",
   "metadata": {},
   "outputs": [],
   "source": [
    "soup = BeautifulSoup(driver.page_source, 'html.parser')\n",
    "results = soup.find('span', {\"id\": \"priceblock_ourprice\"})"
   ]
  },
  {
   "cell_type": "code",
   "execution_count": 72,
   "id": "coral-genre",
   "metadata": {},
   "outputs": [
    {
     "data": {
      "text/plain": [
       "'$499.00'"
      ]
     },
     "execution_count": 72,
     "metadata": {},
     "output_type": "execute_result"
    }
   ],
   "source": [
    "results.text"
   ]
  },
  {
   "cell_type": "code",
   "execution_count": 76,
   "id": "executed-criterion",
   "metadata": {},
   "outputs": [
    {
     "data": {
      "text/plain": [
       "'4.2'"
      ]
     },
     "execution_count": 76,
     "metadata": {},
     "output_type": "execute_result"
    }
   ],
   "source": [
    "results = soup.find('span', {\"class\": \"a-icon-alt\"})\n",
    "results.text[:3]"
   ]
  },
  {
   "cell_type": "code",
   "execution_count": 103,
   "id": "driven-valve",
   "metadata": {},
   "outputs": [],
   "source": [
    "data = []\n",
    "data2 = []\n",
    "table = soup.find('table', attrs={'id':'productDetails_techSpec_section_1'})\n",
    "table_body = table.find('tbody')\n",
    "\n",
    "rows = table_body.find_all('tr')\n",
    "for row in rows:\n",
    "    key = row.find_all('th')\n",
    "    value = row.find_all('td')\n",
    "    keys = [ele.text.strip() for ele in key]\n",
    "    values = [ele.text.strip() for ele in value]\n",
    "    data.append(keys)\n",
    "    data2.append(values[1:])\n",
    "\n",
    "attrs = {}\n",
    "\n",
    "# for i in range(len(data)):\n",
    "#     attrs[data[i]] = data2[i]"
   ]
  },
  {
   "cell_type": "code",
   "execution_count": 101,
   "id": "ignored-modem",
   "metadata": {},
   "outputs": [
    {
     "data": {
      "text/plain": [
       "[['Standing screen display size'],\n",
       " ['Max Screen Resolution'],\n",
       " ['Processor'],\n",
       " ['RAM'],\n",
       " ['Hard Drive'],\n",
       " ['Chipset Brand'],\n",
       " ['Card Description'],\n",
       " ['Wireless Type'],\n",
       " ['Number of USB 2.0 Ports'],\n",
       " ['Number of USB 3.0 Ports']]"
      ]
     },
     "execution_count": 101,
     "metadata": {},
     "output_type": "execute_result"
    }
   ],
   "source": [
    "data"
   ]
  },
  {
   "cell_type": "code",
   "execution_count": null,
   "id": "available-index",
   "metadata": {},
   "outputs": [],
   "source": []
  }
 ],
 "metadata": {
  "kernelspec": {
   "display_name": "Python 3",
   "language": "python",
   "name": "python3"
  },
  "language_info": {
   "codemirror_mode": {
    "name": "ipython",
    "version": 3
   },
   "file_extension": ".py",
   "mimetype": "text/x-python",
   "name": "python",
   "nbconvert_exporter": "python",
   "pygments_lexer": "ipython3",
   "version": "3.8.6"
  }
 },
 "nbformat": 4,
 "nbformat_minor": 5
}
